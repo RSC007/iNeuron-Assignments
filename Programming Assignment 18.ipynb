{
 "cells": [
  {
   "cell_type": "code",
   "execution_count": 1,
   "id": "43c337e5",
   "metadata": {},
   "outputs": [],
   "source": [
    "# Question 1\n",
    "# Create a function that takes a list of non-negative integers and strings and return a new list\n",
    "# without the strings."
   ]
  },
  {
   "cell_type": "code",
   "execution_count": 4,
   "id": "85a665c2",
   "metadata": {},
   "outputs": [
    {
     "data": {
      "text/plain": [
       "[1, 2, 3]"
      ]
     },
     "execution_count": 4,
     "metadata": {},
     "output_type": "execute_result"
    }
   ],
   "source": [
    "def filter_list(array):\n",
    "    intergers = []\n",
    "    for i in array:\n",
    "        if (type(i) == int):\n",
    "            intergers.append(i)\n",
    "    return intergers\n",
    "\n",
    "filter_list([1,2,3,\"re\",\"rw\"])"
   ]
  },
  {
   "cell_type": "code",
   "execution_count": 5,
   "id": "264f6173",
   "metadata": {},
   "outputs": [],
   "source": [
    "# Question 2\n",
    "# The &quot;Reverser&quot; takes a string as input and returns that string in reverse order, with the\n",
    "# opposite case."
   ]
  },
  {
   "cell_type": "code",
   "execution_count": 15,
   "id": "8571625e",
   "metadata": {},
   "outputs": [
    {
     "data": {
      "text/plain": [
       "'HSEKIHSUr ETTIHc '"
      ]
     },
     "execution_count": 15,
     "metadata": {},
     "output_type": "execute_result"
    }
   ],
   "source": [
    "def reverseString(sentence):\n",
    "    out_put = \"\"\n",
    "    for string in sentence.split():\n",
    "        reverse = string[::-1]\n",
    "        last_ele = reverse[-1].lower()\n",
    "        rest_ele = reverse[:-1].upper()\n",
    "        result = rest_ele+last_ele\n",
    "        out_put += result+\" \"\n",
    "    return out_put\n",
    "\n",
    "reverseString(\"Rushikesh Chitte\")"
   ]
  },
  {
   "cell_type": "code",
   "execution_count": 16,
   "id": "928fce60",
   "metadata": {},
   "outputs": [],
   "source": [
    "# Question 4\n",
    "# Write a function that calculates the factorial of a number recursively."
   ]
  },
  {
   "cell_type": "code",
   "execution_count": 17,
   "id": "6ced00fb",
   "metadata": {},
   "outputs": [
    {
     "data": {
      "text/plain": [
       "120"
      ]
     },
     "execution_count": 17,
     "metadata": {},
     "output_type": "execute_result"
    }
   ],
   "source": [
    "def factorial(num):\n",
    "    if num == 1:\n",
    "        return 1\n",
    "    return num * factorial(num-1)\n",
    "\n",
    "factorial(5)"
   ]
  },
  {
   "cell_type": "code",
   "execution_count": 18,
   "id": "8733eea3",
   "metadata": {},
   "outputs": [],
   "source": [
    "# Question 5\n",
    "# Write a function that moves all elements of one type to the end of the list."
   ]
  },
  {
   "cell_type": "code",
   "execution_count": 20,
   "id": "bf238658",
   "metadata": {},
   "outputs": [
    {
     "data": {
      "text/plain": [
       "[1, 2, 4, 4, 1, 3]"
      ]
     },
     "execution_count": 20,
     "metadata": {},
     "output_type": "execute_result"
    }
   ],
   "source": [
    "def move_to_end(array, element):\n",
    "    collection = array.copy()\n",
    "    collection.remove(element)\n",
    "    collection.append(element)\n",
    "    return collection\n",
    "    \n",
    "    \n",
    "move_to_end([1, 3, 2, 4, 4, 1], 3)"
   ]
  },
  {
   "cell_type": "code",
   "execution_count": null,
   "id": "da90c251",
   "metadata": {},
   "outputs": [],
   "source": []
  }
 ],
 "metadata": {
  "kernelspec": {
   "display_name": "Python 3 (ipykernel)",
   "language": "python",
   "name": "python3"
  },
  "language_info": {
   "codemirror_mode": {
    "name": "ipython",
    "version": 3
   },
   "file_extension": ".py",
   "mimetype": "text/x-python",
   "name": "python",
   "nbconvert_exporter": "python",
   "pygments_lexer": "ipython3",
   "version": "3.8.10"
  }
 },
 "nbformat": 4,
 "nbformat_minor": 5
}

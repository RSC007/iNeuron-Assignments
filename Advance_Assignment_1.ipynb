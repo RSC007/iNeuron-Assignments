{
 "cells": [
  {
   "cell_type": "code",
   "execution_count": 2,
   "id": "8345fd29",
   "metadata": {},
   "outputs": [],
   "source": [
    "# Q1. What is the purpose of Python's OOP?"
   ]
  },
  {
   "cell_type": "code",
   "execution_count": 3,
   "id": "496dfb44",
   "metadata": {},
   "outputs": [],
   "source": [
    "# object-oriented Programming (OOPs) is a programming that uses objects and classes in programming. \n",
    "# It aims to implement real-world entities like inheritance, polymorphisms, encapsulation, etc"
   ]
  },
  {
   "cell_type": "code",
   "execution_count": 4,
   "id": "3994b107",
   "metadata": {},
   "outputs": [],
   "source": [
    "# Q2. Where does an inheritance search look for an attribute?"
   ]
  },
  {
   "cell_type": "code",
   "execution_count": 5,
   "id": "a6149fa4",
   "metadata": {},
   "outputs": [],
   "source": [
    "# Inheritance is the procedure in which one class inherits the attributes and methods of another class"
   ]
  },
  {
   "cell_type": "code",
   "execution_count": 6,
   "id": "123990d7",
   "metadata": {},
   "outputs": [],
   "source": [
    "# Q3. How do you distinguish between a class object and an instance object?"
   ]
  },
  {
   "cell_type": "code",
   "execution_count": 7,
   "id": "e87acced",
   "metadata": {},
   "outputs": [],
   "source": [
    "# Class : a specification, blueprint for an object\n",
    "# Object : physical presence of the class in memory\n",
    "# Instance : an unique copy of the object (same structure, different data)"
   ]
  },
  {
   "cell_type": "code",
   "execution_count": 8,
   "id": "ac3b48b8",
   "metadata": {},
   "outputs": [],
   "source": [
    "# Q4. What makes the first argument in a class’s method function special?"
   ]
  },
  {
   "cell_type": "code",
   "execution_count": 9,
   "id": "6c9536ff",
   "metadata": {},
   "outputs": [],
   "source": [
    "# The first argument of every class method, including init, is always a reference to the current instance of the class.\n",
    "# By convention, this argument is always named self. In the init method, self refers to the newly created object;\n",
    "# in other class methods, it refers to the instance whose method was called"
   ]
  },
  {
   "cell_type": "code",
   "execution_count": 10,
   "id": "8c40f20a",
   "metadata": {},
   "outputs": [],
   "source": [
    "# Q5. What is the purpose of the __init__ method?"
   ]
  },
  {
   "cell_type": "code",
   "execution_count": 11,
   "id": "437f66b5",
   "metadata": {},
   "outputs": [],
   "source": [
    "# Ans : It act as constructor in class to initialize the variables"
   ]
  },
  {
   "cell_type": "code",
   "execution_count": 12,
   "id": "bcdf7921",
   "metadata": {},
   "outputs": [],
   "source": [
    "# Q6. What is the process for creating a class instance?"
   ]
  },
  {
   "cell_type": "code",
   "execution_count": 13,
   "id": "97d059fc",
   "metadata": {},
   "outputs": [],
   "source": [
    "# Ans: The new operator requires a single, postfix argument: a call to a constructor. The name of the constructor\n",
    "# provides the name of the class to instantiate. The constructor initializes the new object."
   ]
  },
  {
   "cell_type": "code",
   "execution_count": 14,
   "id": "3f4baac8",
   "metadata": {},
   "outputs": [],
   "source": [
    "# Q7. What is the process for creating a class?"
   ]
  },
  {
   "cell_type": "code",
   "execution_count": 15,
   "id": "bea7a386",
   "metadata": {},
   "outputs": [],
   "source": [
    "# Ans:  Creating a new class creates a new type of object, allowing new instances of that type to be made."
   ]
  },
  {
   "cell_type": "code",
   "execution_count": 16,
   "id": "3b34df1c",
   "metadata": {},
   "outputs": [],
   "source": [
    "# Q8. How would you define the superclasses of a class?"
   ]
  },
  {
   "cell_type": "code",
   "execution_count": 17,
   "id": "8b19f728",
   "metadata": {},
   "outputs": [],
   "source": [
    "# A superclass is the class from which many subclasses can be created. The subclasses inherit the characteristics of\n",
    "# a superclass. The superclass is also known as the parent class or base class. In the above example,\n",
    "# Vehicle is the Superclass and its subclasses are Car, Truck and Motorcycle"
   ]
  },
  {
   "cell_type": "code",
   "execution_count": null,
   "id": "f1cf2416",
   "metadata": {},
   "outputs": [],
   "source": []
  }
 ],
 "metadata": {
  "kernelspec": {
   "display_name": "Python 3 (ipykernel)",
   "language": "python",
   "name": "python3"
  },
  "language_info": {
   "codemirror_mode": {
    "name": "ipython",
    "version": 3
   },
   "file_extension": ".py",
   "mimetype": "text/x-python",
   "name": "python",
   "nbconvert_exporter": "python",
   "pygments_lexer": "ipython3",
   "version": "3.9.7"
  }
 },
 "nbformat": 4,
 "nbformat_minor": 5
}

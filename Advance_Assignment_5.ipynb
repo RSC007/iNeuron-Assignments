{
 "cells": [
  {
   "cell_type": "code",
   "execution_count": 1,
   "id": "4ce999c5",
   "metadata": {},
   "outputs": [],
   "source": [
    "# Q1. What is the meaning of multiple inheritance?"
   ]
  },
  {
   "cell_type": "code",
   "execution_count": 2,
   "id": "867eb44d",
   "metadata": {},
   "outputs": [],
   "source": [
    "# Ans : You can access different class code in current class be inherting"
   ]
  },
  {
   "cell_type": "code",
   "execution_count": 3,
   "id": "ca3e0232",
   "metadata": {},
   "outputs": [],
   "source": [
    "# Q2. What is the concept of delegation?"
   ]
  },
  {
   "cell_type": "code",
   "execution_count": 4,
   "id": "87d70805",
   "metadata": {},
   "outputs": [],
   "source": [
    "# the delegation pattern is an object-oriented design pattern that allows object composition to achieve the same code\n",
    "# reuse as inheritance."
   ]
  },
  {
   "cell_type": "code",
   "execution_count": 5,
   "id": "201f7372",
   "metadata": {},
   "outputs": [],
   "source": [
    "# Q3. What is the concept of composition?"
   ]
  },
  {
   "cell_type": "code",
   "execution_count": 6,
   "id": "0489d688",
   "metadata": {},
   "outputs": [],
   "source": [
    "# Ans:  It describes a class that references one or more objects of other classes in instance variables."
   ]
  },
  {
   "cell_type": "code",
   "execution_count": 7,
   "id": "87c1878e",
   "metadata": {},
   "outputs": [],
   "source": [
    "# Q4. What are bound methods and how do we use them?"
   ]
  },
  {
   "cell_type": "code",
   "execution_count": 8,
   "id": "dd35d5ea",
   "metadata": {},
   "outputs": [],
   "source": [
    "# Ans: A bound method is the one which is dependent on the instance of the class as the first argument.\n",
    "# It passes the instance as the first argument which is used to access the variables and functions."
   ]
  },
  {
   "cell_type": "code",
   "execution_count": 9,
   "id": "425a5c74",
   "metadata": {},
   "outputs": [],
   "source": [
    "# Q5. What is the purpose of pseudoprivate attributes?"
   ]
  },
  {
   "cell_type": "code",
   "execution_count": 10,
   "id": "87b46f5b",
   "metadata": {},
   "outputs": [],
   "source": [
    "# Ans : That is, this feature is mostly intended to avoid namespace collisions in instances, not to restrict access to names in general."
   ]
  },
  {
   "cell_type": "code",
   "execution_count": null,
   "id": "95713f94",
   "metadata": {},
   "outputs": [],
   "source": []
  }
 ],
 "metadata": {
  "kernelspec": {
   "display_name": "Python 3 (ipykernel)",
   "language": "python",
   "name": "python3"
  },
  "language_info": {
   "codemirror_mode": {
    "name": "ipython",
    "version": 3
   },
   "file_extension": ".py",
   "mimetype": "text/x-python",
   "name": "python",
   "nbconvert_exporter": "python",
   "pygments_lexer": "ipython3",
   "version": "3.9.7"
  }
 },
 "nbformat": 4,
 "nbformat_minor": 5
}

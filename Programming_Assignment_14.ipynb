{
 "cells": [
  {
   "cell_type": "code",
   "execution_count": 1,
   "id": "1fddd11c",
   "metadata": {},
   "outputs": [],
   "source": [
    "# Question 1:\n",
    "# Define a class with a generator which can iterate the numbers, which are divisible by\n",
    "# 7, between a given range 0 and n."
   ]
  },
  {
   "cell_type": "code",
   "execution_count": 25,
   "id": "441c028e",
   "metadata": {},
   "outputs": [],
   "source": [
    "class Generator:\n",
    "    def __init__(self, devide: int, max=0):\n",
    "        self.devide = devide\n",
    "        self.max=max\n",
    "        self.value=0\n",
    "        \n",
    "    def __iter__(self):\n",
    "        return self\n",
    "    \n",
    "    def __next__(self):\n",
    "        while self.value < self.max:\n",
    "            if self.max > value:\n",
    "                raise StopIteration\n",
    "            \n",
    "            \n",
    "            for i in range(self.value, self.max):\n",
    "                if i%int(devide) == 0:\n",
    "                    self.value=i\n",
    "                    break\n",
    "            \n",
    "            yield self.value"
   ]
  },
  {
   "cell_type": "code",
   "execution_count": 39,
   "id": "0c450ed9",
   "metadata": {},
   "outputs": [],
   "source": [
    "genrator = Generator(7, 70)"
   ]
  },
  {
   "cell_type": "code",
   "execution_count": 40,
   "id": "c9c06230",
   "metadata": {},
   "outputs": [
    {
     "name": "stdout",
     "output_type": "stream",
     "text": [
      "<generator object Generator.__next__ at 0x7fb6cdebd970>\n"
     ]
    }
   ],
   "source": [
    "print(next(genrator))"
   ]
  },
  {
   "cell_type": "code",
   "execution_count": 41,
   "id": "fb4c6e48",
   "metadata": {},
   "outputs": [],
   "source": [
    "# Question 2:\n",
    "# Write a program to compute the frequency of the words from the input. The output\n",
    "# should output after sorting the key alphanumerically."
   ]
  },
  {
   "cell_type": "code",
   "execution_count": 47,
   "id": "32ec7c54",
   "metadata": {},
   "outputs": [],
   "source": [
    "def frequency(input):\n",
    "    freq = {}\n",
    "\n",
    "    for word in input.split():\n",
    "        freq[word] = freq.get(word, 0) + 1\n",
    "\n",
    "    words = list(freq.keys())\n",
    "    words.sort()\n",
    "\n",
    "    for w in words:\n",
    "        print(f'{w}:{freq[w]}')"
   ]
  },
  {
   "cell_type": "code",
   "execution_count": 49,
   "id": "71b40a83",
   "metadata": {},
   "outputs": [
    {
     "name": "stdout",
     "output_type": "stream",
     "text": [
      "2:2\n",
      "3.:1\n",
      "3?:1\n",
      "New:1\n",
      "Python:5\n",
      "Read:1\n",
      "and:1\n",
      "between:1\n",
      "choosing:1\n",
      "or:2\n",
      "to:1\n"
     ]
    }
   ],
   "source": [
    "frequency('New to Python or choosing between Python 2 and Python 3? Read Python 2 or Python 3.')"
   ]
  },
  {
   "cell_type": "code",
   "execution_count": 50,
   "id": "dbb00c63",
   "metadata": {},
   "outputs": [],
   "source": [
    "# Question 3:\n",
    "\n",
    "# Define a class Person and its two child classes: Male and Female. All classes have a\n",
    "# method &quot;getGender&quot; which can print &quot;Male&quot; for Male class and &quot;Female&quot; for Female\n",
    "# class."
   ]
  },
  {
   "cell_type": "code",
   "execution_count": 53,
   "id": "f12d1714",
   "metadata": {},
   "outputs": [
    {
     "data": {
      "text/plain": [
       "'Male'"
      ]
     },
     "execution_count": 53,
     "metadata": {},
     "output_type": "execute_result"
    }
   ],
   "source": [
    "class Person:\n",
    "    def __init__(self, gender):\n",
    "        self.gender=gender\n",
    "        \n",
    "    def getGender(self):\n",
    "        return self.gender\n",
    "    \n",
    "class Male(Person):\n",
    "    def __init__(self):\n",
    "        super().__init__(\"Male\")\n",
    "        \n",
    "        \n",
    "class Female(Person):\n",
    "    def __init__(self):\n",
    "        super().__init__(\"Female\")\n",
    "        \n",
    "        \n",
    "Female().getGender()\n",
    "Male().getGender()"
   ]
  },
  {
   "cell_type": "code",
   "execution_count": 54,
   "id": "f6066f72",
   "metadata": {},
   "outputs": [],
   "source": [
    "# Question 4:\n",
    "# Please write a program to generate all sentences where subject is in [&quot;I&quot;, &quot;You&quot;] and\n",
    "# verb is in [&quot;Play&quot;, &quot;Love&quot;] and the object is in [&quot;Hockey&quot;,&quot;Football&quot;]."
   ]
  },
  {
   "cell_type": "code",
   "execution_count": 55,
   "id": "6bbba426",
   "metadata": {},
   "outputs": [
    {
     "name": "stdout",
     "output_type": "stream",
     "text": [
      "['I Play hockey', 'I Play football', 'I Love hockey', 'I Love football', 'You Play hockey', 'You Play football', 'You Love hockey', 'You Love football']\n"
     ]
    }
   ],
   "source": [
    "subject = [\"I\", \"You\"]\n",
    "verb = [\"Play\", \"Love\"]\n",
    "obj = [\"hockey\", \"football\"]\n",
    "\n",
    "sentences = []\n",
    "\n",
    "for s in subject:\n",
    "    sentence=\"\"\n",
    "    for v in verb:\n",
    "        for o in obj:\n",
    "            sentence=f\"{s} {v} {o}\"\n",
    "            sentences.append(sentence)\n",
    "            \n",
    "print(sentences)"
   ]
  },
  {
   "cell_type": "code",
   "execution_count": 56,
   "id": "b254648e",
   "metadata": {},
   "outputs": [],
   "source": [
    "# Question 5:\n",
    "# Please write a program to compress and decompress the string &quot;hello world!hello\n",
    "# world!hello world!hello world!&quot;."
   ]
  },
  {
   "cell_type": "code",
   "execution_count": null,
   "id": "622e3cbc",
   "metadata": {},
   "outputs": [],
   "source": [
    "import zlib\n",
    "s = 'hello world!hello world!hello world!hello world!'\n",
    "t = zlib.compress(s)\n",
    "print t\n",
    "print zlib.decompress(t)"
   ]
  },
  {
   "cell_type": "code",
   "execution_count": 64,
   "id": "a65823c5",
   "metadata": {},
   "outputs": [],
   "source": [
    "# Question 6:\n",
    "# Please write a binary search function which searches an item in a sorted list. The\n",
    "# function should return the index of element to be searched in the list."
   ]
  },
  {
   "cell_type": "code",
   "execution_count": 60,
   "id": "8facad46",
   "metadata": {},
   "outputs": [
    {
     "name": "stdout",
     "output_type": "stream",
     "text": [
      "First occurrence of 4 is present at 2\n"
     ]
    }
   ],
   "source": [
    "from bisect import bisect_left\n",
    " \n",
    "def BinarySearch(a, x):\n",
    "    i = bisect_left(a, x)\n",
    "    if i != len(a) and a[i] == x:\n",
    "        return i\n",
    "    else:\n",
    "        return -1\n",
    " \n",
    "a  = [1, 2, 4, 4, 8]\n",
    "x = int(4)\n",
    "res = BinarySearch(a, x)\n",
    "if res == -1:\n",
    "    print(x, \"is absent\")\n",
    "else:\n",
    "    print(\"First occurrence of\", x, \"is present at\", res)"
   ]
  },
  {
   "cell_type": "code",
   "execution_count": null,
   "id": "02756eb6",
   "metadata": {},
   "outputs": [],
   "source": []
  }
 ],
 "metadata": {
  "kernelspec": {
   "display_name": "Python 3 (ipykernel)",
   "language": "python",
   "name": "python3"
  },
  "language_info": {
   "codemirror_mode": {
    "name": "ipython",
    "version": 3
   },
   "file_extension": ".py",
   "mimetype": "text/x-python",
   "name": "python",
   "nbconvert_exporter": "python",
   "pygments_lexer": "ipython3",
   "version": "3.8.10"
  }
 },
 "nbformat": 4,
 "nbformat_minor": 5
}

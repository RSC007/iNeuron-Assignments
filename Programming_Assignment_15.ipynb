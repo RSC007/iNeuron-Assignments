{
 "cells": [
  {
   "cell_type": "code",
   "execution_count": 1,
   "id": "8aef6422",
   "metadata": {},
   "outputs": [],
   "source": [
    "# Question 1:\n",
    "# Please write a program using generator to print the numbers which can be divisible by 5 and\n",
    "# 7 between 0 and n in comma separated form while n is input by console.\n",
    "# Example:\n",
    "# If the following n is given as input to the program:\n",
    "# 100\n",
    "# Then, the output of the program should be:\n",
    "# 0,35,70"
   ]
  },
  {
   "cell_type": "code",
   "execution_count": 33,
   "id": "de9aa5a9",
   "metadata": {},
   "outputs": [],
   "source": [
    "def generator(n):\n",
    "    for i in range(int(n+1)):\n",
    "        if(i%5 == 0 and i%7 == 0):\n",
    "            yield i\n",
    "            \n",
    "        if i == int(n):\n",
    "            yield \"No further result\"\n",
    "        continue "
   ]
  },
  {
   "cell_type": "code",
   "execution_count": 34,
   "id": "617cf148",
   "metadata": {},
   "outputs": [],
   "source": [
    "gen = generator(100)"
   ]
  },
  {
   "cell_type": "code",
   "execution_count": 35,
   "id": "636f9936",
   "metadata": {},
   "outputs": [
    {
     "data": {
      "text/plain": [
       "0"
      ]
     },
     "execution_count": 35,
     "metadata": {},
     "output_type": "execute_result"
    }
   ],
   "source": [
    "next(gen)"
   ]
  },
  {
   "cell_type": "code",
   "execution_count": 36,
   "id": "90165e78",
   "metadata": {},
   "outputs": [
    {
     "data": {
      "text/plain": [
       "35"
      ]
     },
     "execution_count": 36,
     "metadata": {},
     "output_type": "execute_result"
    }
   ],
   "source": [
    "next(gen)"
   ]
  },
  {
   "cell_type": "code",
   "execution_count": 37,
   "id": "e1cb82e9",
   "metadata": {},
   "outputs": [
    {
     "data": {
      "text/plain": [
       "70"
      ]
     },
     "execution_count": 37,
     "metadata": {},
     "output_type": "execute_result"
    }
   ],
   "source": [
    "next(gen)"
   ]
  },
  {
   "cell_type": "code",
   "execution_count": 38,
   "id": "5491027c",
   "metadata": {},
   "outputs": [
    {
     "data": {
      "text/plain": [
       "'No further result'"
      ]
     },
     "execution_count": 38,
     "metadata": {},
     "output_type": "execute_result"
    }
   ],
   "source": [
    "next(gen)"
   ]
  },
  {
   "cell_type": "code",
   "execution_count": 39,
   "id": "033a4e4c",
   "metadata": {},
   "outputs": [],
   "source": [
    "# Question 2:\n",
    "# Please write a program using generator to print the even numbers between 0 and n in comma\n",
    "# separated form while n is input by console.\n",
    "# Example:\n",
    "# If the following n is given as input to the program:\n",
    "# 10\n",
    "# Then, the output of the program should be:\n",
    "# 0,2,4,6,8,10"
   ]
  },
  {
   "cell_type": "code",
   "execution_count": 83,
   "id": "f7d5507d",
   "metadata": {},
   "outputs": [],
   "source": [
    "def even_generator(n):\n",
    "    even=[]\n",
    "    for i in range(int(n)+1):\n",
    "        if i%2 == 0 or i == 0:\n",
    "            even.append(str(i))\n",
    "            yield \",\".join(even)\n",
    "        if i == n:\n",
    "            yield \"No further result\"\n",
    "        continue"
   ]
  },
  {
   "cell_type": "code",
   "execution_count": 84,
   "id": "6b7cf5d3",
   "metadata": {},
   "outputs": [],
   "source": [
    "even = even_generator(10)"
   ]
  },
  {
   "cell_type": "code",
   "execution_count": 85,
   "id": "4576fdb0",
   "metadata": {},
   "outputs": [
    {
     "data": {
      "text/plain": [
       "'0'"
      ]
     },
     "execution_count": 85,
     "metadata": {},
     "output_type": "execute_result"
    }
   ],
   "source": [
    "next(even)"
   ]
  },
  {
   "cell_type": "code",
   "execution_count": 86,
   "id": "75deb832",
   "metadata": {},
   "outputs": [
    {
     "data": {
      "text/plain": [
       "'0,2'"
      ]
     },
     "execution_count": 86,
     "metadata": {},
     "output_type": "execute_result"
    }
   ],
   "source": [
    "next(even)"
   ]
  },
  {
   "cell_type": "code",
   "execution_count": 87,
   "id": "aafa9c7e",
   "metadata": {},
   "outputs": [
    {
     "data": {
      "text/plain": [
       "'0,2,4'"
      ]
     },
     "execution_count": 87,
     "metadata": {},
     "output_type": "execute_result"
    }
   ],
   "source": [
    "next(even)"
   ]
  },
  {
   "cell_type": "code",
   "execution_count": 88,
   "id": "6d91b8a4",
   "metadata": {},
   "outputs": [
    {
     "data": {
      "text/plain": [
       "'0,2,4,6'"
      ]
     },
     "execution_count": 88,
     "metadata": {},
     "output_type": "execute_result"
    }
   ],
   "source": [
    "next(even)"
   ]
  },
  {
   "cell_type": "code",
   "execution_count": 89,
   "id": "822a284d",
   "metadata": {},
   "outputs": [
    {
     "data": {
      "text/plain": [
       "'0,2,4,6,8'"
      ]
     },
     "execution_count": 89,
     "metadata": {},
     "output_type": "execute_result"
    }
   ],
   "source": [
    "next(even)"
   ]
  },
  {
   "cell_type": "code",
   "execution_count": 90,
   "id": "630115da",
   "metadata": {},
   "outputs": [
    {
     "data": {
      "text/plain": [
       "'0,2,4,6,8,10'"
      ]
     },
     "execution_count": 90,
     "metadata": {},
     "output_type": "execute_result"
    }
   ],
   "source": [
    "next(even)"
   ]
  },
  {
   "cell_type": "code",
   "execution_count": 91,
   "id": "1f3fbc83",
   "metadata": {},
   "outputs": [
    {
     "data": {
      "text/plain": [
       "'No further result'"
      ]
     },
     "execution_count": 91,
     "metadata": {},
     "output_type": "execute_result"
    }
   ],
   "source": [
    "next(even)"
   ]
  },
  {
   "cell_type": "code",
   "execution_count": 93,
   "id": "10f34714",
   "metadata": {},
   "outputs": [],
   "source": [
    "# Question 3:\n",
    "# The Fibonacci Sequence is computed based on the following formula:\n",
    "# f(n)=0 if n=0\n",
    "# f(n)=1 if n=1\n",
    "# f(n)=f(n-1)+f(n-2) if n&gt;1\n",
    "# Please write a program using list comprehension to print the Fibonacci Sequence in comma\n",
    "# separated form with a given n input by console.\n",
    "# Example:\n",
    "# If the following n is given as input to the program:\n",
    "# 7\n",
    "\n",
    "# Then, the output of the program should be:\n",
    "# 0,1,1,2,3,5,8,13"
   ]
  },
  {
   "cell_type": "code",
   "execution_count": 112,
   "id": "cf1fd187",
   "metadata": {},
   "outputs": [
    {
     "name": "stdout",
     "output_type": "stream",
     "text": [
      "Enter the number: 7\n"
     ]
    },
    {
     "data": {
      "text/plain": [
       "[0, 1, 1, 2, 3, 5, 8, 13, 21]"
      ]
     },
     "execution_count": 112,
     "metadata": {},
     "output_type": "execute_result"
    }
   ],
   "source": [
    "num = input(\"Enter the number: \")\n",
    "fibonacci_series = [0, 1]\n",
    "\n",
    "# (fibonacci_series.append(fibonacci_series[-2]+fibonacci_series[-1]) )\n",
    "[fibonacci_series.append(fibonacci_series[-2]+fibonacci_series[-1]) for i in range(int(num))]\n",
    "fibonacci_series"
   ]
  },
  {
   "cell_type": "code",
   "execution_count": 113,
   "id": "339dd9e8",
   "metadata": {},
   "outputs": [],
   "source": [
    "# Question 4:\n",
    "# Assuming that we have some email addresses in the &quot;username@companyname.com&quot; format,\n",
    "# please write program to print the user name of a given email address. Both user names and\n",
    "# company names are composed of letters only.\n",
    "# Example:\n",
    "# If the following email address is given as input to the program:\n",
    "# john@google.com\n",
    "# Then, the output of the program should be:\n",
    "# john"
   ]
  },
  {
   "cell_type": "code",
   "execution_count": 116,
   "id": "9915bcd5",
   "metadata": {},
   "outputs": [
    {
     "name": "stdout",
     "output_type": "stream",
     "text": [
      "Enter the email: rushiesk@testCompany.com\n"
     ]
    },
    {
     "data": {
      "text/plain": [
       "('rushiesk', 'testCompany')"
      ]
     },
     "execution_count": 116,
     "metadata": {},
     "output_type": "execute_result"
    }
   ],
   "source": [
    "email = input(\"Enter the email: \")\n",
    "\n",
    "username, companyname = email.split(\"@\")[0], email.split(\"@\")[1].split(\".\")[0] \n",
    "username, companyname"
   ]
  },
  {
   "cell_type": "code",
   "execution_count": 117,
   "id": "10878806",
   "metadata": {},
   "outputs": [],
   "source": [
    "# Question 5:\n",
    "# Define a class named Shape and its subclass Square. The Square class has an init function\n",
    "# which takes a length as argument. Both classes have a area function which can print the area\n",
    "# of the shape where Shape&#39;s area is 0 by default."
   ]
  },
  {
   "cell_type": "code",
   "execution_count": 130,
   "id": "57720c94",
   "metadata": {},
   "outputs": [],
   "source": [
    "class Shape:\n",
    "    def __init__(self, area=0):\n",
    "        self.area = area\n",
    "\n",
    "class Square:\n",
    "    def __init__(self, length):\n",
    "        super().__init__(length)\n"
   ]
  },
  {
   "cell_type": "code",
   "execution_count": 131,
   "id": "67ab76b7",
   "metadata": {},
   "outputs": [
    {
     "data": {
      "text/plain": [
       "0"
      ]
     },
     "execution_count": 131,
     "metadata": {},
     "output_type": "execute_result"
    }
   ],
   "source": [
    "shape = Shape()\n",
    "shape.area"
   ]
  },
  {
   "cell_type": "code",
   "execution_count": null,
   "id": "ce62674d",
   "metadata": {},
   "outputs": [],
   "source": []
  },
  {
   "cell_type": "code",
   "execution_count": null,
   "id": "c4ccf52e",
   "metadata": {},
   "outputs": [],
   "source": []
  },
  {
   "cell_type": "code",
   "execution_count": null,
   "id": "ca841ff4",
   "metadata": {},
   "outputs": [],
   "source": []
  }
 ],
 "metadata": {
  "kernelspec": {
   "display_name": "Python 3 (ipykernel)",
   "language": "python",
   "name": "python3"
  },
  "language_info": {
   "codemirror_mode": {
    "name": "ipython",
    "version": 3
   },
   "file_extension": ".py",
   "mimetype": "text/x-python",
   "name": "python",
   "nbconvert_exporter": "python",
   "pygments_lexer": "ipython3",
   "version": "3.8.10"
  }
 },
 "nbformat": 4,
 "nbformat_minor": 5
}

{
 "cells": [
  {
   "cell_type": "code",
   "execution_count": 1,
   "id": "cc4205c5",
   "metadata": {},
   "outputs": [],
   "source": [
    "# 1. What does an empty dictionary's code look like?"
   ]
  },
  {
   "cell_type": "code",
   "execution_count": 3,
   "id": "82b4f94d",
   "metadata": {},
   "outputs": [],
   "source": [
    "# Ans : {}"
   ]
  },
  {
   "cell_type": "code",
   "execution_count": 4,
   "id": "fb6ee8e2",
   "metadata": {},
   "outputs": [],
   "source": [
    "# 2. What is the value of a dictionary value with the key 'foo' and the value 42?"
   ]
  },
  {
   "cell_type": "code",
   "execution_count": 5,
   "id": "d205c5fb",
   "metadata": {},
   "outputs": [],
   "source": [
    "# Ans : 42"
   ]
  },
  {
   "cell_type": "code",
   "execution_count": 6,
   "id": "75935981",
   "metadata": {},
   "outputs": [],
   "source": [
    "# 3. What is the most significant distinction between a dictionary and a list?"
   ]
  },
  {
   "cell_type": "code",
   "execution_count": 7,
   "id": "accfda02",
   "metadata": {},
   "outputs": [],
   "source": [
    "# Ans:  the main difference is that items in dictionaries are accessed via keys and not via their position"
   ]
  },
  {
   "cell_type": "code",
   "execution_count": 8,
   "id": "4f7f1fe0",
   "metadata": {},
   "outputs": [],
   "source": [
    "# 4. What happens if you try to access spam['foo'] if spam is {'bar': 100}?"
   ]
  },
  {
   "cell_type": "code",
   "execution_count": 11,
   "id": "e21eabe3",
   "metadata": {},
   "outputs": [],
   "source": [
    "# Ans : It will rise the 'KeyError'"
   ]
  },
  {
   "cell_type": "code",
   "execution_count": 12,
   "id": "81d02f4b",
   "metadata": {},
   "outputs": [],
   "source": [
    "# 5. If a dictionary is stored in spam, what is the difference between the expressions 'cat' in spam and\n",
    "# 'cat' in spam.keys()?"
   ]
  },
  {
   "cell_type": "code",
   "execution_count": 5,
   "id": "d452d666",
   "metadata": {},
   "outputs": [],
   "source": [
    "# Ans: There is no difference. The in operator checks whether a value exists as a key in the dictionary."
   ]
  },
  {
   "cell_type": "code",
   "execution_count": 6,
   "id": "2e310f7c",
   "metadata": {},
   "outputs": [],
   "source": [
    "# 6. If a dictionary is stored in spam, what is the difference between the expressions 'cat' in spam and\n",
    "# 'cat' in spam.values()?"
   ]
  },
  {
   "cell_type": "code",
   "execution_count": 7,
   "id": "85d9d7a0",
   "metadata": {},
   "outputs": [],
   "source": [
    "# Ans: There is no difference"
   ]
  },
  {
   "cell_type": "code",
   "execution_count": 9,
   "id": "d5ff4ecf",
   "metadata": {},
   "outputs": [],
   "source": [
    "# 7. What is a shortcut for the following code?\n",
    "# if 'color' not in spam:\n",
    "#     spam['color'] = 'black'"
   ]
  },
  {
   "cell_type": "code",
   "execution_count": 11,
   "id": "39bff19a",
   "metadata": {},
   "outputs": [],
   "source": [
    "# Ans : spam['color'] = 'black' if sapm.index('color') else spam"
   ]
  },
  {
   "cell_type": "code",
   "execution_count": 12,
   "id": "ac4f5365",
   "metadata": {},
   "outputs": [],
   "source": [
    "# 8. How do you \"pretty print\" dictionary values using which module and function?"
   ]
  },
  {
   "cell_type": "code",
   "execution_count": 13,
   "id": "f5b21966",
   "metadata": {},
   "outputs": [],
   "source": [
    "# Ans : import pprint"
   ]
  },
  {
   "cell_type": "code",
   "execution_count": null,
   "id": "ce051c75",
   "metadata": {},
   "outputs": [],
   "source": []
  }
 ],
 "metadata": {
  "kernelspec": {
   "display_name": "Python 3 (ipykernel)",
   "language": "python",
   "name": "python3"
  },
  "language_info": {
   "codemirror_mode": {
    "name": "ipython",
    "version": 3
   },
   "file_extension": ".py",
   "mimetype": "text/x-python",
   "name": "python",
   "nbconvert_exporter": "python",
   "pygments_lexer": "ipython3",
   "version": "3.9.7"
  }
 },
 "nbformat": 4,
 "nbformat_minor": 5
}

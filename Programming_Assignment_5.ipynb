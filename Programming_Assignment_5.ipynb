{
 "cells": [
  {
   "cell_type": "code",
   "execution_count": 1,
   "id": "7da90008",
   "metadata": {},
   "outputs": [],
   "source": [
    "# 1. Write a Python Program to Find LCM?"
   ]
  },
  {
   "cell_type": "code",
   "execution_count": 1,
   "id": "cf141224",
   "metadata": {},
   "outputs": [
    {
     "name": "stdout",
     "output_type": "stream",
     "text": [
      "5\n",
      "10\n"
     ]
    },
    {
     "data": {
      "text/plain": [
       "10"
      ]
     },
     "execution_count": 1,
     "metadata": {},
     "output_type": "execute_result"
    }
   ],
   "source": [
    "def find_lcm(num1, num2):\n",
    "    if num1 > num2:\n",
    "        num1, num2= num2, num1\n",
    "    iteration=1\n",
    "    store=[]\n",
    "    while True:\n",
    "        store.append(num2*iteration)\n",
    "        if num1*iteration in store:\n",
    "            return num1*iteration\n",
    "        else:\n",
    "            iteration+=1\n",
    "        \n",
    "find_lcm(10, 5)"
   ]
  },
  {
   "cell_type": "code",
   "execution_count": 2,
   "id": "f6454211",
   "metadata": {},
   "outputs": [],
   "source": [
    "# 2. Write a Python Program to Find HCF?"
   ]
  },
  {
   "cell_type": "code",
   "execution_count": 4,
   "id": "bfd287d7",
   "metadata": {},
   "outputs": [
    {
     "data": {
      "text/plain": [
       "6"
      ]
     },
     "execution_count": 4,
     "metadata": {},
     "output_type": "execute_result"
    }
   ],
   "source": [
    "def compute_hcf(x, y):\n",
    "    if x > y:\n",
    "        smaller = y\n",
    "    else:\n",
    "        smaller = x\n",
    "    for i in range(1, smaller+1):\n",
    "        if((x % i == 0) and (y % i == 0)):\n",
    "            hcf = i \n",
    "    return hcf\n",
    "\n",
    "compute_hcf(24, 54)"
   ]
  },
  {
   "cell_type": "code",
   "execution_count": 5,
   "id": "5a923456",
   "metadata": {},
   "outputs": [],
   "source": [
    "# 3. Write a Python Program to Convert Decimal to Binary, Octal and Hexadecimal?"
   ]
  },
  {
   "cell_type": "code",
   "execution_count": 6,
   "id": "29605bda",
   "metadata": {},
   "outputs": [
    {
     "data": {
      "text/plain": [
       "['0b10100', '0o24', '0x14']"
      ]
     },
     "execution_count": 6,
     "metadata": {},
     "output_type": "execute_result"
    }
   ],
   "source": [
    "def convertor(num):\n",
    "    return [bin(num), oct(num), hex(num)]\n",
    "\n",
    "convertor(20)"
   ]
  },
  {
   "cell_type": "code",
   "execution_count": 7,
   "id": "7e3c8a16",
   "metadata": {},
   "outputs": [],
   "source": [
    "# 4. Write a Python Program To Find ASCII value of a character?"
   ]
  },
  {
   "cell_type": "code",
   "execution_count": 12,
   "id": "c7a53005",
   "metadata": {},
   "outputs": [
    {
     "data": {
      "text/plain": [
       "68"
      ]
     },
     "execution_count": 12,
     "metadata": {},
     "output_type": "execute_result"
    }
   ],
   "source": [
    "def get_ascci(charector):\n",
    "    return ord(charector)\n",
    "\n",
    "get_ascci('D')"
   ]
  },
  {
   "cell_type": "code",
   "execution_count": 13,
   "id": "4797190a",
   "metadata": {},
   "outputs": [],
   "source": []
  },
  {
   "cell_type": "code",
   "execution_count": 15,
   "id": "ab4e9908",
   "metadata": {},
   "outputs": [
    {
     "data": {
      "text/plain": [
       "300"
      ]
     },
     "execution_count": 15,
     "metadata": {},
     "output_type": "execute_result"
    }
   ],
   "source": [
    "def calculator(action, num1,num2):\n",
    "    if action==\"add\":\n",
    "        return num1+num2\n",
    "    elif action==\"sub\":\n",
    "        return num1-num2\n",
    "    elif action==\"mult\":\n",
    "        return num1*num2\n",
    "    elif action==\"divide\":\n",
    "        return num1/num2\n",
    "    else:\n",
    "        return \"Wrong input\"\n",
    "    \n",
    "calculator(\"add\", 292, 8)\n",
    "    "
   ]
  },
  {
   "cell_type": "code",
   "execution_count": null,
   "id": "8f00bbea",
   "metadata": {},
   "outputs": [],
   "source": []
  }
 ],
 "metadata": {
  "kernelspec": {
   "display_name": "Python 3 (ipykernel)",
   "language": "python",
   "name": "python3"
  },
  "language_info": {
   "codemirror_mode": {
    "name": "ipython",
    "version": 3
   },
   "file_extension": ".py",
   "mimetype": "text/x-python",
   "name": "python",
   "nbconvert_exporter": "python",
   "pygments_lexer": "ipython3",
   "version": "3.8.10"
  }
 },
 "nbformat": 4,
 "nbformat_minor": 5
}

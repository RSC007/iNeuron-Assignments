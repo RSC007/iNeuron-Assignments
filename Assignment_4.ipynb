{
 "cells": [
  {
   "cell_type": "code",
   "execution_count": 1,
   "id": "4eff10e1",
   "metadata": {},
   "outputs": [],
   "source": [
    "# 1. What exactly is []?"
   ]
  },
  {
   "cell_type": "code",
   "execution_count": 1,
   "id": "70363ffa",
   "metadata": {},
   "outputs": [],
   "source": [
    "# Ans : It represent the list"
   ]
  },
  {
   "cell_type": "code",
   "execution_count": 2,
   "id": "c21eb3b1",
   "metadata": {},
   "outputs": [],
   "source": [
    "# 2. In a list of values stored in a variable called spam, how would you assign the value &#39;hello&#39; as the\n",
    "# third value? (Assume [2, 4, 6, 8, 10] are in spam.)"
   ]
  },
  {
   "cell_type": "code",
   "execution_count": 3,
   "id": "be17344f",
   "metadata": {},
   "outputs": [
    {
     "name": "stdout",
     "output_type": "stream",
     "text": [
      "[2, 4, 'hello', 8, 10]\n"
     ]
    }
   ],
   "source": [
    "spam = [2, 4, 6, 8, 10]\n",
    "spam[2] = 'hello'\n",
    "print(spam)"
   ]
  },
  {
   "cell_type": "code",
   "execution_count": 9,
   "id": "cd55ab54",
   "metadata": {},
   "outputs": [],
   "source": [
    "spam = ['a', 'b', 'c', 'd']\n",
    "# 3. What is the value of spam[int(int('3' * 2) / 11)]?"
   ]
  },
  {
   "cell_type": "code",
   "execution_count": 7,
   "id": "21e1a9db",
   "metadata": {},
   "outputs": [
    {
     "data": {
      "text/plain": [
       "'d'"
      ]
     },
     "execution_count": 7,
     "metadata": {},
     "output_type": "execute_result"
    }
   ],
   "source": [
    "# Ans : 'd'"
   ]
  },
  {
   "cell_type": "code",
   "execution_count": 10,
   "id": "669a81cb",
   "metadata": {},
   "outputs": [],
   "source": [
    "# 4. What is the value of spam[-1]?"
   ]
  },
  {
   "cell_type": "code",
   "execution_count": 11,
   "id": "41180439",
   "metadata": {},
   "outputs": [],
   "source": [
    "# Ans: 'd'"
   ]
  },
  {
   "cell_type": "code",
   "execution_count": 12,
   "id": "84d177e3",
   "metadata": {},
   "outputs": [],
   "source": [
    "# 5. What is the value of spam[:2]?"
   ]
  },
  {
   "cell_type": "code",
   "execution_count": 15,
   "id": "8d8f001b",
   "metadata": {},
   "outputs": [],
   "source": [
    "# Ans : ['a', 'b']"
   ]
  },
  {
   "cell_type": "code",
   "execution_count": 18,
   "id": "13dcb459",
   "metadata": {},
   "outputs": [],
   "source": [
    "# Let's pretend  has the list [3.14,'cat', 11, 'cat', True] for the next three questions.\n",
    "bacon = [3.14,'cat', 11, 'cat', True]"
   ]
  },
  {
   "cell_type": "code",
   "execution_count": 19,
   "id": "5f27dd3b",
   "metadata": {},
   "outputs": [],
   "source": [
    "# 6. What is the value of bacon.index('cat')?"
   ]
  },
  {
   "cell_type": "code",
   "execution_count": 22,
   "id": "d846d8d8",
   "metadata": {},
   "outputs": [],
   "source": [
    "# Ans: 1"
   ]
  },
  {
   "cell_type": "code",
   "execution_count": 24,
   "id": "c0fad70a",
   "metadata": {},
   "outputs": [],
   "source": [
    "# 7. How does bacon.append(99) change the look of the list value in bacon?"
   ]
  },
  {
   "cell_type": "code",
   "execution_count": 27,
   "id": "d52879e6",
   "metadata": {},
   "outputs": [],
   "source": [
    "# Ans : [3.14, 'cat', 11, 'cat', True, 99]"
   ]
  },
  {
   "cell_type": "code",
   "execution_count": 28,
   "id": "cf6b0fe0",
   "metadata": {},
   "outputs": [],
   "source": [
    "# 8. How does bacon.remove('cat') change the look of the list in bacon?"
   ]
  },
  {
   "cell_type": "code",
   "execution_count": 30,
   "id": "4feaab4c",
   "metadata": {},
   "outputs": [],
   "source": [
    "# Ans: [3.14, 11, 'cat', True, 99]"
   ]
  },
  {
   "cell_type": "code",
   "execution_count": 31,
   "id": "903ed64e",
   "metadata": {},
   "outputs": [],
   "source": [
    "# 9. What are the list concatenation and list replication operators?"
   ]
  },
  {
   "cell_type": "code",
   "execution_count": 32,
   "id": "9f2a8826",
   "metadata": {},
   "outputs": [],
   "source": [
    "# Ans: + for concatination, * for replicate "
   ]
  },
  {
   "cell_type": "code",
   "execution_count": 33,
   "id": "7d64d255",
   "metadata": {},
   "outputs": [],
   "source": [
    "# 10. What is difference between the list methods append() and insert()?"
   ]
  },
  {
   "cell_type": "code",
   "execution_count": 35,
   "id": "f08d892d",
   "metadata": {},
   "outputs": [],
   "source": [
    "# Ans: 'insert' allow you to add element at specific index, 'append' add element at the end of list "
   ]
  },
  {
   "cell_type": "code",
   "execution_count": 37,
   "id": "2562bc8b",
   "metadata": {},
   "outputs": [],
   "source": [
    "# 11. What are the two methods for removing items from a list?"
   ]
  },
  {
   "cell_type": "code",
   "execution_count": 38,
   "id": "cc716414",
   "metadata": {},
   "outputs": [],
   "source": [
    "# Ans : remove and pop"
   ]
  },
  {
   "cell_type": "code",
   "execution_count": 39,
   "id": "2cda3e00",
   "metadata": {},
   "outputs": [],
   "source": [
    "# 12. Describe how list values and string values are identical."
   ]
  },
  {
   "cell_type": "code",
   "execution_count": 40,
   "id": "6c7e0bce",
   "metadata": {},
   "outputs": [],
   "source": [
    "# Ans : The similarity between Lists and Strings in Python is that both are sequences. The differences between them are that\n",
    "# firstly, Lists are mutable but Strings are immutable. Secondly, elements of a list can be of different types whereas\n",
    "# a String only contains characters that are all of String type."
   ]
  },
  {
   "cell_type": "code",
   "execution_count": 42,
   "id": "8dd12532",
   "metadata": {},
   "outputs": [],
   "source": [
    "# 13. What's the difference between tuples and lists?"
   ]
  },
  {
   "cell_type": "code",
   "execution_count": 43,
   "id": "b83b0249",
   "metadata": {},
   "outputs": [],
   "source": [
    "# Ans : tuples are immutable objects the lists are mutable. This means that tuples cannot be changed while the lists\n",
    "# can be modified. Tuples are more memory efficient than the lists"
   ]
  },
  {
   "cell_type": "code",
   "execution_count": 45,
   "id": "2415e711",
   "metadata": {},
   "outputs": [],
   "source": [
    "# 14. How do you type a tuple value that only contains the integer 42?"
   ]
  },
  {
   "cell_type": "code",
   "execution_count": 51,
   "id": "36ff4d34",
   "metadata": {},
   "outputs": [
    {
     "data": {
      "text/plain": [
       "42"
      ]
     },
     "execution_count": 51,
     "metadata": {},
     "output_type": "execute_result"
    }
   ],
   "source": [
    "temp = tuple('0' * 42)\n",
    "len(temp)"
   ]
  },
  {
   "cell_type": "code",
   "execution_count": 52,
   "id": "20579d68",
   "metadata": {},
   "outputs": [],
   "source": [
    "# 15. How do you get a list value's tuple form? How do you get a tuple value's list form?"
   ]
  },
  {
   "cell_type": "code",
   "execution_count": 57,
   "id": "be92fa8b",
   "metadata": {},
   "outputs": [
    {
     "name": "stdout",
     "output_type": "stream",
     "text": [
      "tupleVariable ('a', 'b', 'c', 'd'), listVariable ['a', 'b', 'c', 'd']\n"
     ]
    }
   ],
   "source": [
    "tempTwo = ['a', 'b', 'c', 'd']\n",
    "tempThree = ('a', 'b', 'c', 'd')\n",
    "\n",
    "tupleVariable = tuple(tempTwo)\n",
    "listVariable = list(tempThree)\n",
    "\n",
    "print(f\"tupleVariable {tupleVariable}, listVariable {listVariable}\")"
   ]
  },
  {
   "cell_type": "code",
   "execution_count": 58,
   "id": "7fe00186",
   "metadata": {},
   "outputs": [],
   "source": [
    "# 16. Variables that 'contain' list values are not necessarily lists themselves. Instead, what do they\n",
    "# contain?"
   ]
  },
  {
   "cell_type": "code",
   "execution_count": 59,
   "id": "2d1045fc",
   "metadata": {},
   "outputs": [],
   "source": [
    "# Ans : String it contain"
   ]
  },
  {
   "cell_type": "code",
   "execution_count": 60,
   "id": "9a3d64c5",
   "metadata": {},
   "outputs": [],
   "source": [
    "# 17. How do you distinguish between copy.copy() and copy.deepcopy()?"
   ]
  },
  {
   "cell_type": "code",
   "execution_count": 61,
   "id": "3536bcbf",
   "metadata": {},
   "outputs": [],
   "source": [
    "# Ans : copy() create reference to original object. If you change copied object - you change the original object.. \n",
    "# deepcopy() creates new object and does real copying of original object to new one. Changing new deepcopied object\n",
    "# doesn't affect original object."
   ]
  },
  {
   "cell_type": "code",
   "execution_count": null,
   "id": "6124e3df",
   "metadata": {},
   "outputs": [],
   "source": []
  }
 ],
 "metadata": {
  "kernelspec": {
   "display_name": "Python 3 (ipykernel)",
   "language": "python",
   "name": "python3"
  },
  "language_info": {
   "codemirror_mode": {
    "name": "ipython",
    "version": 3
   },
   "file_extension": ".py",
   "mimetype": "text/x-python",
   "name": "python",
   "nbconvert_exporter": "python",
   "pygments_lexer": "ipython3",
   "version": "3.9.7"
  }
 },
 "nbformat": 4,
 "nbformat_minor": 5
}

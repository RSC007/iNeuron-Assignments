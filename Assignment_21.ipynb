{
 "cells": [
  {
   "cell_type": "code",
   "execution_count": 1,
   "id": "d3ba1770",
   "metadata": {},
   "outputs": [],
   "source": [
    "# 1. Add the current date to the text file today.txt as a string."
   ]
  },
  {
   "cell_type": "code",
   "execution_count": 7,
   "id": "7c770338",
   "metadata": {},
   "outputs": [],
   "source": [
    "import datetime\n",
    "\n",
    "currenttime = datetime.datetime.now()\n",
    "\n",
    "with open('today.txt', 'w') as file:\n",
    "    file.write(str(currenttime))\n",
    "    \n",
    "with open(currenttime.strftime(\"%d %B %Y\")+\".txt\", \"w\") as file:\n",
    "    file.write(\"\")"
   ]
  },
  {
   "cell_type": "code",
   "execution_count": 8,
   "id": "b231987c",
   "metadata": {},
   "outputs": [],
   "source": [
    "# 2. Read the text file today.txt into the string today_string"
   ]
  },
  {
   "cell_type": "code",
   "execution_count": 18,
   "id": "2172bdb7",
   "metadata": {},
   "outputs": [
    {
     "name": "stdout",
     "output_type": "stream",
     "text": [
      "2022-05-20 17:09:14.103868\n",
      "2022-05-20 17:09:14.103868\n"
     ]
    }
   ],
   "source": [
    "with open('today.txt', 'r') as file:\n",
    "    data = file.read()\n",
    "    print(data)\n",
    "    "
   ]
  },
  {
   "cell_type": "code",
   "execution_count": 10,
   "id": "45311756",
   "metadata": {},
   "outputs": [],
   "source": [
    "# 3. Parse the date from today_string."
   ]
  },
  {
   "cell_type": "code",
   "execution_count": 31,
   "id": "b4f56740",
   "metadata": {},
   "outputs": [
    {
     "data": {
      "text/plain": [
       "datetime.datetime(2022, 5, 20, 17, 9, 14, 103868)"
      ]
     },
     "execution_count": 31,
     "metadata": {},
     "output_type": "execute_result"
    }
   ],
   "source": [
    "datetime.datetime.strptime(data, '%Y-%m-%d %H:%M:%S.%f')"
   ]
  },
  {
   "cell_type": "code",
   "execution_count": 32,
   "id": "d355ef97",
   "metadata": {},
   "outputs": [],
   "source": [
    "# 4. List the files in your current directory"
   ]
  },
  {
   "cell_type": "code",
   "execution_count": 35,
   "id": "7624c45c",
   "metadata": {},
   "outputs": [
    {
     "data": {
      "text/plain": [
       "['.ipynb_checkpoints',\n",
       " '20 May 2022.txt',\n",
       " 'Assignment - 2.ipynb',\n",
       " 'Assignment -3.ipynb',\n",
       " 'Assignment_10.ipynb',\n",
       " 'Assignment_11.ipynb',\n",
       " 'Assignment_12.ipynb',\n",
       " 'Assignment_13.ipynb',\n",
       " 'Assignment_14.ipynb',\n",
       " 'Assignment_15.ipynb',\n",
       " 'Assignment_16.ipynb',\n",
       " 'Assignment_17.ipynb',\n",
       " 'Assignment_18.ipynb',\n",
       " 'Assignment_19.ipynb',\n",
       " 'Assignment_20.ipynb',\n",
       " 'Assignment_21.ipynb',\n",
       " 'Assignment_4.ipynb',\n",
       " 'Assignment_5.ipynb',\n",
       " 'Assignment_6.ipynb',\n",
       " 'Assignment_7.ipynb',\n",
       " 'Assignment_8.ipynb',\n",
       " 'Assignment_9.ipynb',\n",
       " 'book1.db',\n",
       " 'books.csv',\n",
       " 'books.db',\n",
       " 'books.db-journal',\n",
       " 'books1.csv',\n",
       " 'Dummy',\n",
       " 'LeactureTask',\n",
       " 'Projects',\n",
       " 'PyCharm',\n",
       " 'test.txt',\n",
       " 'today.txt',\n",
       " 'untitled.txt',\n",
       " 'zoo.py',\n",
       " '__pycache__']"
      ]
     },
     "execution_count": 35,
     "metadata": {},
     "output_type": "execute_result"
    }
   ],
   "source": [
    "import os\n",
    "dirs = os.listdir()\n",
    "dirs"
   ]
  },
  {
   "cell_type": "code",
   "execution_count": 36,
   "id": "4a51f566",
   "metadata": {},
   "outputs": [],
   "source": [
    "# 5. Create a list of all of the files in your parent directory (minimum five files should be available)."
   ]
  },
  {
   "cell_type": "code",
   "execution_count": 37,
   "id": "b2486114",
   "metadata": {},
   "outputs": [
    {
     "data": {
      "text/plain": [
       "['.ipynb_checkpoints',\n",
       " 'BigDesk',\n",
       " 'bigdesk.lnk',\n",
       " 'BigdeskSetup2.0.7.exe',\n",
       " 'Cisco Webex Meetings.lnk',\n",
       " 'desktop.ini',\n",
       " 'form_validation.html',\n",
       " 'genshards',\n",
       " 'hellobar',\n",
       " 'infinite_scrolling',\n",
       " 'Introduction to CSS preprocessor',\n",
       " 'jstest',\n",
       " 'overTime.PNG',\n",
       " 'p',\n",
       " 'ParthDesktop.zip',\n",
       " 'Python',\n",
       " 'QA-process-checklist.docx',\n",
       " 'react-frontend',\n",
       " 'react-frontend-new',\n",
       " 'react-projects',\n",
       " 'SaleWebDesign.com-Understanding-TypeScript-2020.zip',\n",
       " 'screenshots',\n",
       " 'shoot-web',\n",
       " 'show.PNG',\n",
       " 'solidity',\n",
       " 'truffle',\n",
       " 'ts',\n",
       " 'WEB3',\n",
       " 'Wing',\n",
       " 'word (Rinkesh)',\n",
       " 'yash',\n",
       " 'Yash - Chrome.lnk']"
      ]
     },
     "execution_count": 37,
     "metadata": {},
     "output_type": "execute_result"
    }
   ],
   "source": [
    "dirs = os.listdir(\"../\")\n",
    "dirs"
   ]
  },
  {
   "cell_type": "code",
   "execution_count": 38,
   "id": "03216d62",
   "metadata": {},
   "outputs": [],
   "source": [
    "# 6. Use multiprocessing to create three separate processes. Make each one wait a random number of\n",
    "# seconds between one and five, print the current time, and then exit."
   ]
  },
  {
   "cell_type": "code",
   "execution_count": 39,
   "id": "6c45d006",
   "metadata": {},
   "outputs": [],
   "source": [
    "# 7. Create a date object of your day of birth."
   ]
  },
  {
   "cell_type": "code",
   "execution_count": 44,
   "id": "fc1ad0f4",
   "metadata": {},
   "outputs": [
    {
     "name": "stdout",
     "output_type": "stream",
     "text": [
      "1998-03-16 00:00:00 <class 'datetime.datetime'>\n"
     ]
    }
   ],
   "source": [
    "dob = datetime.datetime(1998, 3, 16)\n",
    "print(dob, type(dob))"
   ]
  },
  {
   "cell_type": "code",
   "execution_count": 45,
   "id": "1803598e",
   "metadata": {},
   "outputs": [],
   "source": [
    "# 8. What day of the week was your day of birth?"
   ]
  },
  {
   "cell_type": "code",
   "execution_count": 46,
   "id": "cbe3e519",
   "metadata": {},
   "outputs": [
    {
     "data": {
      "text/plain": [
       "'Monday'"
      ]
     },
     "execution_count": 46,
     "metadata": {},
     "output_type": "execute_result"
    }
   ],
   "source": [
    "dob.strftime(\"%A\")"
   ]
  },
  {
   "cell_type": "code",
   "execution_count": 47,
   "id": "3bb33cf3",
   "metadata": {},
   "outputs": [],
   "source": [
    "# 9. When will you be (or when were you) 10,000 days old?"
   ]
  },
  {
   "cell_type": "code",
   "execution_count": 48,
   "id": "4cc2fa0a",
   "metadata": {},
   "outputs": [
    {
     "data": {
      "text/plain": [
       "datetime.datetime(2025, 8, 1, 0, 0)"
      ]
     },
     "execution_count": 48,
     "metadata": {},
     "output_type": "execute_result"
    }
   ],
   "source": [
    "dob + datetime.timedelta(days=10000)"
   ]
  },
  {
   "cell_type": "code",
   "execution_count": null,
   "id": "1c1c40c2",
   "metadata": {},
   "outputs": [],
   "source": []
  }
 ],
 "metadata": {
  "kernelspec": {
   "display_name": "Python 3 (ipykernel)",
   "language": "python",
   "name": "python3"
  },
  "language_info": {
   "codemirror_mode": {
    "name": "ipython",
    "version": 3
   },
   "file_extension": ".py",
   "mimetype": "text/x-python",
   "name": "python",
   "nbconvert_exporter": "python",
   "pygments_lexer": "ipython3",
   "version": "3.9.7"
  }
 },
 "nbformat": 4,
 "nbformat_minor": 5
}

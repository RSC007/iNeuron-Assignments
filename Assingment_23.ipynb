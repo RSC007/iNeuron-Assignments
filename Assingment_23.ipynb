{
 "cells": [
  {
   "cell_type": "code",
   "execution_count": 1,
   "id": "b7a979ec",
   "metadata": {},
   "outputs": [
    {
     "name": "stdout",
     "output_type": "stream",
     "text": [
      "1 2 8\n"
     ]
    }
   ],
   "source": [
    "# 1. What is the result of the code, and why?\n",
    "\n",
    "def func(a, b=6, c=8):\n",
    "    print(a,b,c)\n",
    "    \n",
    "func(1,2)"
   ]
  },
  {
   "cell_type": "code",
   "execution_count": 2,
   "id": "a9cd355b",
   "metadata": {},
   "outputs": [],
   "source": [
    "# Ans : c=8 has default value so it  print 8"
   ]
  },
  {
   "cell_type": "code",
   "execution_count": 4,
   "id": "bc092023",
   "metadata": {},
   "outputs": [
    {
     "name": "stdout",
     "output_type": "stream",
     "text": [
      "1 2 3\n"
     ]
    }
   ],
   "source": [
    "# 2. What is the result of this code, and why?\n",
    "\n",
    "def func(a,b,c=5):\n",
    "    print(a,b,c)\n",
    "    \n",
    "func(1, c=3, b=2)"
   ]
  },
  {
   "cell_type": "code",
   "execution_count": 5,
   "id": "2445d641",
   "metadata": {},
   "outputs": [],
   "source": [
    "# Ans : In argument if define the key same as parameters it takes same as the sequence"
   ]
  },
  {
   "cell_type": "code",
   "execution_count": 12,
   "id": "d769fc73",
   "metadata": {},
   "outputs": [
    {
     "name": "stdout",
     "output_type": "stream",
     "text": [
      "1 (2, 3)\n"
     ]
    }
   ],
   "source": [
    "# 3. How about this code: what is its result, and why?\n",
    "\n",
    "def func(a, *pargs):\n",
    "    print(a, pargs)\n",
    "    \n",
    "func(1, 2, 3)"
   ]
  },
  {
   "cell_type": "code",
   "execution_count": 13,
   "id": "3f6ea24a",
   "metadata": {},
   "outputs": [],
   "source": [
    "# Ans : *pargs takes the multiple arguments in tuple formte, so you can number of parameters"
   ]
  },
  {
   "cell_type": "code",
   "execution_count": 19,
   "id": "1328a5b5",
   "metadata": {},
   "outputs": [
    {
     "name": "stdout",
     "output_type": "stream",
     "text": [
      "1 {'c': 3, 'b': 2}\n"
     ]
    }
   ],
   "source": [
    "# 4. What does this code print, and why?\n",
    "\n",
    "def func(a, **kargs):\n",
    "    print(a, kargs)\n",
    "\n",
    "func(a=1, c=3, b=2)"
   ]
  },
  {
   "cell_type": "code",
   "execution_count": 20,
   "id": "b71ba0f5",
   "metadata": {},
   "outputs": [],
   "source": [
    "# Ans : **kwargs takes the dictionary as argument as key value"
   ]
  },
  {
   "cell_type": "code",
   "execution_count": 21,
   "id": "5a20ffb8",
   "metadata": {},
   "outputs": [],
   "source": [
    "# 5. What gets printed by this, and explain?"
   ]
  },
  {
   "cell_type": "code",
   "execution_count": 31,
   "id": "d603f201",
   "metadata": {},
   "outputs": [],
   "source": [
    "def func(a, b, c=8, d=5): print(a, b, c, d)"
   ]
  },
  {
   "cell_type": "code",
   "execution_count": 35,
   "id": "f49d1a7f",
   "metadata": {},
   "outputs": [
    {
     "name": "stdout",
     "output_type": "stream",
     "text": [
      "1 5 6 3\n"
     ]
    }
   ],
   "source": [
    "func(1, *(5, 6))"
   ]
  },
  {
   "cell_type": "code",
   "execution_count": 37,
   "id": "62f614a4",
   "metadata": {},
   "outputs": [],
   "source": [
    "# Ans : Here the argument we are passing three and last one takes its default value\n",
    "# we can pass tuple as argument same for the parameter in function"
   ]
  },
  {
   "cell_type": "code",
   "execution_count": 39,
   "id": "b7a987cc",
   "metadata": {},
   "outputs": [],
   "source": [
    "# 6. what is the result of this, and explain?\n",
    "\n",
    "def func(a, b, c): a = 2; b[0] = 'x'; c['a'] = 'y'"
   ]
  },
  {
   "cell_type": "code",
   "execution_count": 40,
   "id": "c4b8e177",
   "metadata": {},
   "outputs": [],
   "source": [
    "l=1; m=[1]; n={'a':0}"
   ]
  },
  {
   "cell_type": "code",
   "execution_count": 41,
   "id": "cb36dfcc",
   "metadata": {},
   "outputs": [],
   "source": [
    "func(l, m, n)"
   ]
  },
  {
   "cell_type": "code",
   "execution_count": 42,
   "id": "49e9c106",
   "metadata": {},
   "outputs": [
    {
     "data": {
      "text/plain": [
       "(1, ['x'], {'a': 'y'})"
      ]
     },
     "execution_count": 42,
     "metadata": {},
     "output_type": "execute_result"
    }
   ],
   "source": [
    "l, m, n"
   ]
  },
  {
   "cell_type": "code",
   "execution_count": 43,
   "id": "0e6265ef",
   "metadata": {},
   "outputs": [],
   "source": [
    "# Ans : list and dictionary both are mutable, but the variable you cant change them usually"
   ]
  },
  {
   "cell_type": "code",
   "execution_count": null,
   "id": "98281f3f",
   "metadata": {},
   "outputs": [],
   "source": []
  }
 ],
 "metadata": {
  "kernelspec": {
   "display_name": "Python 3 (ipykernel)",
   "language": "python",
   "name": "python3"
  },
  "language_info": {
   "codemirror_mode": {
    "name": "ipython",
    "version": 3
   },
   "file_extension": ".py",
   "mimetype": "text/x-python",
   "name": "python",
   "nbconvert_exporter": "python",
   "pygments_lexer": "ipython3",
   "version": "3.9.7"
  }
 },
 "nbformat": 4,
 "nbformat_minor": 5
}

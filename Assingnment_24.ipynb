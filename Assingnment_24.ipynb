{
 "cells": [
  {
   "cell_type": "code",
   "execution_count": 1,
   "id": "09ec9941",
   "metadata": {},
   "outputs": [],
   "source": [
    "# 1. What is the relationship between def statements and lambda expressions ?"
   ]
  },
  {
   "cell_type": "code",
   "execution_count": 2,
   "id": "4f212d12",
   "metadata": {},
   "outputs": [],
   "source": [
    "# Ans : lambla accept single expression, and limited operation can be performed using lambda functions,\n",
    "# def its easy to interprete and Can consists of any number of execution statements inside the function definition"
   ]
  },
  {
   "cell_type": "code",
   "execution_count": 3,
   "id": "976c87bd",
   "metadata": {},
   "outputs": [],
   "source": [
    "# 2. What is the benefit of lambda?"
   ]
  },
  {
   "cell_type": "code",
   "execution_count": 4,
   "id": "cfefac5c",
   "metadata": {},
   "outputs": [],
   "source": [
    "# Ans : Its an anonymous function here why we dont need o give a name, and its ease while we use in short expresion function"
   ]
  },
  {
   "cell_type": "code",
   "execution_count": 5,
   "id": "4455b62d",
   "metadata": {},
   "outputs": [],
   "source": [
    "# 3. Compare and contrast map, filter, and reduce."
   ]
  },
  {
   "cell_type": "code",
   "execution_count": 7,
   "id": "87e53842",
   "metadata": {},
   "outputs": [],
   "source": [
    "# Ans : map and filter create new array, where filter remove the elements and store in new array, reduce take the all elements in the\n",
    "# array and return single value"
   ]
  },
  {
   "cell_type": "code",
   "execution_count": 8,
   "id": "f87d0a8e",
   "metadata": {},
   "outputs": [],
   "source": [
    "# 4. What are function annotations, and how are they used?"
   ]
  },
  {
   "cell_type": "code",
   "execution_count": 11,
   "id": "968b33d2",
   "metadata": {},
   "outputs": [],
   "source": [
    "# Ans : Function annotations provide a way of associating various parts of a function with arbitrary python expressions at compile time\n",
    "# i.e\n",
    "def test(amount: int, people: 'list'=[])-> int:\n",
    "    pass"
   ]
  },
  {
   "cell_type": "code",
   "execution_count": 12,
   "id": "d4a9a883",
   "metadata": {},
   "outputs": [],
   "source": [
    "# 5. What are recursive functions, and how are they used?"
   ]
  },
  {
   "cell_type": "code",
   "execution_count": 13,
   "id": "9be4de7a",
   "metadata": {},
   "outputs": [],
   "source": [
    "# Ans : recursion funt use to call itself, untill the exit condition setisfied, function we return call inside the same function"
   ]
  },
  {
   "cell_type": "code",
   "execution_count": 14,
   "id": "5f519743",
   "metadata": {},
   "outputs": [],
   "source": [
    "# 6. What are some general design guidelines for coding functions?"
   ]
  },
  {
   "cell_type": "code",
   "execution_count": 15,
   "id": "b8859454",
   "metadata": {},
   "outputs": [],
   "source": [
    "# Limited use of globals\n",
    "# Naming conventions for local variables, global variables, constants and functions\n",
    "# Indentation\n",
    "# Avoid using a coding style that is too difficult to understand\n",
    "# Code should be well documented\n",
    "# Length of functions should not be very large\n",
    "# Try not to use GOTO statement"
   ]
  },
  {
   "cell_type": "code",
   "execution_count": 16,
   "id": "4d7c8408",
   "metadata": {},
   "outputs": [],
   "source": [
    "# 7. Name three or more ways that functions can communicate results to a caller."
   ]
  },
  {
   "cell_type": "code",
   "execution_count": null,
   "id": "9b6c8f0a",
   "metadata": {},
   "outputs": [],
   "source": []
  }
 ],
 "metadata": {
  "kernelspec": {
   "display_name": "Python 3 (ipykernel)",
   "language": "python",
   "name": "python3"
  },
  "language_info": {
   "codemirror_mode": {
    "name": "ipython",
    "version": 3
   },
   "file_extension": ".py",
   "mimetype": "text/x-python",
   "name": "python",
   "nbconvert_exporter": "python",
   "pygments_lexer": "ipython3",
   "version": "3.9.7"
  }
 },
 "nbformat": 4,
 "nbformat_minor": 5
}

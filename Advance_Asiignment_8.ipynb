{
 "cells": [
  {
   "cell_type": "code",
   "execution_count": 1,
   "id": "dd5be316",
   "metadata": {},
   "outputs": [],
   "source": [
    "# Q1. What are the two latest user-defined exception constraints in Python 3.X?"
   ]
  },
  {
   "cell_type": "code",
   "execution_count": 2,
   "id": "fed4062a",
   "metadata": {},
   "outputs": [],
   "source": [
    "# Ans : except MyError as error, except zerodivision"
   ]
  },
  {
   "cell_type": "code",
   "execution_count": 3,
   "id": "2a264eb3",
   "metadata": {},
   "outputs": [],
   "source": [
    "# Q2. How are class-based exceptions that have been raised matched to handlers?"
   ]
  },
  {
   "cell_type": "code",
   "execution_count": 4,
   "id": "8fdb2fdf",
   "metadata": {},
   "outputs": [],
   "source": [
    "# Ans : Exception handling enables you handle errors gracefully and do something meaningful about it. Exception\n",
    "# handling has two components: “throwing” and ‘catching’."
   ]
  },
  {
   "cell_type": "code",
   "execution_count": 5,
   "id": "e8609c41",
   "metadata": {},
   "outputs": [],
   "source": [
    "# Q3. Describe two methods for attaching context information to exception artefacts."
   ]
  },
  {
   "cell_type": "code",
   "execution_count": 6,
   "id": "faef6715",
   "metadata": {},
   "outputs": [],
   "source": [
    "# Exceptions are raised when the program encounters an error during its execution. They disrupt the normal flow of the program and usually end it abruptly. To avoid this, you can catch them and handle them appropriately."
   ]
  },
  {
   "cell_type": "code",
   "execution_count": 7,
   "id": "fdf61c0a",
   "metadata": {},
   "outputs": [],
   "source": [
    "# Q4. Describe two methods for specifying the text of an exception object&#39;s error message."
   ]
  },
  {
   "cell_type": "code",
   "execution_count": 9,
   "id": "644c4b99",
   "metadata": {},
   "outputs": [],
   "source": [
    "# It is possible to write programs that handle selected exceptions. Look at the following example, which asks the user for input until a valid integer has been entered, but allows the user to interrupt the program (using Control-C or whatever the operating system supports); note that a user-generated interruption is signalled by raising the KeyboardInterrupt exception."
   ]
  },
  {
   "cell_type": "code",
   "execution_count": 10,
   "id": "8e6a1acb",
   "metadata": {},
   "outputs": [],
   "source": [
    "# Q5. Why do you no longer use string-based exceptions?"
   ]
  },
  {
   "cell_type": "code",
   "execution_count": 11,
   "id": "3a61b344",
   "metadata": {},
   "outputs": [],
   "source": [
    "# User-defined Python exceptions can be either strings or Python classes. Since classes have many nice properties when used as exceptions, it is desirable t"
   ]
  },
  {
   "cell_type": "code",
   "execution_count": null,
   "id": "db3de8e1",
   "metadata": {},
   "outputs": [],
   "source": []
  }
 ],
 "metadata": {
  "kernelspec": {
   "display_name": "Python 3 (ipykernel)",
   "language": "python",
   "name": "python3"
  },
  "language_info": {
   "codemirror_mode": {
    "name": "ipython",
    "version": 3
   },
   "file_extension": ".py",
   "mimetype": "text/x-python",
   "name": "python",
   "nbconvert_exporter": "python",
   "pygments_lexer": "ipython3",
   "version": "3.9.7"
  }
 },
 "nbformat": 4,
 "nbformat_minor": 5
}

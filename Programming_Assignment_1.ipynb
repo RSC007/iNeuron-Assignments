{
 "cells": [
  {
   "cell_type": "code",
   "execution_count": 1,
   "id": "b9e43fe7",
   "metadata": {},
   "outputs": [],
   "source": [
    "#1 Write a Python program to print &quot;Hello Python&quot;?"
   ]
  },
  {
   "cell_type": "code",
   "execution_count": 2,
   "id": "725e8c42",
   "metadata": {},
   "outputs": [
    {
     "name": "stdout",
     "output_type": "stream",
     "text": [
      "Hello Word\n"
     ]
    }
   ],
   "source": [
    "print(\"Hello Word\")"
   ]
  },
  {
   "cell_type": "code",
   "execution_count": 3,
   "id": "15165a10",
   "metadata": {},
   "outputs": [],
   "source": [
    "# 2. Write a Python program to do arithmetical operations addition and division.?"
   ]
  },
  {
   "cell_type": "code",
   "execution_count": 18,
   "id": "61cfd26c",
   "metadata": {},
   "outputs": [],
   "source": [
    "def add(a,b):\n",
    "    return a+b\n",
    "\n",
    "def devide(a,b):\n",
    "    return a/b"
   ]
  },
  {
   "cell_type": "code",
   "execution_count": 20,
   "id": "401fdffd",
   "metadata": {},
   "outputs": [
    {
     "data": {
      "text/plain": [
       "10"
      ]
     },
     "execution_count": 20,
     "metadata": {},
     "output_type": "execute_result"
    }
   ],
   "source": [
    "add(5,5)\n"
   ]
  },
  {
   "cell_type": "code",
   "execution_count": 21,
   "id": "53f87fc0",
   "metadata": {},
   "outputs": [
    {
     "data": {
      "text/plain": [
       "3.0"
      ]
     },
     "execution_count": 21,
     "metadata": {},
     "output_type": "execute_result"
    }
   ],
   "source": [
    "devide(6,2)"
   ]
  },
  {
   "cell_type": "code",
   "execution_count": 22,
   "id": "d117a2e3",
   "metadata": {},
   "outputs": [],
   "source": [
    "# 3. Write a Python program to find the area of a triangle?"
   ]
  },
  {
   "cell_type": "code",
   "execution_count": 25,
   "id": "7d66fda8",
   "metadata": {},
   "outputs": [],
   "source": [
    "def area_triangle(first_side, second_side, third_side):\n",
    "    s = (first_side + second_side + third_side)/2\n",
    "    area = (s*(s-first_side)*(s-second_side)*(s-third_side))**0.5\n",
    "    return area"
   ]
  },
  {
   "cell_type": "code",
   "execution_count": 27,
   "id": "c7e448a6",
   "metadata": {},
   "outputs": [
    {
     "data": {
      "text/plain": [
       "14.696938456699069"
      ]
     },
     "execution_count": 27,
     "metadata": {},
     "output_type": "execute_result"
    }
   ],
   "source": [
    "area_triangle(5,6,7)"
   ]
  },
  {
   "cell_type": "code",
   "execution_count": 28,
   "id": "87274bca",
   "metadata": {},
   "outputs": [],
   "source": [
    "# 4. Write a Python program to swap two variables?"
   ]
  },
  {
   "cell_type": "code",
   "execution_count": 39,
   "id": "fef19ff5",
   "metadata": {},
   "outputs": [],
   "source": [
    "a=5\n",
    "b=10\n",
    "\n",
    "temp=a\n",
    "a=b\n",
    "b=temp"
   ]
  },
  {
   "cell_type": "code",
   "execution_count": 40,
   "id": "a374d1d5",
   "metadata": {},
   "outputs": [],
   "source": [
    "def swap(x,y):\n",
    "    return y, x"
   ]
  },
  {
   "cell_type": "code",
   "execution_count": 41,
   "id": "f5de9308",
   "metadata": {},
   "outputs": [],
   "source": [
    "a=5\n",
    "b=10\n",
    "a,b = swap(a,b)"
   ]
  },
  {
   "cell_type": "code",
   "execution_count": 42,
   "id": "ab26ebc6",
   "metadata": {},
   "outputs": [
    {
     "data": {
      "text/plain": [
       "10"
      ]
     },
     "execution_count": 42,
     "metadata": {},
     "output_type": "execute_result"
    }
   ],
   "source": [
    "a"
   ]
  },
  {
   "cell_type": "code",
   "execution_count": 43,
   "id": "d5a45298",
   "metadata": {},
   "outputs": [],
   "source": [
    "# 5. Write a Python program to generate a random number?"
   ]
  },
  {
   "cell_type": "code",
   "execution_count": 44,
   "id": "8936615c",
   "metadata": {},
   "outputs": [],
   "source": [
    "import random\n",
    "def randon_number():\n",
    "    n=random.randint(0,1000)\n",
    "    return n"
   ]
  },
  {
   "cell_type": "code",
   "execution_count": 45,
   "id": "6f5df921",
   "metadata": {},
   "outputs": [
    {
     "data": {
      "text/plain": [
       "935"
      ]
     },
     "execution_count": 45,
     "metadata": {},
     "output_type": "execute_result"
    }
   ],
   "source": [
    "randon_number()"
   ]
  },
  {
   "cell_type": "code",
   "execution_count": null,
   "id": "52b2473b",
   "metadata": {},
   "outputs": [],
   "source": []
  },
  {
   "cell_type": "code",
   "execution_count": null,
   "id": "2029a270",
   "metadata": {},
   "outputs": [],
   "source": []
  }
 ],
 "metadata": {
  "kernelspec": {
   "display_name": "Python 3 (ipykernel)",
   "language": "python",
   "name": "python3"
  },
  "language_info": {
   "codemirror_mode": {
    "name": "ipython",
    "version": 3
   },
   "file_extension": ".py",
   "mimetype": "text/x-python",
   "name": "python",
   "nbconvert_exporter": "python",
   "pygments_lexer": "ipython3",
   "version": "3.8.10"
  }
 },
 "nbformat": 4,
 "nbformat_minor": 5
}

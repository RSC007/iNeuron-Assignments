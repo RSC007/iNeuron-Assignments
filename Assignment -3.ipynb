{
 "cells": [
  {
   "cell_type": "code",
   "execution_count": 1,
   "id": "2f367123",
   "metadata": {},
   "outputs": [],
   "source": [
    "# 1. Why are functions advantageous to have in your programs?"
   ]
  },
  {
   "cell_type": "code",
   "execution_count": 2,
   "id": "d4442b52",
   "metadata": {},
   "outputs": [],
   "source": [
    "# Ans: fuction help us to avoid repeat the same code again and again"
   ]
  },
  {
   "cell_type": "code",
   "execution_count": 3,
   "id": "ae603163",
   "metadata": {},
   "outputs": [],
   "source": [
    "# 2. When does the code in a function run: when it's specified or when it's called?"
   ]
  },
  {
   "cell_type": "code",
   "execution_count": 6,
   "id": "6b6a9ce3",
   "metadata": {},
   "outputs": [],
   "source": [
    "# Ans: we define the function as follow\n",
    "#     function defination\n",
    "def defName():\n",
    "        pass\n",
    "    \n",
    "#     Function calling\n",
    "#     defName()"
   ]
  },
  {
   "cell_type": "code",
   "execution_count": 7,
   "id": "e824d638",
   "metadata": {},
   "outputs": [],
   "source": [
    "# 3. What statement creates a function?"
   ]
  },
  {
   "cell_type": "code",
   "execution_count": 8,
   "id": "f48368b0",
   "metadata": {},
   "outputs": [],
   "source": [
    "# Ans: 'def' key create function"
   ]
  },
  {
   "cell_type": "code",
   "execution_count": 10,
   "id": "444b9f07",
   "metadata": {},
   "outputs": [],
   "source": [
    "# 4. What is the difference between a function and a function call?"
   ]
  },
  {
   "cell_type": "code",
   "execution_count": 11,
   "id": "c2843732",
   "metadata": {},
   "outputs": [],
   "source": [
    "# Ans: In fuction we use to define its defination and while we call it execute that defination"
   ]
  },
  {
   "cell_type": "code",
   "execution_count": 12,
   "id": "4ae14ff0",
   "metadata": {},
   "outputs": [],
   "source": [
    "# 5. How many global scopes are there in a Python program? How many local scopes?"
   ]
  },
  {
   "cell_type": "code",
   "execution_count": 13,
   "id": "5c0a2620",
   "metadata": {},
   "outputs": [],
   "source": [
    "# Ans: 'globale' using the we can give global scope same as for 'localScope' key, there is build in scope too"
   ]
  },
  {
   "cell_type": "code",
   "execution_count": 15,
   "id": "8ae0b069",
   "metadata": {},
   "outputs": [],
   "source": [
    "# 6. What happens to variables in a local scope when the function call returns?"
   ]
  },
  {
   "cell_type": "code",
   "execution_count": 16,
   "id": "66062203",
   "metadata": {},
   "outputs": [],
   "source": [
    "# Ans: A local variable retains its value until the next time the function is called A local variable becomes undefined after\n",
    "# the function call completes The local variable can be used outside the function any time after the function call completes."
   ]
  },
  {
   "cell_type": "code",
   "execution_count": 17,
   "id": "1e9d06f8",
   "metadata": {},
   "outputs": [],
   "source": [
    "# 7. What is the concept of a return value? Is it possible to have a return value in an expression?"
   ]
  },
  {
   "cell_type": "code",
   "execution_count": 18,
   "id": "9d9e61ff",
   "metadata": {},
   "outputs": [],
   "source": [
    "# Ans: A return is a value that a function returns to the calling script or function when it completes its task. \n",
    "# A return value can be any one of the four variable types: handle, integer, object, or string.\n",
    "# The type of value your function returns depends largely on the task it performs.\n",
    "#  you cant return the expression"
   ]
  },
  {
   "cell_type": "code",
   "execution_count": 19,
   "id": "3bc95cc0",
   "metadata": {},
   "outputs": [],
   "source": [
    "# 8. If a function does not have a return statement, what is the return value of a call to that function?"
   ]
  },
  {
   "cell_type": "code",
   "execution_count": 20,
   "id": "ffb1928f",
   "metadata": {},
   "outputs": [],
   "source": [
    "# Ans: If a function doesn't specify a return value, it returns None"
   ]
  },
  {
   "cell_type": "code",
   "execution_count": 21,
   "id": "4ce72c1c",
   "metadata": {},
   "outputs": [],
   "source": [
    "# 9. How do you make a function variable refer to the global variable?"
   ]
  },
  {
   "cell_type": "code",
   "execution_count": 22,
   "id": "6f927e44",
   "metadata": {},
   "outputs": [],
   "source": [
    "# Ans: If you want to refer to a global variable in a function, you can use the global keyword to declare which variables are global"
   ]
  },
  {
   "cell_type": "code",
   "execution_count": 24,
   "id": "e78a34d8",
   "metadata": {},
   "outputs": [],
   "source": [
    "# 10. What is the data type of None?"
   ]
  },
  {
   "cell_type": "code",
   "execution_count": 25,
   "id": "b7316f55",
   "metadata": {},
   "outputs": [],
   "source": [
    "# Ans: The None keyword is used to define a null value, or no value at all. None is not the same as 0, False, or an empty string.\n",
    "# None is a data type of its own (NoneType) and only None can be None"
   ]
  },
  {
   "cell_type": "code",
   "execution_count": 26,
   "id": "61ba31e7",
   "metadata": {},
   "outputs": [],
   "source": [
    "# 11. What does the sentence import areallyourpetsnamederic do?"
   ]
  },
  {
   "cell_type": "code",
   "execution_count": 27,
   "id": "61077774",
   "metadata": {},
   "outputs": [],
   "source": [
    "# Ans :  That import statement imports a module named areallyourpetsnamederic."
   ]
  },
  {
   "cell_type": "code",
   "execution_count": 28,
   "id": "84cfcef6",
   "metadata": {},
   "outputs": [],
   "source": [
    "# 12. If you had a bacon() feature in a spam module, what would you call it after importing spam?"
   ]
  },
  {
   "cell_type": "code",
   "execution_count": 31,
   "id": "d954655d",
   "metadata": {},
   "outputs": [],
   "source": [
    "# Ans: This function can be called with spam.bacon()."
   ]
  },
  {
   "cell_type": "code",
   "execution_count": 33,
   "id": "09edd61f",
   "metadata": {},
   "outputs": [],
   "source": [
    "# 13. What can you do to save a programme from crashing if it encounters an error?"
   ]
  },
  {
   "cell_type": "code",
   "execution_count": 34,
   "id": "a44ec84f",
   "metadata": {},
   "outputs": [],
   "source": [
    "# Ans: We should write the code inside the try and except clause to avoid the error statement."
   ]
  },
  {
   "cell_type": "code",
   "execution_count": 35,
   "id": "f3de410e",
   "metadata": {},
   "outputs": [],
   "source": [
    "# 14. What is the purpose of the try clause? What is the purpose of the except clause?"
   ]
  },
  {
   "cell_type": "code",
   "execution_count": 36,
   "id": "56ca5316",
   "metadata": {},
   "outputs": [],
   "source": [
    "# Ans: try clause try the code and check is there not any error if is it there error in statement except clause handle the error\n",
    "# to avoid code break"
   ]
  },
  {
   "cell_type": "code",
   "execution_count": null,
   "id": "e85791c1",
   "metadata": {},
   "outputs": [],
   "source": []
  }
 ],
 "metadata": {
  "kernelspec": {
   "display_name": "Python 3 (ipykernel)",
   "language": "python",
   "name": "python3"
  },
  "language_info": {
   "codemirror_mode": {
    "name": "ipython",
    "version": 3
   },
   "file_extension": ".py",
   "mimetype": "text/x-python",
   "name": "python",
   "nbconvert_exporter": "python",
   "pygments_lexer": "ipython3",
   "version": "3.9.7"
  }
 },
 "nbformat": 4,
 "nbformat_minor": 5
}

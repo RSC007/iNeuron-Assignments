{
 "cells": [
  {
   "cell_type": "code",
   "execution_count": 1,
   "id": "a0d6d4cd",
   "metadata": {},
   "outputs": [],
   "source": [
    "# 1. Write a Python program to check if the given number is a Disarium Number?"
   ]
  },
  {
   "cell_type": "code",
   "execution_count": 19,
   "id": "0961013a",
   "metadata": {},
   "outputs": [
    {
     "data": {
      "text/plain": [
       "True"
      ]
     },
     "execution_count": 19,
     "metadata": {},
     "output_type": "execute_result"
    }
   ],
   "source": [
    "def is_disarium_number(num):\n",
    "    result=0\n",
    "    str_num=str(num)\n",
    "    for i in range(len(str(num))):\n",
    "        result+=int(str_num[i])**(i+1)\n",
    "    \n",
    "    return result==num\n",
    "        \n",
    "is_disarium_number(175)"
   ]
  },
  {
   "cell_type": "code",
   "execution_count": 17,
   "id": "1c6a22dd",
   "metadata": {},
   "outputs": [],
   "source": [
    "# 2. Write a Python program to print all disarium numbers between 1 to 100?"
   ]
  },
  {
   "cell_type": "code",
   "execution_count": 24,
   "id": "a52023d2",
   "metadata": {},
   "outputs": [],
   "source": [
    "disarium_list=[]\n",
    "for i in range(100):\n",
    "    if is_disarium_number(i):\n",
    "        disarium_list.append(i)\n",
    "        continue"
   ]
  },
  {
   "cell_type": "code",
   "execution_count": 25,
   "id": "e1081e0a",
   "metadata": {},
   "outputs": [
    {
     "data": {
      "text/plain": [
       "[0, 1, 2, 3, 4, 5, 6, 7, 8, 9, 89]"
      ]
     },
     "execution_count": 25,
     "metadata": {},
     "output_type": "execute_result"
    }
   ],
   "source": [
    "disarium_list"
   ]
  },
  {
   "cell_type": "code",
   "execution_count": 26,
   "id": "580c54e9",
   "metadata": {},
   "outputs": [],
   "source": [
    "# 3. Write a Python program to check if the given number is Happy Number?"
   ]
  },
  {
   "cell_type": "code",
   "execution_count": 39,
   "id": "20ed3e30",
   "metadata": {},
   "outputs": [
    {
     "name": "stdout",
     "output_type": "stream",
     "text": [
      "Happy Number\n"
     ]
    }
   ],
   "source": [
    "\n",
    "def happy_number(num):\n",
    "    str_num=str(num)\n",
    "    if len(str_num) == 1:\n",
    "        if num == 1:\n",
    "            print(\"Happy Number\")\n",
    "        else:\n",
    "            print(\"Not Happy Number\")\n",
    "        return\n",
    "    result=0\n",
    "    for i in str_num:\n",
    "        result+=int(i)**2\n",
    "    happy_number(result)\n",
    "    \n",
    "happy_number(32)"
   ]
  },
  {
   "cell_type": "code",
   "execution_count": 40,
   "id": "97590346",
   "metadata": {},
   "outputs": [],
   "source": [
    "# 4. Write a Python program to print all happy numbers between 1 and 100?"
   ]
  },
  {
   "cell_type": "code",
   "execution_count": 43,
   "id": "4303cf29",
   "metadata": {},
   "outputs": [],
   "source": [
    "happy_number_list=[]\n",
    "\n",
    "def happy_number(num, real_num):\n",
    "    str_num=str(num)\n",
    "    if len(str_num) == 1:\n",
    "        if num == 1:\n",
    "            happy_number_list.append(real_num)\n",
    "        return\n",
    "    result=0\n",
    "    for i in str_num:\n",
    "        result+=int(i)**2\n",
    "    happy_number(result, real_num)\n",
    "    \n",
    "for i in range(100):\n",
    "    if happy_number(i, i) == \"Happy Number\":\n",
    "        happy_number_list.append(i)\n",
    "    "
   ]
  },
  {
   "cell_type": "code",
   "execution_count": 44,
   "id": "69220be0",
   "metadata": {},
   "outputs": [
    {
     "data": {
      "text/plain": [
       "[1, 10, 13, 19, 23, 28, 31, 32, 44, 49, 68, 70, 79, 82, 86, 91, 94, 97]"
      ]
     },
     "execution_count": 44,
     "metadata": {},
     "output_type": "execute_result"
    }
   ],
   "source": [
    "happy_number_list"
   ]
  },
  {
   "cell_type": "code",
   "execution_count": 45,
   "id": "5a02bffa",
   "metadata": {},
   "outputs": [],
   "source": [
    "# 5. Write a Python program to determine whether the given number is a Harshad Number?"
   ]
  },
  {
   "cell_type": "code",
   "execution_count": 46,
   "id": "6852affd",
   "metadata": {},
   "outputs": [
    {
     "data": {
      "text/plain": [
       "True"
      ]
     },
     "execution_count": 46,
     "metadata": {},
     "output_type": "execute_result"
    }
   ],
   "source": [
    "def is_harshad_number(num):\n",
    "    str_num = str(num)\n",
    "    total_sum=0\n",
    "    for i in str_num:\n",
    "        total_sum+=int(i)\n",
    "        \n",
    "    return num%total_sum == 0\n",
    "        \n",
    "is_harshad_number(156)"
   ]
  },
  {
   "cell_type": "code",
   "execution_count": 47,
   "id": "861781b7",
   "metadata": {},
   "outputs": [],
   "source": [
    "# 6. Write a Python program to print all pronic numbers between 1 and 100?"
   ]
  },
  {
   "cell_type": "code",
   "execution_count": 50,
   "id": "8d12377b",
   "metadata": {},
   "outputs": [
    {
     "data": {
      "text/plain": [
       "[1,\n",
       " 2,\n",
       " 3,\n",
       " 4,\n",
       " 5,\n",
       " 6,\n",
       " 7,\n",
       " 8,\n",
       " 9,\n",
       " 10,\n",
       " 12,\n",
       " 18,\n",
       " 20,\n",
       " 21,\n",
       " 24,\n",
       " 27,\n",
       " 30,\n",
       " 36,\n",
       " 40,\n",
       " 42,\n",
       " 45,\n",
       " 48,\n",
       " 50,\n",
       " 54,\n",
       " 60,\n",
       " 63,\n",
       " 70,\n",
       " 72,\n",
       " 80,\n",
       " 81,\n",
       " 84,\n",
       " 90]"
      ]
     },
     "execution_count": 50,
     "metadata": {},
     "output_type": "execute_result"
    }
   ],
   "source": [
    "harshed_number_list=[]\n",
    "for i in range(100):\n",
    "    if i == 0:\n",
    "        continue\n",
    "        \n",
    "    if is_harshad_number(i):\n",
    "        harshed_number_list.append(i)\n",
    "        \n",
    "harshed_number_list"
   ]
  },
  {
   "cell_type": "code",
   "execution_count": null,
   "id": "a69a3d39",
   "metadata": {},
   "outputs": [],
   "source": []
  }
 ],
 "metadata": {
  "kernelspec": {
   "display_name": "Python 3 (ipykernel)",
   "language": "python",
   "name": "python3"
  },
  "language_info": {
   "codemirror_mode": {
    "name": "ipython",
    "version": 3
   },
   "file_extension": ".py",
   "mimetype": "text/x-python",
   "name": "python",
   "nbconvert_exporter": "python",
   "pygments_lexer": "ipython3",
   "version": "3.8.10"
  }
 },
 "nbformat": 4,
 "nbformat_minor": 5
}

{
 "cells": [
  {
   "cell_type": "code",
   "execution_count": 1,
   "id": "eb40e42e",
   "metadata": {},
   "outputs": [],
   "source": [
    "# Q1. Is it permissible to use several import statements to import the same module? What would the\n",
    "# goal be? Can you think of a situation where it would be beneficial?"
   ]
  },
  {
   "cell_type": "code",
   "execution_count": 2,
   "id": "be1a21bc",
   "metadata": {},
   "outputs": [],
   "source": [
    "# The rules are quite simple: the same module is evaluated only once, in other words, the module-level scope\n",
    "# is executed just once. If the module, once evaluated, is imported again, it's second evaluation is skipped\n",
    "# and the resolved already exports are used."
   ]
  },
  {
   "cell_type": "code",
   "execution_count": 3,
   "id": "d84de443",
   "metadata": {},
   "outputs": [],
   "source": [
    "# Q2. What are some of a module&#39;s characteristics? (Name at least one.)"
   ]
  },
  {
   "cell_type": "code",
   "execution_count": 4,
   "id": "35d6e8ad",
   "metadata": {},
   "outputs": [],
   "source": [
    "# Modules contain instructions, processing logic, and data.\n",
    "# Modules can be separately compiled and stored in a library.\n",
    "# Modules can be included in a program.\n",
    "# Module segments can be used by invoking a name and some parameters.\n",
    "# Module segments can be used by other modules."
   ]
  },
  {
   "cell_type": "code",
   "execution_count": 5,
   "id": "78f765eb",
   "metadata": {},
   "outputs": [],
   "source": [
    "# Q3. Circular importing, such as when two modules import each other, can lead to dependencies and\n",
    "# bugs that aren&#39;t visible. How can you go about creating a program that avoids mutual importing?"
   ]
  },
  {
   "cell_type": "code",
   "execution_count": 6,
   "id": "010614f3",
   "metadata": {},
   "outputs": [],
   "source": [
    "# Change Name of Working python script.\n",
    "# Import the module.\n",
    "# Avoid Circular Import.\n",
    "# Merge modules.\n",
    "# Import when need."
   ]
  },
  {
   "cell_type": "code",
   "execution_count": 7,
   "id": "11a53e0a",
   "metadata": {},
   "outputs": [],
   "source": [
    "# Q4. Why is _ _all_ _ in Python?"
   ]
  },
  {
   "cell_type": "code",
   "execution_count": 8,
   "id": "f439d4cc",
   "metadata": {},
   "outputs": [],
   "source": [
    "# It overrides the default of hiding everything that begins with an underscore. Objects that begin with an \n",
    "# underscore, or are not mentioned in __all__ if __all__ is present, are not exactly hidden; they can be seen\n",
    "# and accessed perfectly normally if you know their names."
   ]
  },
  {
   "cell_type": "code",
   "execution_count": 9,
   "id": "bdb02f74",
   "metadata": {},
   "outputs": [],
   "source": [
    "# Q5. In what situation is it useful to refer to the _ _name_ _ attribute or the string &#39;_ _main_ _&#39;?"
   ]
  },
  {
   "cell_type": "code",
   "execution_count": 10,
   "id": "6611dede",
   "metadata": {},
   "outputs": [],
   "source": [
    "# We can use an if __name__ == \"__main__\" block to allow or prevent parts of code from being run when\n",
    "# the modules are imported. When the Python interpreter reads a file, the __name__ variable is set as __main__ \n",
    "# if the module being run, or as the module's name if it is imported."
   ]
  },
  {
   "cell_type": "code",
   "execution_count": 11,
   "id": "f09966eb",
   "metadata": {},
   "outputs": [],
   "source": [
    "# Q6. What are some of the benefits of attaching a program counter to the RPN interpreter\n",
    "# application, which interprets an RPN script line by line?"
   ]
  },
  {
   "cell_type": "code",
   "execution_count": 12,
   "id": "3ea92be4",
   "metadata": {},
   "outputs": [],
   "source": [
    "# Image result for Q6. What are some of the benefits of attaching a program counter to the RPN interpreter \n",
    "# application, which interprets an RPN script line by lineAn advantage of reverse Polish notation is that it\n",
    "# removes the need for parentheses that are required by infix notation. While 3 − 4 × 5 can also be written 3 − (4 × 5), that means something quite different from (3 − 4) × 5."
   ]
  },
  {
   "cell_type": "code",
   "execution_count": 13,
   "id": "d7bf5065",
   "metadata": {},
   "outputs": [],
   "source": [
    "# Q7. What are the minimum expressions or statements (or both) that you&#39;d need to render a basic\n",
    "# programming language like RPN primitive but complete— that is, capable of carrying out any\n",
    "# computerised task theoretically possible?"
   ]
  },
  {
   "cell_type": "code",
   "execution_count": null,
   "id": "95b90020",
   "metadata": {},
   "outputs": [],
   "source": []
  }
 ],
 "metadata": {
  "kernelspec": {
   "display_name": "Python 3 (ipykernel)",
   "language": "python",
   "name": "python3"
  },
  "language_info": {
   "codemirror_mode": {
    "name": "ipython",
    "version": 3
   },
   "file_extension": ".py",
   "mimetype": "text/x-python",
   "name": "python",
   "nbconvert_exporter": "python",
   "pygments_lexer": "ipython3",
   "version": "3.8.10"
  }
 },
 "nbformat": 4,
 "nbformat_minor": 5
}

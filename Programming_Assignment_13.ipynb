{
 "cells": [
  {
   "cell_type": "code",
   "execution_count": 2,
   "id": "a70e35c8",
   "metadata": {},
   "outputs": [],
   "source": [
    "# Question 1:\n",
    "# Write a program that calculates and prints the value according to the given formula:"
   ]
  },
  {
   "cell_type": "code",
   "execution_count": 20,
   "id": "5a0201c2",
   "metadata": {},
   "outputs": [
    {
     "name": "stdout",
     "output_type": "stream",
     "text": [
      "Enter the quama_seperated_num: 10,502,45\n"
     ]
    },
    {
     "data": {
      "text/plain": [
       "[6, 41, 12]"
      ]
     },
     "execution_count": 20,
     "metadata": {},
     "output_type": "execute_result"
    }
   ],
   "source": [
    "import math\n",
    "def calculate_sqrt(C, H):\n",
    "    quama_seperated_num = input(\"Enter the quama_seperated_num: \")\n",
    "    result = []\n",
    "    for i in quama_seperated_num.split(','):\n",
    "        formula = round(math.sqrt((2*int(C)*int(i))/int(H)))\n",
    "        result.append(formula)\n",
    "    return result\n",
    "\n",
    "calculate_sqrt(50, 30)"
   ]
  },
  {
   "cell_type": "code",
   "execution_count": 11,
   "id": "a3b05290",
   "metadata": {},
   "outputs": [],
   "source": [
    "# Question 2:\n",
    "# Write a program which takes 2 digits, X,Y as input and generates a 2-dimensional array. The\n",
    "# element value in the i-th row and j-th column of the array should be i*j."
   ]
  },
  {
   "cell_type": "code",
   "execution_count": 17,
   "id": "77ed38ae",
   "metadata": {},
   "outputs": [
    {
     "data": {
      "text/plain": [
       "array([[0., 0., 0., 0., 0.],\n",
       "       [0., 1., 2., 3., 4.],\n",
       "       [0., 2., 4., 6., 8.]])"
      ]
     },
     "execution_count": 17,
     "metadata": {},
     "output_type": "execute_result"
    }
   ],
   "source": [
    "import numpy as np\n",
    "\n",
    "def generate_2_diementional_arr(x, y):\n",
    "    arr= np.zeros((x, y))\n",
    "    for i in range(x):\n",
    "        for j in range(y):\n",
    "            arr[i][j]=round(i*j)\n",
    "    return arr\n",
    "\n",
    "generate_2_diementional_arr(3, 5)"
   ]
  },
  {
   "cell_type": "code",
   "execution_count": 18,
   "id": "ad40a519",
   "metadata": {},
   "outputs": [],
   "source": [
    "# Question 3:\n",
    "# Write a program that accepts a comma separated sequence of words as input and prints the\n",
    "# words in a comma-separated sequence after sorting them alphabetically."
   ]
  },
  {
   "cell_type": "code",
   "execution_count": 23,
   "id": "dfd1e5d2",
   "metadata": {},
   "outputs": [
    {
     "name": "stdout",
     "output_type": "stream",
     "text": [
      "Input words: without,hello,bag,world\n",
      "bag, hello, without, world\n"
     ]
    }
   ],
   "source": [
    "phrase = input(\"Input words: \")\n",
    "\n",
    "phrase_list = phrase.split(\",\")\n",
    "phrase_list.sort()\n",
    "print((', ').join(phrase_list))"
   ]
  },
  {
   "cell_type": "code",
   "execution_count": 22,
   "id": "4b0e6fdd",
   "metadata": {},
   "outputs": [],
   "source": [
    "# Question 4:\n",
    "# Write a program that accepts a sequence of whitespace separated words as input and prints\n",
    "# the words after removing all duplicate words and sorting them alphanumerically."
   ]
  },
  {
   "cell_type": "code",
   "execution_count": 24,
   "id": "4c24fad1",
   "metadata": {},
   "outputs": [
    {
     "name": "stdout",
     "output_type": "stream",
     "text": [
      "Type in: hello world and practice makes perfect and hello world again\n",
      "again and hello makes perfect practice world\n"
     ]
    }
   ],
   "source": [
    "phrase = input(\"Type in: \")\n",
    "phrase_splited = phrase.split(' ')\n",
    "\n",
    "word_list = []\n",
    "for i in phrase_splited:\n",
    "    if i not in word_list:\n",
    "        word_list.append(i)\n",
    "    else:\n",
    "        continue\n",
    "word_list.sort()\n",
    "print((' ').join(word_list))"
   ]
  },
  {
   "cell_type": "code",
   "execution_count": 25,
   "id": "f4d99bf5",
   "metadata": {},
   "outputs": [],
   "source": [
    "# Question 5:\n",
    "# Write a program that accepts a sentence and calculate the number of letters and digits.\n",
    "# Suppose the following input is supplied to the program:"
   ]
  },
  {
   "cell_type": "code",
   "execution_count": 26,
   "id": "73960af2",
   "metadata": {},
   "outputs": [
    {
     "name": "stdout",
     "output_type": "stream",
     "text": [
      "Type in: hello world! 123\n",
      "['h', 'e', 'l', 'l', 'o', ' ', 'w', 'o', 'r', 'l', 'd', '!', ' ', '1', '2', '3']\n",
      "Letters: 10\n",
      "Digits: 3\n"
     ]
    }
   ],
   "source": [
    "phrase = input(\"Type in: \")\n",
    "phrase = list(phrase)\n",
    "\n",
    "l, d = 0, 0\n",
    "for i in phrase:\n",
    "    if i.isalpha():\n",
    "        l = l + 1\n",
    "    if i.isdigit():\n",
    "        d = d + 1\n",
    "    else:\n",
    "        pass\n",
    "\n",
    "print(\"Letters:\", l)\n",
    "print(\"Digits:\", d)"
   ]
  },
  {
   "cell_type": "code",
   "execution_count": 27,
   "id": "589b5a7d",
   "metadata": {},
   "outputs": [],
   "source": [
    "# Question 6:\n",
    "# A website requires the users to input username and password to register. Write a program to\n",
    "# check the validity of password input by users."
   ]
  },
  {
   "cell_type": "code",
   "execution_count": 28,
   "id": "aacc0bae",
   "metadata": {},
   "outputs": [
    {
     "name": "stdout",
     "output_type": "stream",
     "text": [
      "Type in: ABd1234@1,a F1#,2w3E*,2We3345\n",
      "ABd1234@1\n"
     ]
    }
   ],
   "source": [
    "import re\n",
    "\n",
    "passwords = input(\"Type in: \")\n",
    "passwords = passwords.split(\",\")\n",
    "\n",
    "accepted_pass = []\n",
    "for i in passwords:\n",
    "    \n",
    "    if len(i) < 6 or len(i) > 12:\n",
    "        continue\n",
    "\n",
    "    elif not re.search(\"([a-z])+\", i):\n",
    "        continue\n",
    "\n",
    "    elif not re.search(\"([A-Z])+\", i):\n",
    "        continue\n",
    "\n",
    "    elif not re.search(\"([0-9])+\", i):\n",
    "        continue\n",
    "\n",
    "    elif not re.search(\"([!@$%^&])+\", i):\n",
    "        continue\n",
    "\n",
    "    else:\n",
    "        accepted_pass.append(i)\n",
    "\n",
    "print((\" \").join(accepted_pass))"
   ]
  },
  {
   "cell_type": "code",
   "execution_count": null,
   "id": "a5bf367b",
   "metadata": {},
   "outputs": [],
   "source": []
  }
 ],
 "metadata": {
  "kernelspec": {
   "display_name": "Python 3 (ipykernel)",
   "language": "python",
   "name": "python3"
  },
  "language_info": {
   "codemirror_mode": {
    "name": "ipython",
    "version": 3
   },
   "file_extension": ".py",
   "mimetype": "text/x-python",
   "name": "python",
   "nbconvert_exporter": "python",
   "pygments_lexer": "ipython3",
   "version": "3.8.10"
  }
 },
 "nbformat": 4,
 "nbformat_minor": 5
}

{
 "cells": [
  {
   "cell_type": "code",
   "execution_count": 1,
   "id": "e211a209",
   "metadata": {},
   "outputs": [],
   "source": [
    "# Q1. What is the distinction between a numpy array and a pandas data frame? Is there a way to\n",
    "# convert between the two if there is?"
   ]
  },
  {
   "cell_type": "code",
   "execution_count": 2,
   "id": "0c37930e",
   "metadata": {},
   "outputs": [],
   "source": [
    "# Numpy is memory efficient. Pandas has a better performance when a number of rows is 500K or more. Numpy has\n",
    "# a better performance when number of rows is 50K or less. Indexing of the pandas series is very slow as compared \n",
    "# to numpy arrays"
   ]
  },
  {
   "cell_type": "code",
   "execution_count": 3,
   "id": "057434c7",
   "metadata": {},
   "outputs": [],
   "source": [
    "# Q2. What can go wrong when an user enters in a stock-ticker symbol, and how do you handle it?"
   ]
  },
  {
   "cell_type": "code",
   "execution_count": 4,
   "id": "e6920015",
   "metadata": {},
   "outputs": [],
   "source": [
    "# A ticker symbol change really means nothing to you, the investor, in the grand scheme of things.\n",
    "# The change doesn't do anything to markets or to the way you execute trades. Since everything is electronic,\n",
    "# your trading platform or broker will already update your portfolio to include the new ticker symbol."
   ]
  },
  {
   "cell_type": "code",
   "execution_count": 5,
   "id": "191b3dc3",
   "metadata": {},
   "outputs": [],
   "source": [
    "# Q3. Identify some of the plotting techniques that are used to produce a stock-market chart."
   ]
  },
  {
   "cell_type": "code",
   "execution_count": 6,
   "id": "49ce5981",
   "metadata": {},
   "outputs": [],
   "source": [
    "# The candlestick chart has become standard on almost all platforms and is the most popular style of chart\n",
    "# used by traders. The chart utilizes the opening, high, low and closing price data per specified time interval\n",
    "# to generate a candlestick, which is plotted on a price chart."
   ]
  },
  {
   "cell_type": "code",
   "execution_count": 7,
   "id": "fcdca2be",
   "metadata": {},
   "outputs": [],
   "source": [
    "# Q4. Why is it essential to print a legend on a stock market chart?"
   ]
  },
  {
   "cell_type": "code",
   "execution_count": 8,
   "id": "a859a460",
   "metadata": {},
   "outputs": [],
   "source": [
    "# By default, each plot of a Stock chart has a legend, its items representing the series on the plot. In addition\n",
    "# , the legend displays information about the points that are currently hovered over or, if none are hovered over\n",
    "# , about the last points shown on the plot."
   ]
  },
  {
   "cell_type": "code",
   "execution_count": 9,
   "id": "8ed14825",
   "metadata": {},
   "outputs": [],
   "source": [
    "# Q5. What is the best way to limit the length of a pandas data frame to less than a year?"
   ]
  },
  {
   "cell_type": "code",
   "execution_count": 10,
   "id": "04448137",
   "metadata": {},
   "outputs": [],
   "source": [
    "# import pandas as pd. ​ drinks = pd. read_csv('http://bit.ly/drinksbycountry') print(drinks."
   ]
  },
  {
   "cell_type": "code",
   "execution_count": 11,
   "id": "be0bce7f",
   "metadata": {},
   "outputs": [],
   "source": [
    "# Q6. What is the definition of a 180-day moving average?"
   ]
  },
  {
   "cell_type": "code",
   "execution_count": 12,
   "id": "00992314",
   "metadata": {},
   "outputs": [],
   "source": [
    "# A moving average is a statistic that captures the average change in a data series over time.\n",
    "# In finance, moving averages are often used by technical analysts to keep track of price trends for\n",
    "# specific securities."
   ]
  },
  {
   "cell_type": "code",
   "execution_count": 13,
   "id": "1430f9e1",
   "metadata": {},
   "outputs": [],
   "source": [
    "# Q7. Did the chapter&#39;s final example use &quot;indirect&quot; importing? If so, how exactly do you do it?"
   ]
  },
  {
   "cell_type": "code",
   "execution_count": 15,
   "id": "fdae0836",
   "metadata": {},
   "outputs": [],
   "source": [
    "# Indirect speech is speech which tells you what someone said, but does not use the person's actual words:\n",
    "# for example, 'They said you didn't like it', 'I asked her what her plans were', and ' Citizens complained about\n",
    "# the smoke'."
   ]
  },
  {
   "cell_type": "code",
   "execution_count": null,
   "id": "ed61aab6",
   "metadata": {},
   "outputs": [],
   "source": []
  }
 ],
 "metadata": {
  "kernelspec": {
   "display_name": "Python 3 (ipykernel)",
   "language": "python",
   "name": "python3"
  },
  "language_info": {
   "codemirror_mode": {
    "name": "ipython",
    "version": 3
   },
   "file_extension": ".py",
   "mimetype": "text/x-python",
   "name": "python",
   "nbconvert_exporter": "python",
   "pygments_lexer": "ipython3",
   "version": "3.8.10"
  }
 },
 "nbformat": 4,
 "nbformat_minor": 5
}

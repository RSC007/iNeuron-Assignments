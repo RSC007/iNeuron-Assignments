{
 "cells": [
  {
   "cell_type": "code",
   "execution_count": 1,
   "id": "1779650e",
   "metadata": {},
   "outputs": [],
   "source": [
    "# Question1\n",
    "# Create a function that takes a list of strings and integers, and filters out the list so that it\n",
    "# returns a list of integers only."
   ]
  },
  {
   "cell_type": "code",
   "execution_count": 2,
   "id": "9f280234",
   "metadata": {},
   "outputs": [
    {
     "data": {
      "text/plain": [
       "[1, 2, 3]"
      ]
     },
     "execution_count": 2,
     "metadata": {},
     "output_type": "execute_result"
    }
   ],
   "source": [
    "def filter_list(array):\n",
    "    intergers = []\n",
    "    for i in array:\n",
    "        if (type(i) == int):\n",
    "            intergers.append(i)\n",
    "    return intergers\n",
    "\n",
    "filter_list([1,2,3,\"re\",\"rw\"])"
   ]
  },
  {
   "cell_type": "code",
   "execution_count": 3,
   "id": "ddcf158d",
   "metadata": {},
   "outputs": [],
   "source": [
    "# Question2\n",
    "# Given a list of numbers, create a function which returns the list but with each element&#39;s\n",
    "# index in the list added to itself. This means you add 0 to the number at index 0, add 1 to the\n",
    "# number at index 1, etc..."
   ]
  },
  {
   "cell_type": "code",
   "execution_count": 4,
   "id": "c285b9ca",
   "metadata": {},
   "outputs": [
    {
     "data": {
      "text/plain": [
       "[5, 5, 5, 5, 5]"
      ]
     },
     "execution_count": 4,
     "metadata": {},
     "output_type": "execute_result"
    }
   ],
   "source": [
    "def add_indexes(array):\n",
    "    result = []\n",
    "    for i in range(len(array)):\n",
    "        result.append(array[i] + i)\n",
    "    return result\n",
    "\n",
    "add_indexes([5, 4, 3, 2, 1])"
   ]
  },
  {
   "cell_type": "code",
   "execution_count": 5,
   "id": "844bf329",
   "metadata": {},
   "outputs": [],
   "source": [
    "# Question3\n",
    "# Create a function that takes the height and radius of a cone as arguments and returns the\n",
    "# volume of the cone rounded to the nearest hundredth. See the resources tab for the formula."
   ]
  },
  {
   "cell_type": "code",
   "execution_count": 6,
   "id": "95226af2",
   "metadata": {},
   "outputs": [
    {
     "data": {
      "text/plain": [
       "12.566370614359172"
      ]
     },
     "execution_count": 6,
     "metadata": {},
     "output_type": "execute_result"
    }
   ],
   "source": [
    "import math\n",
    "def cone_volume(h, r):\n",
    "    return (math.pi*r**2)*(h/3)\n",
    "\n",
    "cone_volume(3,2)"
   ]
  },
  {
   "cell_type": "code",
   "execution_count": 9,
   "id": "85edfa48",
   "metadata": {},
   "outputs": [],
   "source": [
    "# Question5\n",
    "# Create a function that takes a list of numbers between 1 and 10 (excluding one number) and\n",
    "# returns the missing number."
   ]
  },
  {
   "cell_type": "code",
   "execution_count": 17,
   "id": "eacf3498",
   "metadata": {},
   "outputs": [
    {
     "data": {
      "text/plain": [
       "5"
      ]
     },
     "execution_count": 17,
     "metadata": {},
     "output_type": "execute_result"
    }
   ],
   "source": [
    "def missing_num(array):\n",
    "    for i in range(1, 10):\n",
    "        if i in array:\n",
    "            continue\n",
    "        return i\n",
    "    return \"All Available\"\n",
    "\n",
    "missing_num([1, 2, 3, 4, 6, 7, 8, 9, 10])"
   ]
  },
  {
   "cell_type": "code",
   "execution_count": null,
   "id": "0e8d2d7e",
   "metadata": {},
   "outputs": [],
   "source": []
  }
 ],
 "metadata": {
  "kernelspec": {
   "display_name": "Python 3 (ipykernel)",
   "language": "python",
   "name": "python3"
  },
  "language_info": {
   "codemirror_mode": {
    "name": "ipython",
    "version": 3
   },
   "file_extension": ".py",
   "mimetype": "text/x-python",
   "name": "python",
   "nbconvert_exporter": "python",
   "pygments_lexer": "ipython3",
   "version": "3.8.10"
  }
 },
 "nbformat": 4,
 "nbformat_minor": 5
}

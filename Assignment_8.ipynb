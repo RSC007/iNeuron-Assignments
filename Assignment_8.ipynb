{
 "cells": [
  {
   "cell_type": "code",
   "execution_count": 1,
   "id": "0f7ad394",
   "metadata": {},
   "outputs": [],
   "source": [
    "# 1. Is the Python Standard Library included with PyInputPlus?"
   ]
  },
  {
   "cell_type": "code",
   "execution_count": 10,
   "id": "bac43bb7",
   "metadata": {},
   "outputs": [],
   "source": [
    "# Ans : No"
   ]
  },
  {
   "cell_type": "code",
   "execution_count": 11,
   "id": "94866253",
   "metadata": {},
   "outputs": [],
   "source": [
    "# 2. Why is PyInputPlus commonly imported with import pyinputplus as pypi?\n",
    "# import pyinputplus as pypi"
   ]
  },
  {
   "cell_type": "code",
   "execution_count": 4,
   "id": "212f461a",
   "metadata": {},
   "outputs": [],
   "source": [
    "# Ans : To validate the user input with specific validation"
   ]
  },
  {
   "cell_type": "code",
   "execution_count": 5,
   "id": "de6f1762",
   "metadata": {},
   "outputs": [],
   "source": [
    "# 3. How do you distinguish between inputInt() and inputFloat()?"
   ]
  },
  {
   "cell_type": "code",
   "execution_count": 6,
   "id": "56dc52c4",
   "metadata": {},
   "outputs": [],
   "source": [
    "# Ans: inputInt() get integer value and inputFloat() get floating value"
   ]
  },
  {
   "cell_type": "code",
   "execution_count": 7,
   "id": "7214fdc7",
   "metadata": {},
   "outputs": [],
   "source": [
    "# 4. Using PyInputPlus, how do you ensure that the user enters a whole number between 0 and 99?"
   ]
  },
  {
   "cell_type": "code",
   "execution_count": 13,
   "id": "35aacf9f",
   "metadata": {},
   "outputs": [],
   "source": [
    "# Ans : inputint(min=0, max=99)"
   ]
  },
  {
   "cell_type": "code",
   "execution_count": 14,
   "id": "de774dbf",
   "metadata": {},
   "outputs": [],
   "source": [
    "# 5. What is transferred to the keyword arguments allowRegexes and blockRegexes?"
   ]
  },
  {
   "cell_type": "code",
   "execution_count": 16,
   "id": "ac3ecf44",
   "metadata": {},
   "outputs": [],
   "source": [
    "# Ans: We can also use regular expressions to specify whether an input is allowed or not. The allowRegexes and blockRegexes\n",
    "# keyword arguments take a list of regular expression strings"
   ]
  },
  {
   "cell_type": "code",
   "execution_count": 18,
   "id": "6a273c68",
   "metadata": {},
   "outputs": [],
   "source": [
    "# 6. If a blank input is entered three times, what does inputStr(limit=3) do?"
   ]
  },
  {
   "cell_type": "code",
   "execution_count": 19,
   "id": "2db74877",
   "metadata": {},
   "outputs": [],
   "source": [
    "# Ans: It will throw RetryLimitException exception."
   ]
  },
  {
   "cell_type": "code",
   "execution_count": 20,
   "id": "6ece352b",
   "metadata": {},
   "outputs": [],
   "source": [
    "# 7. If blank input is entered three times, what does inputStr(limit=3, default='hello') do?"
   ]
  },
  {
   "cell_type": "code",
   "execution_count": 21,
   "id": "e24cb872",
   "metadata": {},
   "outputs": [],
   "source": [
    "# Ans : it return hello"
   ]
  },
  {
   "cell_type": "code",
   "execution_count": null,
   "id": "511a18d3",
   "metadata": {},
   "outputs": [],
   "source": []
  }
 ],
 "metadata": {
  "kernelspec": {
   "display_name": "Python 3 (ipykernel)",
   "language": "python",
   "name": "python3"
  },
  "language_info": {
   "codemirror_mode": {
    "name": "ipython",
    "version": 3
   },
   "file_extension": ".py",
   "mimetype": "text/x-python",
   "name": "python",
   "nbconvert_exporter": "python",
   "pygments_lexer": "ipython3",
   "version": "3.9.7"
  }
 },
 "nbformat": 4,
 "nbformat_minor": 5
}

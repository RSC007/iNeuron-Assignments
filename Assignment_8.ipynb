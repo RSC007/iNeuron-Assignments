{
 "cells": [
  {
   "cell_type": "code",
   "execution_count": 1,
   "id": "fbf61b74",
   "metadata": {},
   "outputs": [],
   "source": [
    "# 1. Is the Python Standard Library included with PyInputPlus?"
   ]
  },
  {
   "cell_type": "code",
   "execution_count": 10,
   "id": "dc71bba8",
   "metadata": {},
   "outputs": [],
   "source": [
    "# Ans : No"
   ]
  },
  {
   "cell_type": "code",
   "execution_count": 11,
   "id": "48eda1ed",
   "metadata": {},
   "outputs": [],
   "source": [
    "# 2. Why is PyInputPlus commonly imported with import pyinputplus as pypi?\n",
    "# import pyinputplus as pypi"
   ]
  },
  {
   "cell_type": "code",
   "execution_count": 4,
   "id": "cf3411c8",
   "metadata": {},
   "outputs": [],
   "source": [
    "# Ans : To validate the user input with specific validation"
   ]
  },
  {
   "cell_type": "code",
   "execution_count": 5,
   "id": "385d1e49",
   "metadata": {},
   "outputs": [],
   "source": [
    "# 3. How do you distinguish between inputInt() and inputFloat()?"
   ]
  },
  {
   "cell_type": "code",
   "execution_count": 6,
   "id": "eeb3b6d9",
   "metadata": {},
   "outputs": [],
   "source": [
    "# Ans: inputInt() get integer value and inputFloat() get floating value"
   ]
  },
  {
   "cell_type": "code",
   "execution_count": 7,
   "id": "c82c50df",
   "metadata": {},
   "outputs": [],
   "source": [
    "# 4. Using PyInputPlus, how do you ensure that the user enters a whole number between 0 and 99?"
   ]
  },
  {
   "cell_type": "code",
   "execution_count": 13,
   "id": "27575d27",
   "metadata": {},
   "outputs": [],
   "source": [
    "# Ans : inputint(min=0, max=100)"
   ]
  },
  {
   "cell_type": "code",
   "execution_count": 14,
   "id": "a727ca81",
   "metadata": {},
   "outputs": [],
   "source": [
    "# 5. What is transferred to the keyword arguments allowRegexes and blockRegexes?"
   ]
  },
  {
   "cell_type": "code",
   "execution_count": 16,
   "id": "f14870c3",
   "metadata": {},
   "outputs": [],
   "source": [
    "# Ans: We can also use regular expressions to specify whether an input is allowed or not. The allowRegexes and blockRegexes\n",
    "# keyword arguments take a list of regular expression strings"
   ]
  },
  {
   "cell_type": "code",
   "execution_count": 18,
   "id": "18afa42c",
   "metadata": {},
   "outputs": [],
   "source": [
    "# 6. If a blank input is entered three times, what does inputStr(limit=3) do?"
   ]
  },
  {
   "cell_type": "code",
   "execution_count": 19,
   "id": "02aee63f",
   "metadata": {},
   "outputs": [],
   "source": [
    "# Ans: It will throw RetryLimitException exception."
   ]
  },
  {
   "cell_type": "code",
   "execution_count": 20,
   "id": "f76e6a45",
   "metadata": {},
   "outputs": [],
   "source": [
    "# 7. If blank input is entered three times, what does inputStr(limit=3, default='hello') do?"
   ]
  },
  {
   "cell_type": "code",
   "execution_count": 21,
   "id": "4c918861",
   "metadata": {},
   "outputs": [],
   "source": [
    "# Ans : it return hello"
   ]
  },
  {
   "cell_type": "code",
   "execution_count": null,
   "id": "e642b68d",
   "metadata": {},
   "outputs": [],
   "source": []
  }
 ],
 "metadata": {
  "kernelspec": {
   "display_name": "Python 3 (ipykernel)",
   "language": "python",
   "name": "python3"
  },
  "language_info": {
   "codemirror_mode": {
    "name": "ipython",
    "version": 3
   },
   "file_extension": ".py",
   "mimetype": "text/x-python",
   "name": "python",
   "nbconvert_exporter": "python",
   "pygments_lexer": "ipython3",
   "version": "3.9.7"
  }
 },
 "nbformat": 4,
 "nbformat_minor": 5
}

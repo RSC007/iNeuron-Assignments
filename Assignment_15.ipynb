{
 "cells": [
  {
   "cell_type": "code",
   "execution_count": 1,
   "id": "e2ae794f",
   "metadata": {},
   "outputs": [],
   "source": [
    "# 1.How many seconds are in an hour? Use the interactive interpreter as a calculator and multiply the\n",
    "# number of seconds in a minute (60) by the number of minutes in an hour (also 60)."
   ]
  },
  {
   "cell_type": "code",
   "execution_count": 5,
   "id": "c1037d19",
   "metadata": {},
   "outputs": [
    {
     "name": "stdout",
     "output_type": "stream",
     "text": [
      "3600\n"
     ]
    }
   ],
   "source": [
    "seconds_per_minute = 60\n",
    "minutes_pre_hour = 60\n",
    "\n",
    "seconds_per_hour = seconds_per_minute * minutes_pre_hour\n",
    "print(seconds_per_hour)"
   ]
  },
  {
   "cell_type": "code",
   "execution_count": 3,
   "id": "0bf81a2a",
   "metadata": {},
   "outputs": [],
   "source": [
    "# 2. Assign the result from the previous task (seconds in an hour) to a variable called\n",
    "# seconds_per_hour."
   ]
  },
  {
   "cell_type": "code",
   "execution_count": 9,
   "id": "b4cc9315",
   "metadata": {},
   "outputs": [
    {
     "name": "stdout",
     "output_type": "stream",
     "text": [
      "seconds_per_hour 3600\n"
     ]
    }
   ],
   "source": [
    "seconds_per_hour = seconds_per_minute * minutes_pre_hour\n",
    "print(f'seconds_per_hour {seconds_per_hour}')"
   ]
  },
  {
   "cell_type": "code",
   "execution_count": 10,
   "id": "c326430f",
   "metadata": {},
   "outputs": [],
   "source": [
    "# 3. How many seconds do you think there are in a day? Make use of the variables seconds per hour\n",
    "# and minutes per hour."
   ]
  },
  {
   "cell_type": "code",
   "execution_count": 11,
   "id": "191c6ad2",
   "metadata": {},
   "outputs": [
    {
     "name": "stdout",
     "output_type": "stream",
     "text": [
      "Seconds per day 86400\n"
     ]
    }
   ],
   "source": [
    "hours_per_day = 24\n",
    "seconds_per_day = hours_per_day * minutes_pre_hour * seconds_per_minute\n",
    "print(f'Seconds per day {seconds_per_day}')"
   ]
  },
  {
   "cell_type": "code",
   "execution_count": 12,
   "id": "1e86ab95",
   "metadata": {},
   "outputs": [],
   "source": [
    "# 4. Calculate seconds per day again, but this time save the result in a\n",
    "# variable called seconds_per_day"
   ]
  },
  {
   "cell_type": "code",
   "execution_count": 13,
   "id": "e80a7c16",
   "metadata": {},
   "outputs": [],
   "source": [
    "seconds_per_day = hours_per_day * minutes_pre_hour * seconds_per_minute"
   ]
  },
  {
   "cell_type": "code",
   "execution_count": 14,
   "id": "eaafaca4",
   "metadata": {},
   "outputs": [],
   "source": [
    "# 5. Divide seconds_per_day by seconds_per_hour. Use floating-point (/) division."
   ]
  },
  {
   "cell_type": "code",
   "execution_count": 15,
   "id": "dfd97810",
   "metadata": {},
   "outputs": [
    {
     "name": "stdout",
     "output_type": "stream",
     "text": [
      "divide seconds_per_day by seconds_per_hour 24.0\n"
     ]
    }
   ],
   "source": [
    "print(f'divide seconds_per_day by seconds_per_hour { seconds_per_day / seconds_per_hour }' )"
   ]
  },
  {
   "cell_type": "code",
   "execution_count": 16,
   "id": "bebe2a71",
   "metadata": {},
   "outputs": [],
   "source": [
    "# 6. Divide seconds_per_day by seconds_per_hour, using integer (//) division. Did this number agree\n",
    "# with the floating-point value from the previous question, aside from the final .0?"
   ]
  },
  {
   "cell_type": "code",
   "execution_count": 19,
   "id": "7281dd86",
   "metadata": {},
   "outputs": [
    {
     "name": "stdout",
     "output_type": "stream",
     "text": [
      "divide seconds_per_day by seconds_per_hour 24\n"
     ]
    }
   ],
   "source": [
    "print(f'divide seconds_per_day by seconds_per_hour { seconds_per_day // seconds_per_hour }' )"
   ]
  },
  {
   "cell_type": "code",
   "execution_count": 20,
   "id": "10c72c9c",
   "metadata": {},
   "outputs": [],
   "source": [
    "# 7. Write a generator, genPrimes, that returns the sequence of prime numbers on successive calls to\n",
    "# its next() method: 2, 3, 5, 7, 11, ..."
   ]
  },
  {
   "cell_type": "code",
   "execution_count": 1,
   "id": "f30e8236",
   "metadata": {},
   "outputs": [],
   "source": [
    "def genPrimes():\n",
    "    prime = []\n",
    "    n = 2\n",
    "    last = n \n",
    "\n",
    "    while True:\n",
    "        for i in prime:\n",
    "            if(n % i == 0):\n",
    "                n += 1\n",
    "                break;\n",
    "            \n",
    "        else:\n",
    "            prime.append(n)\n",
    "            last = n\n",
    "            n += 1\n",
    "            yield last\n",
    "            \n",
    "        "
   ]
  },
  {
   "cell_type": "code",
   "execution_count": 2,
   "id": "998b9ecb",
   "metadata": {},
   "outputs": [],
   "source": [
    "ite = genPrimes()"
   ]
  },
  {
   "cell_type": "code",
   "execution_count": 3,
   "id": "7cea3328",
   "metadata": {},
   "outputs": [
    {
     "data": {
      "text/plain": [
       "2"
      ]
     },
     "execution_count": 3,
     "metadata": {},
     "output_type": "execute_result"
    }
   ],
   "source": [
    "next(ite)"
   ]
  },
  {
   "cell_type": "code",
   "execution_count": 4,
   "id": "adfc6432",
   "metadata": {},
   "outputs": [
    {
     "data": {
      "text/plain": [
       "3"
      ]
     },
     "execution_count": 4,
     "metadata": {},
     "output_type": "execute_result"
    }
   ],
   "source": [
    "next(ite)"
   ]
  },
  {
   "cell_type": "code",
   "execution_count": 5,
   "id": "936b2949",
   "metadata": {},
   "outputs": [
    {
     "data": {
      "text/plain": [
       "5"
      ]
     },
     "execution_count": 5,
     "metadata": {},
     "output_type": "execute_result"
    }
   ],
   "source": [
    "next(ite)"
   ]
  },
  {
   "cell_type": "code",
   "execution_count": 6,
   "id": "4e563b40",
   "metadata": {},
   "outputs": [
    {
     "data": {
      "text/plain": [
       "7"
      ]
     },
     "execution_count": 6,
     "metadata": {},
     "output_type": "execute_result"
    }
   ],
   "source": [
    "next(ite)"
   ]
  },
  {
   "cell_type": "code",
   "execution_count": 7,
   "id": "0ba476d5",
   "metadata": {},
   "outputs": [
    {
     "data": {
      "text/plain": [
       "11"
      ]
     },
     "execution_count": 7,
     "metadata": {},
     "output_type": "execute_result"
    }
   ],
   "source": [
    "next(ite)"
   ]
  },
  {
   "cell_type": "code",
   "execution_count": null,
   "id": "e88216f1",
   "metadata": {},
   "outputs": [],
   "source": []
  }
 ],
 "metadata": {
  "kernelspec": {
   "display_name": "Python 3 (ipykernel)",
   "language": "python",
   "name": "python3"
  },
  "language_info": {
   "codemirror_mode": {
    "name": "ipython",
    "version": 3
   },
   "file_extension": ".py",
   "mimetype": "text/x-python",
   "name": "python",
   "nbconvert_exporter": "python",
   "pygments_lexer": "ipython3",
   "version": "3.9.7"
  }
 },
 "nbformat": 4,
 "nbformat_minor": 5
}

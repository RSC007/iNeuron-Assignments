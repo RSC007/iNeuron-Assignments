{
 "cells": [
  {
   "cell_type": "code",
   "execution_count": 1,
   "id": "373c7487",
   "metadata": {},
   "outputs": [],
   "source": [
    "# 1. To what does a relative path refer?"
   ]
  },
  {
   "cell_type": "code",
   "execution_count": 3,
   "id": "19dd0511",
   "metadata": {},
   "outputs": [],
   "source": [
    "# Ans: relpath() method in Python is used to get a relative filepath to the given path either from the current working directory\n",
    "# or from the given directory"
   ]
  },
  {
   "cell_type": "code",
   "execution_count": 4,
   "id": "35c1b63b",
   "metadata": {},
   "outputs": [],
   "source": [
    "# 2. What does an absolute path start with your operating system?"
   ]
  },
  {
   "cell_type": "code",
   "execution_count": 5,
   "id": "c93e62c3",
   "metadata": {},
   "outputs": [],
   "source": [
    "# Ans: path will begin at the home directory of your computer"
   ]
  },
  {
   "cell_type": "code",
   "execution_count": 6,
   "id": "f9990516",
   "metadata": {},
   "outputs": [],
   "source": [
    "# 3. What do the functions os.getcwd() and os.chdir() do?"
   ]
  },
  {
   "cell_type": "code",
   "execution_count": 7,
   "id": "4743449e",
   "metadata": {},
   "outputs": [],
   "source": [
    "# Ans : os.getcwd() gives current working directory, os.chdir() allows you to set the current working directory \n",
    "# to a path of your choice"
   ]
  },
  {
   "cell_type": "code",
   "execution_count": 8,
   "id": "05c7a095",
   "metadata": {},
   "outputs": [],
   "source": [
    "# 4. What are the . and .. folders?"
   ]
  },
  {
   "cell_type": "code",
   "execution_count": 9,
   "id": "e77f666d",
   "metadata": {},
   "outputs": [],
   "source": [
    "# Ans : . current folder, .. means parent folder"
   ]
  },
  {
   "cell_type": "code",
   "execution_count": 10,
   "id": "776c6057",
   "metadata": {},
   "outputs": [],
   "source": [
    "# 5. In C:\\bacon\\eggs\\spam.txt, which part is the dir name, and which part is the base name?"
   ]
  },
  {
   "cell_type": "code",
   "execution_count": 11,
   "id": "48aa8325",
   "metadata": {},
   "outputs": [],
   "source": [
    "# Ans: C:\\bacon\\eggs\\ base name, spam.txt dir name"
   ]
  },
  {
   "cell_type": "code",
   "execution_count": 12,
   "id": "49a94fa0",
   "metadata": {},
   "outputs": [],
   "source": [
    "# 6. What are the three “mode” arguments that can be passed to the open() function?"
   ]
  },
  {
   "cell_type": "code",
   "execution_count": 13,
   "id": "c8aa4f1a",
   "metadata": {},
   "outputs": [],
   "source": [
    "# Ans: r, w, a"
   ]
  },
  {
   "cell_type": "code",
   "execution_count": 14,
   "id": "7b6cc768",
   "metadata": {},
   "outputs": [],
   "source": [
    "# 7. What happens if an existing file is opened in write mode?"
   ]
  },
  {
   "cell_type": "code",
   "execution_count": 15,
   "id": "f08397f0",
   "metadata": {},
   "outputs": [],
   "source": [
    "# Ans: If a file with the same name already exists, its contents are discarded and the file is treated as a new empty file"
   ]
  },
  {
   "cell_type": "code",
   "execution_count": 16,
   "id": "bdf507ba",
   "metadata": {},
   "outputs": [],
   "source": [
    "# 8. How do you tell the difference between read() and readlines()?"
   ]
  },
  {
   "cell_type": "code",
   "execution_count": 17,
   "id": "5b24ba68",
   "metadata": {},
   "outputs": [],
   "source": [
    "# Ans: read()  read whole content at once, readline() read single line at once as you mention"
   ]
  },
  {
   "cell_type": "code",
   "execution_count": 18,
   "id": "19fdb4e4",
   "metadata": {},
   "outputs": [],
   "source": [
    "# 9. What data structure does a shelf value resemble?"
   ]
  },
  {
   "cell_type": "code",
   "execution_count": 19,
   "id": "e982e715",
   "metadata": {},
   "outputs": [],
   "source": [
    "# Ans: work similarly to the dictionary methods of the same names."
   ]
  },
  {
   "cell_type": "code",
   "execution_count": null,
   "id": "fbf96d82",
   "metadata": {},
   "outputs": [],
   "source": []
  }
 ],
 "metadata": {
  "kernelspec": {
   "display_name": "Python 3 (ipykernel)",
   "language": "python",
   "name": "python3"
  },
  "language_info": {
   "codemirror_mode": {
    "name": "ipython",
    "version": 3
   },
   "file_extension": ".py",
   "mimetype": "text/x-python",
   "name": "python",
   "nbconvert_exporter": "python",
   "pygments_lexer": "ipython3",
   "version": "3.9.7"
  }
 },
 "nbformat": 4,
 "nbformat_minor": 5
}

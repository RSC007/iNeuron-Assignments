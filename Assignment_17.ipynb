{
 "cells": [
  {
   "cell_type": "code",
   "execution_count": 1,
   "id": "bf9b7fa8",
   "metadata": {},
   "outputs": [],
   "source": [
    "# 1. Assign the value 7 to the variable guess_me. Then, write the conditional tests (if, else, and elif) to\n",
    "# print the string \"too low\" if guess_me is less than 7, &#39;too high&#39; if greater than 7, and &#39;just right&#39; if equal\n",
    "# to 7."
   ]
  },
  {
   "cell_type": "code",
   "execution_count": 5,
   "id": "cc482e50",
   "metadata": {},
   "outputs": [
    {
     "name": "stdout",
     "output_type": "stream",
     "text": [
      "just right\n"
     ]
    }
   ],
   "source": [
    "guess_me = 7\n",
    "if(guess_me < 7):\n",
    "    print(\"too low\")\n",
    "elif (guess_me > 7):\n",
    "    print(\"too high\")\n",
    "else:\n",
    "    print(\"just right\")"
   ]
  },
  {
   "cell_type": "code",
   "execution_count": 7,
   "id": "a653f221",
   "metadata": {},
   "outputs": [],
   "source": [
    "# 2. Assign the value 7 to the variable guess_me and the value 1 to the variable start. Write a while\n",
    "# loop that compares start with guess_me. Print too low if start is less than guess me. If start equals\n",
    "# guess_me, print \"found it!\" and exit the loop. If start is greater than guess_me, print \"oops\" and exit\n",
    "# the loop. Increment start at the end of the loop."
   ]
  },
  {
   "cell_type": "code",
   "execution_count": 9,
   "id": "59f522d9",
   "metadata": {},
   "outputs": [
    {
     "name": "stdout",
     "output_type": "stream",
     "text": [
      "too low\n",
      "too low\n",
      "too low\n",
      "too low\n",
      "too low\n",
      "too low\n",
      "found it\n"
     ]
    }
   ],
   "source": [
    "guess_me = 7\n",
    "start = 1\n",
    "\n",
    "while True:\n",
    "    if(start < guess_me):\n",
    "        print(\"too low\")\n",
    "    \n",
    "    if(start == guess_me):\n",
    "        print(\"found it\")\n",
    "        break;\n",
    "    \n",
    "    if(start > guess_me):\n",
    "        print(\"oops\")\n",
    "        break;\n",
    "        \n",
    "    start += 1\n",
    "        \n",
    "    "
   ]
  },
  {
   "cell_type": "code",
   "execution_count": 10,
   "id": "ab402061",
   "metadata": {},
   "outputs": [],
   "source": [
    "# 3. Print the following values of the list [3, 2, 1, 0] using a for loop."
   ]
  },
  {
   "cell_type": "code",
   "execution_count": 11,
   "id": "8b6d661f",
   "metadata": {},
   "outputs": [
    {
     "name": "stdout",
     "output_type": "stream",
     "text": [
      "3\n",
      "2\n",
      "1\n",
      "0\n"
     ]
    }
   ],
   "source": [
    "for i in [3, 2, 1, 0]:\n",
    "    print(i)"
   ]
  },
  {
   "cell_type": "code",
   "execution_count": 12,
   "id": "7ae5ecc4",
   "metadata": {},
   "outputs": [],
   "source": [
    "# 4. Use a list comprehension to make a list of the even numbers in range(10)"
   ]
  },
  {
   "cell_type": "code",
   "execution_count": 14,
   "id": "9652f1d4",
   "metadata": {},
   "outputs": [
    {
     "data": {
      "text/plain": [
       "[0, 2, 4, 6, 8]"
      ]
     },
     "execution_count": 14,
     "metadata": {},
     "output_type": "execute_result"
    }
   ],
   "source": [
    "[x for x in range(10) if x%2==0]"
   ]
  },
  {
   "cell_type": "code",
   "execution_count": 15,
   "id": "534b9979",
   "metadata": {},
   "outputs": [],
   "source": [
    "# 5. Use a dictionary comprehension to create the dictionary squares. Use range(10) to return the\n",
    "# keys, and use the square of each key as its value."
   ]
  },
  {
   "cell_type": "code",
   "execution_count": 18,
   "id": "f5ad2980",
   "metadata": {},
   "outputs": [
    {
     "data": {
      "text/plain": [
       "{0: 0, 1: 1, 2: 4, 3: 9, 4: 16, 5: 25, 6: 36, 7: 49, 8: 64, 9: 81}"
      ]
     },
     "execution_count": 18,
     "metadata": {},
     "output_type": "execute_result"
    }
   ],
   "source": [
    "{x: x**2 for x in range(10)}"
   ]
  },
  {
   "cell_type": "code",
   "execution_count": 20,
   "id": "35e34710",
   "metadata": {},
   "outputs": [],
   "source": [
    "# 6. Construct the set odd from the odd numbers in the range using a set comprehension (10)."
   ]
  },
  {
   "cell_type": "code",
   "execution_count": 29,
   "id": "1aa7c6bd",
   "metadata": {},
   "outputs": [
    {
     "data": {
      "text/plain": [
       "{1, 3, 5, 7, 9}"
      ]
     },
     "execution_count": 29,
     "metadata": {},
     "output_type": "execute_result"
    }
   ],
   "source": [
    "{x for x in range(10) if x%2==1}"
   ]
  },
  {
   "cell_type": "code",
   "execution_count": 30,
   "id": "dd1b245f",
   "metadata": {},
   "outputs": [],
   "source": [
    "# 7. Use a generator comprehension to return the string \"Got\" and a number for the numbers in\n",
    "# range(10). Iterate through this by using a for loop."
   ]
  },
  {
   "cell_type": "code",
   "execution_count": 32,
   "id": "d9bcf42d",
   "metadata": {},
   "outputs": [],
   "source": [
    "iters = (f\"Got {x}\" for x in range(10))"
   ]
  },
  {
   "cell_type": "code",
   "execution_count": 33,
   "id": "f31b0d86",
   "metadata": {},
   "outputs": [
    {
     "data": {
      "text/plain": [
       "'Got 0'"
      ]
     },
     "execution_count": 33,
     "metadata": {},
     "output_type": "execute_result"
    }
   ],
   "source": [
    "next(iters)"
   ]
  },
  {
   "cell_type": "code",
   "execution_count": 34,
   "id": "87de95eb",
   "metadata": {},
   "outputs": [
    {
     "data": {
      "text/plain": [
       "'Got 1'"
      ]
     },
     "execution_count": 34,
     "metadata": {},
     "output_type": "execute_result"
    }
   ],
   "source": [
    "next(iters)"
   ]
  },
  {
   "cell_type": "code",
   "execution_count": 35,
   "id": "109d9d8f",
   "metadata": {},
   "outputs": [],
   "source": [
    "# 8. Define a function called good that returns the list [\"Harry\", \"Ron\", \"Hermione\"]."
   ]
  },
  {
   "cell_type": "code",
   "execution_count": 38,
   "id": "12d1a94d",
   "metadata": {},
   "outputs": [
    {
     "data": {
      "text/plain": [
       "['Harry', 'Ron', 'Hermione']"
      ]
     },
     "execution_count": 38,
     "metadata": {},
     "output_type": "execute_result"
    }
   ],
   "source": [
    "def good():\n",
    "    return [\"Harry\", \"Ron\", \"Hermione\"]\n",
    "\n",
    "good()"
   ]
  },
  {
   "cell_type": "code",
   "execution_count": 39,
   "id": "ba2ba0b8",
   "metadata": {},
   "outputs": [],
   "source": [
    "# 9. Define a generator function called get_odds that returns the odd numbers from range(10). Use a\n",
    "# for loop to find and print the third value returned."
   ]
  },
  {
   "cell_type": "code",
   "execution_count": 41,
   "id": "2d77c93e",
   "metadata": {},
   "outputs": [
    {
     "data": {
      "text/plain": [
       "1"
      ]
     },
     "execution_count": 41,
     "metadata": {},
     "output_type": "execute_result"
    }
   ],
   "source": [
    "def get_odds():\n",
    "    for x in range(10):\n",
    "        if(x%2==1):\n",
    "            yield x\n",
    "        \n",
    "        \n",
    "ites = get_odds()\n",
    "next(ites)"
   ]
  },
  {
   "cell_type": "code",
   "execution_count": 42,
   "id": "bcc11b71",
   "metadata": {},
   "outputs": [
    {
     "data": {
      "text/plain": [
       "3"
      ]
     },
     "execution_count": 42,
     "metadata": {},
     "output_type": "execute_result"
    }
   ],
   "source": [
    "next(ites)"
   ]
  },
  {
   "cell_type": "code",
   "execution_count": 44,
   "id": "ba32159f",
   "metadata": {},
   "outputs": [],
   "source": [
    "# 10. Define an exception called OopsException. Raise this exception to see what happens. Then write\n",
    "# the code to catch this exception and print \"Caught an oops\"."
   ]
  },
  {
   "cell_type": "code",
   "execution_count": 49,
   "id": "b4b7e71a",
   "metadata": {},
   "outputs": [
    {
     "name": "stdout",
     "output_type": "stream",
     "text": [
      "Cought an oops -1\n"
     ]
    }
   ],
   "source": [
    "class OopsException(Exception):\n",
    "    pass\n",
    "\n",
    "def with_exception(a):\n",
    "    if(a < 0):\n",
    "        raise OopsException(a)\n",
    "        \n",
    "try:\n",
    "    with_exception(-1)\n",
    "except OopsException as err:\n",
    "    print(f\"Cought an oops {err}\")"
   ]
  },
  {
   "cell_type": "code",
   "execution_count": 50,
   "id": "a9e04e7c",
   "metadata": {},
   "outputs": [],
   "source": [
    "# 11. Use zip() to make a dictionary called movies that pairs these lists: titles = [\"Creature of Habit\",\n",
    "# \"Crewel Fate\"] and plots = [\"A nun turns into a monster\", \"A haunted yarn shop\"]."
   ]
  },
  {
   "cell_type": "code",
   "execution_count": 53,
   "id": "fb654613",
   "metadata": {},
   "outputs": [
    {
     "name": "stdout",
     "output_type": "stream",
     "text": [
      "{'Creature of Habit': 'A nun turns into a monster', 'Crewel Fate': 'A haunted yarn shop'}\n"
     ]
    }
   ],
   "source": [
    "titles = [\"Creature of Habit\", \"Crewel Fate\"] \n",
    "plots = [\"A nun turns into a monster\", \"A haunted yarn shop\"]\n",
    "\n",
    "movies = {}\n",
    "\n",
    "for title, plot in zip(titles, plots):\n",
    "    movies[title] = plot\n",
    "\n",
    "print(movies)"
   ]
  },
  {
   "cell_type": "code",
   "execution_count": null,
   "id": "69731118",
   "metadata": {},
   "outputs": [],
   "source": []
  }
 ],
 "metadata": {
  "kernelspec": {
   "display_name": "Python 3 (ipykernel)",
   "language": "python",
   "name": "python3"
  },
  "language_info": {
   "codemirror_mode": {
    "name": "ipython",
    "version": 3
   },
   "file_extension": ".py",
   "mimetype": "text/x-python",
   "name": "python",
   "nbconvert_exporter": "python",
   "pygments_lexer": "ipython3",
   "version": "3.9.7"
  }
 },
 "nbformat": 4,
 "nbformat_minor": 5
}

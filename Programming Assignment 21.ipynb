{
 "cells": [
  {
   "cell_type": "code",
   "execution_count": 1,
   "id": "ba789bb3",
   "metadata": {},
   "outputs": [],
   "source": [
    "# Question1\n",
    "# Write a function that takes a list and a number as arguments. Add the number to the end of\n",
    "# the list, then remove the first element of the list. The function should then return the updated\n",
    "# list."
   ]
  },
  {
   "cell_type": "code",
   "execution_count": 7,
   "id": "8bf439c8",
   "metadata": {},
   "outputs": [
    {
     "name": "stdout",
     "output_type": "stream",
     "text": [
      "[6, 7, 8, 9, 1]\n"
     ]
    }
   ],
   "source": [
    "def next_in_line(array, element):\n",
    "    array.remove(array[0])\n",
    "    array.append(element)\n",
    "    return array\n",
    "    \n",
    "    \n",
    "print(next_in_line([5, 6, 7, 8, 9], 1))"
   ]
  },
  {
   "cell_type": "code",
   "execution_count": 8,
   "id": "79ef536e",
   "metadata": {},
   "outputs": [],
   "source": [
    "# Question2\n",
    "# Create the function that takes a list of dictionaries and returns the sum of people&#39;s budgets."
   ]
  },
  {
   "cell_type": "code",
   "execution_count": 12,
   "id": "a68daace",
   "metadata": {},
   "outputs": [
    {
     "data": {
      "text/plain": [
       "65700"
      ]
     },
     "execution_count": 12,
     "metadata": {},
     "output_type": "execute_result"
    }
   ],
   "source": [
    "def get_budgets(collection):\n",
    "    total=0\n",
    "    for value in collection:\n",
    "        total += value[\"budget\"]\n",
    "    return total\n",
    "    \n",
    "get_budgets([\n",
    "{ \"name\": \"John\", \"age\": 21, \"budget\": 23000 },\n",
    "{ \"name\": \"John\", \"age\": 21, \"budget\": 40000 },\n",
    "{ \"name\": \"John\", \"age\": 21, \"budget\": 2700 },\n",
    "])"
   ]
  },
  {
   "cell_type": "code",
   "execution_count": 13,
   "id": "c4644b4b",
   "metadata": {},
   "outputs": [],
   "source": [
    "# Question3\n",
    "# Create a function that takes a string and returns a string with its letters in alphabetical order."
   ]
  },
  {
   "cell_type": "code",
   "execution_count": 14,
   "id": "636494a4",
   "metadata": {},
   "outputs": [
    {
     "data": {
      "text/plain": [
       "'olleh'"
      ]
     },
     "execution_count": 14,
     "metadata": {},
     "output_type": "execute_result"
    }
   ],
   "source": [
    "def alphabet_soup(string):\n",
    "    return string[::-1]\n",
    "    \n",
    "alphabet_soup(\"hello\")\n"
   ]
  },
  {
   "cell_type": "code",
   "execution_count": 15,
   "id": "b9a680a0",
   "metadata": {},
   "outputs": [],
   "source": [
    "# Question4\n",
    "# Suppose that you invest $10,000 for 10 years at an interest rate of 6% compounded monthly.\n",
    "# What will be the value of your investment at the end of the 10 year period?\n",
    "# Create a function that accepts the principal p, the term in years t, the interest rate r, and the\n",
    "# number of compounding periods per year n. The function returns the value at the end of term\n",
    "# rounded to the nearest cent.\n",
    "# For the example above:\n",
    "# compound_interest(10000, 10, 0.06, 12) ➞ 18193.97\n",
    "# Note that the interest rate is given as a decimal and n=12 because with monthly compounding\n",
    "# there are 12 periods per year. Compounding can also be done annually, quarterly, weekly, or\n",
    "# daily."
   ]
  },
  {
   "cell_type": "code",
   "execution_count": 17,
   "id": "8b21c2d9",
   "metadata": {},
   "outputs": [
    {
     "data": {
      "text/plain": [
       "105.0"
      ]
     },
     "execution_count": 17,
     "metadata": {},
     "output_type": "execute_result"
    }
   ],
   "source": [
    "def compound_interest(p, n, r, t):\n",
    "    return p*(1+r/n)**(n*t)\n",
    "\n",
    "compound_interest(100, 1, 0.05, 1)"
   ]
  },
  {
   "cell_type": "code",
   "execution_count": 18,
   "id": "0e53fc20",
   "metadata": {},
   "outputs": [],
   "source": [
    "# Question5\n",
    "# Write a function that takes a list of elements and returns only the integers."
   ]
  },
  {
   "cell_type": "code",
   "execution_count": 19,
   "id": "74cc1410",
   "metadata": {},
   "outputs": [
    {
     "data": {
      "text/plain": [
       "[9, 2, 16]"
      ]
     },
     "execution_count": 19,
     "metadata": {},
     "output_type": "execute_result"
    }
   ],
   "source": [
    "def return_only_integer(array):\n",
    "    result = []\n",
    "    for i in array:\n",
    "        if type(i)==int:\n",
    "            result.append(i)\n",
    "    return result\n",
    "\n",
    "return_only_integer([9, 2, \"space\", \"car\", \"lion\", 16])"
   ]
  },
  {
   "cell_type": "code",
   "execution_count": null,
   "id": "30b651ff",
   "metadata": {},
   "outputs": [],
   "source": []
  }
 ],
 "metadata": {
  "kernelspec": {
   "display_name": "Python 3 (ipykernel)",
   "language": "python",
   "name": "python3"
  },
  "language_info": {
   "codemirror_mode": {
    "name": "ipython",
    "version": 3
   },
   "file_extension": ".py",
   "mimetype": "text/x-python",
   "name": "python",
   "nbconvert_exporter": "python",
   "pygments_lexer": "ipython3",
   "version": "3.8.10"
  }
 },
 "nbformat": 4,
 "nbformat_minor": 5
}

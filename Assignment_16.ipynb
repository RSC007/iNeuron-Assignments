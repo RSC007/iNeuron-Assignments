{
 "cells": [
  {
   "cell_type": "code",
   "execution_count": 1,
   "id": "bfccc2c1",
   "metadata": {},
   "outputs": [],
   "source": [
    "# 1. Create a list called years_list, starting with the year of your birth, and each year thereafter until\n",
    "# the year of your fifth birthday. For example, if you were born in 1980. the list would be years_list =\n",
    "# [1980, 1981, 1982, 1983, 1984, 1985]."
   ]
  },
  {
   "cell_type": "code",
   "execution_count": 7,
   "id": "0717b2c9",
   "metadata": {},
   "outputs": [
    {
     "name": "stdout",
     "output_type": "stream",
     "text": [
      "Enter the year you were born 1980\n",
      "[1980, 1981, 1982, 1983, 1984, 1985]\n"
     ]
    }
   ],
   "source": [
    "def create_list():\n",
    "    year_u_born = int(input(\"Enter the year you were born \"))\n",
    "    years_list = [year_u_born]\n",
    "    for i in range(1, 6):\n",
    "        years_list.append(year_u_born + i)\n",
    "      \n",
    "    return years_list\n",
    "\n",
    "years_list = create_list()\n",
    "print(years_list)"
   ]
  },
  {
   "cell_type": "code",
   "execution_count": 8,
   "id": "7e0367aa",
   "metadata": {},
   "outputs": [],
   "source": [
    "# 2. In which year in years_list was your third birthday? Remember, you were 0 years of age for your\n",
    "# first year."
   ]
  },
  {
   "cell_type": "code",
   "execution_count": 10,
   "id": "7c6277e7",
   "metadata": {},
   "outputs": [
    {
     "data": {
      "text/plain": [
       "1983"
      ]
     },
     "execution_count": 10,
     "metadata": {},
     "output_type": "execute_result"
    }
   ],
   "source": [
    "years_list[3]"
   ]
  },
  {
   "cell_type": "code",
   "execution_count": 11,
   "id": "ec0b9f8f",
   "metadata": {},
   "outputs": [],
   "source": [
    "# 3.In the years list, which year were you the oldest?"
   ]
  },
  {
   "cell_type": "code",
   "execution_count": 14,
   "id": "4e79320f",
   "metadata": {},
   "outputs": [
    {
     "data": {
      "text/plain": [
       "1985"
      ]
     },
     "execution_count": 14,
     "metadata": {},
     "output_type": "execute_result"
    }
   ],
   "source": [
    "years_list[len(years_list)-1]"
   ]
  },
  {
   "cell_type": "code",
   "execution_count": 19,
   "id": "31b29103",
   "metadata": {},
   "outputs": [],
   "source": [
    "# 4. Make a list called things with these three strings as elements: \"mozzarella\", \"cinderella\",\"salmonella\"."
   ]
  },
  {
   "cell_type": "code",
   "execution_count": 40,
   "id": "4eb08df3",
   "metadata": {},
   "outputs": [],
   "source": [
    "things = [\"mozzarella\",\"cinderella\",\"salmonella\"]"
   ]
  },
  {
   "cell_type": "code",
   "execution_count": 41,
   "id": "780e2abf",
   "metadata": {},
   "outputs": [],
   "source": [
    "# 5. Capitalize the element in things that refers to a person and then print the list. Did it change the\n",
    "# element in the list?"
   ]
  },
  {
   "cell_type": "code",
   "execution_count": 43,
   "id": "e0b15486",
   "metadata": {},
   "outputs": [
    {
     "data": {
      "text/plain": [
       "\"Did it change the element in the list ['mozzarella', 'Cinderella', 'salmonella']\""
      ]
     },
     "execution_count": 43,
     "metadata": {},
     "output_type": "execute_result"
    }
   ],
   "source": [
    "capitalize_person = things.copy()\n",
    "capitalize_person[1] = capitalize_person[1].capitalize()\n",
    "\n",
    "def check_mutation():\n",
    "    for thing, capitalize in zip(things, capitalize_person):\n",
    "            if(thing != capitalize):\n",
    "                return f\"Did it change the element in the list {capitalize_person}\"\n",
    "            \n",
    "check_mutation()"
   ]
  },
  {
   "cell_type": "code",
   "execution_count": 45,
   "id": "d5de43c6",
   "metadata": {},
   "outputs": [],
   "source": [
    "# 6. Make a surprise list with the elements \"Groucho\", \"Chico\", and \"Harpo\""
   ]
  },
  {
   "cell_type": "code",
   "execution_count": 46,
   "id": "43525e97",
   "metadata": {},
   "outputs": [],
   "source": [
    "surprise = [\"Groucho\", \"Chico\", \"Harpo\"]"
   ]
  },
  {
   "cell_type": "code",
   "execution_count": 47,
   "id": "06d846ef",
   "metadata": {},
   "outputs": [],
   "source": [
    "# 7. Lowercase the last element of the surprise list, reverse it, and then capitalize it."
   ]
  },
  {
   "cell_type": "code",
   "execution_count": 54,
   "id": "ca69ec15",
   "metadata": {},
   "outputs": [
    {
     "data": {
      "text/plain": [
       "['Groucho', 'Chico', 'Oprah']"
      ]
     },
     "execution_count": 54,
     "metadata": {},
     "output_type": "execute_result"
    }
   ],
   "source": [
    "surprise[len(surprise)-1] = surprise[len(surprise)-1].lower()\n",
    "surprise[len(surprise)-1] = surprise[len(surprise)-1][::-1]\n",
    "surprise[len(surprise)-1] = surprise[len(surprise)-1].capitalize()\n",
    "surprise"
   ]
  },
  {
   "cell_type": "code",
   "execution_count": 55,
   "id": "e05289f2",
   "metadata": {},
   "outputs": [],
   "source": [
    "# 8. Make an English-to-French dictionary called e2f and print it. Here are your starter words: dog is\n",
    "# chien, cat is chat, and walrus is morse."
   ]
  },
  {
   "cell_type": "code",
   "execution_count": 58,
   "id": "7ebeb51c",
   "metadata": {},
   "outputs": [
    {
     "data": {
      "text/plain": [
       "{'dog': 'chien', 'cat': 'chat', 'walrus': 'morse'}"
      ]
     },
     "execution_count": 58,
     "metadata": {},
     "output_type": "execute_result"
    }
   ],
   "source": [
    "e2f = {\n",
    "    \"dog\": \"chien\",\n",
    "    \"cat\": \"chat\",\n",
    "    \"walrus\": \"morse\"\n",
    "}\n",
    "e2f"
   ]
  },
  {
   "cell_type": "code",
   "execution_count": 59,
   "id": "159871ff",
   "metadata": {},
   "outputs": [],
   "source": [
    "# 9. Write the French word for walrus in your three-word dictionary e2f."
   ]
  },
  {
   "cell_type": "code",
   "execution_count": 60,
   "id": "01632b96",
   "metadata": {},
   "outputs": [
    {
     "data": {
      "text/plain": [
       "'morse'"
      ]
     },
     "execution_count": 60,
     "metadata": {},
     "output_type": "execute_result"
    }
   ],
   "source": [
    "e2f[\"walrus\"]"
   ]
  },
  {
   "cell_type": "code",
   "execution_count": 61,
   "id": "cae23786",
   "metadata": {},
   "outputs": [],
   "source": [
    "# 10. Make a French-to-English dictionary called f2e from e2f. Use the items method."
   ]
  },
  {
   "cell_type": "code",
   "execution_count": 66,
   "id": "c1bcf251",
   "metadata": {},
   "outputs": [
    {
     "data": {
      "text/plain": [
       "{'chien': 'dog', 'chat': 'cat', 'morse': 'walrus'}"
      ]
     },
     "execution_count": 66,
     "metadata": {},
     "output_type": "execute_result"
    }
   ],
   "source": [
    "\n",
    "\n",
    "def french_to_english(e2f):\n",
    "    f2e = {}\n",
    "    for key, value in e2f.items():\n",
    "        f2e[value] = key\n",
    "    \n",
    "    return f2e\n",
    "f2e = french_to_english(e2f)\n",
    "f2e"
   ]
  },
  {
   "cell_type": "code",
   "execution_count": 68,
   "id": "acfb4c4a",
   "metadata": {},
   "outputs": [],
   "source": [
    "# 11. Print the English version of the French word chien using f2e."
   ]
  },
  {
   "cell_type": "code",
   "execution_count": 69,
   "id": "43f4e1c3",
   "metadata": {},
   "outputs": [
    {
     "data": {
      "text/plain": [
       "'dog'"
      ]
     },
     "execution_count": 69,
     "metadata": {},
     "output_type": "execute_result"
    }
   ],
   "source": [
    "f2e[\"chien\"]"
   ]
  },
  {
   "cell_type": "code",
   "execution_count": 70,
   "id": "68be1cda",
   "metadata": {},
   "outputs": [],
   "source": [
    "# 12. Make and print a set of English words from the keys in e2f."
   ]
  },
  {
   "cell_type": "code",
   "execution_count": 76,
   "id": "064a5632",
   "metadata": {},
   "outputs": [
    {
     "data": {
      "text/plain": [
       "{'cat', 'dog', 'walrus'}"
      ]
     },
     "execution_count": 76,
     "metadata": {},
     "output_type": "execute_result"
    }
   ],
   "source": [
    "set_of_english = set()\n",
    "for key in e2f.keys():\n",
    "    set_of_english.add(key)\n",
    "    \n",
    "set_of_english"
   ]
  },
  {
   "cell_type": "code",
   "execution_count": 77,
   "id": "260a1f74",
   "metadata": {},
   "outputs": [],
   "source": [
    "# 13. Make a multilevel dictionary called life. Use these strings for the topmost keys: &#39;animals&#39;, &#39;plants&#39;,\n",
    "# and &#39;other&#39;. Make the &#39;animals&#39; key refer to another dictionary with the keys &#39;cats&#39;, &#39;octopi&#39;, and\n",
    "# &#39;emus&#39;. Make the &#39;cats&#39; key refer to a list of strings with the values &#39;Henri&#39;, &#39;Grumpy&#39;, and &#39;Lucy&#39;.\n",
    "# Make all the other keys refer to empty dictionaries."
   ]
  },
  {
   "cell_type": "code",
   "execution_count": 79,
   "id": "338bcd95",
   "metadata": {},
   "outputs": [],
   "source": [
    "life = {\n",
    "    \"animals\": {\n",
    "        \"cats\": [\"Henry\", \"Gumpy\", \"Lucy\"],\n",
    "        \"octopi\": {},\n",
    "        \"emus\": {}\n",
    "    },\n",
    "    \"plants\": {},\n",
    "    \"other\": {}\n",
    "}"
   ]
  },
  {
   "cell_type": "code",
   "execution_count": 81,
   "id": "e113e229",
   "metadata": {},
   "outputs": [],
   "source": [
    "# 14. Print the top-level keys of life."
   ]
  },
  {
   "cell_type": "code",
   "execution_count": 82,
   "id": "44dc3895",
   "metadata": {},
   "outputs": [
    {
     "name": "stdout",
     "output_type": "stream",
     "text": [
      "animals\n",
      "plants\n",
      "other\n"
     ]
    }
   ],
   "source": [
    "for key in life.keys():\n",
    "    print(key)"
   ]
  },
  {
   "cell_type": "code",
   "execution_count": 83,
   "id": "a2e72fd4",
   "metadata": {},
   "outputs": [],
   "source": [
    "# 15. Print the keys for life[\"animals\"]."
   ]
  },
  {
   "cell_type": "code",
   "execution_count": 84,
   "id": "f52099d9",
   "metadata": {},
   "outputs": [
    {
     "data": {
      "text/plain": [
       "{'cats': ['Henry', 'Gumpy', 'Lucy'], 'octopi': {}, 'emus': {}}"
      ]
     },
     "execution_count": 84,
     "metadata": {},
     "output_type": "execute_result"
    }
   ],
   "source": [
    "life[\"animals\"]"
   ]
  },
  {
   "cell_type": "code",
   "execution_count": 85,
   "id": "7f4c2984",
   "metadata": {},
   "outputs": [],
   "source": [
    "# 16. Print the values for life[\"animals\"][\"cats\"]"
   ]
  },
  {
   "cell_type": "code",
   "execution_count": 86,
   "id": "4453e49f",
   "metadata": {},
   "outputs": [
    {
     "data": {
      "text/plain": [
       "['Henry', 'Gumpy', 'Lucy']"
      ]
     },
     "execution_count": 86,
     "metadata": {},
     "output_type": "execute_result"
    }
   ],
   "source": [
    "life[\"animals\"][\"cats\"]"
   ]
  },
  {
   "cell_type": "code",
   "execution_count": null,
   "id": "aac427a3",
   "metadata": {},
   "outputs": [],
   "source": []
  }
 ],
 "metadata": {
  "kernelspec": {
   "display_name": "Python 3 (ipykernel)",
   "language": "python",
   "name": "python3"
  },
  "language_info": {
   "codemirror_mode": {
    "name": "ipython",
    "version": 3
   },
   "file_extension": ".py",
   "mimetype": "text/x-python",
   "name": "python",
   "nbconvert_exporter": "python",
   "pygments_lexer": "ipython3",
   "version": "3.9.7"
  }
 },
 "nbformat": 4,
 "nbformat_minor": 5
}

{
 "cells": [
  {
   "cell_type": "code",
   "execution_count": 1,
   "id": "ce3c4557",
   "metadata": {},
   "outputs": [],
   "source": [
    "# 1. Write a Python Program to Add Two Matrices?"
   ]
  },
  {
   "cell_type": "code",
   "execution_count": 10,
   "id": "233f4a7c",
   "metadata": {},
   "outputs": [
    {
     "name": "stdout",
     "output_type": "stream",
     "text": [
      "[[2, 4, 6], [6, 8, 10], [12, 14, 16]]\n"
     ]
    }
   ],
   "source": [
    "arr1=[\n",
    "    [1,2,3],\n",
    "    [3,4,5],\n",
    "    [6,7,8]\n",
    "]\n",
    "arr2=[\n",
    "    [1,2,3],\n",
    "    [3,4,5],\n",
    "    [6,7,8]\n",
    "]\n",
    "\n",
    "def add_two_matrix(arr1, arr2):\n",
    "    result = [[0,0,0],\n",
    "         [0,0,0],\n",
    "         [0,0,0]]\n",
    "    for i in range(len(arr1)):\n",
    "        for j in range(len(arr1[0])):\n",
    "            result[i][j] = arr1[i][j] + arr2[i][j]\n",
    "            \n",
    "    return result\n",
    "\n",
    "print(add_two_matrix(arr1, arr2))"
   ]
  },
  {
   "cell_type": "code",
   "execution_count": 11,
   "id": "78adf564",
   "metadata": {},
   "outputs": [],
   "source": [
    "# 2. Write a Python Program to Multiply Two Matrices?"
   ]
  },
  {
   "cell_type": "code",
   "execution_count": 12,
   "id": "aca2f0cd",
   "metadata": {},
   "outputs": [
    {
     "name": "stdout",
     "output_type": "stream",
     "text": [
      "[[114, 160, 60, 27], [74, 97, 73, 14], [119, 157, 112, 23]]\n"
     ]
    }
   ],
   "source": [
    "X = [[12,7,3],\n",
    "    [4 ,5,6],\n",
    "    [7 ,8,9]]\n",
    "\n",
    "Y = [[5,8,1,2],\n",
    "    [6,7,3,0],\n",
    "    [4,5,9,1]]\n",
    "\n",
    "result = [[0,0,0,0],\n",
    "         [0,0,0,0],\n",
    "         [0,0,0,0]]\n",
    "\n",
    "for i in range(len(X)):\n",
    "   for j in range(len(Y[0])):\n",
    "       for k in range(len(Y)):\n",
    "           result[i][j] += X[i][k] * Y[k][j]\n",
    "        \n",
    "print(result)"
   ]
  },
  {
   "cell_type": "code",
   "execution_count": 13,
   "id": "4eb5db24",
   "metadata": {},
   "outputs": [],
   "source": [
    "# 3. Write a Python Program to Transpose a Matrix?"
   ]
  },
  {
   "cell_type": "code",
   "execution_count": 14,
   "id": "3da304d0",
   "metadata": {},
   "outputs": [
    {
     "name": "stdout",
     "output_type": "stream",
     "text": [
      "[[12, 4, 3], [7, 5, 8]]\n"
     ]
    }
   ],
   "source": [
    "X = [[12,7],\n",
    "    [4 ,5],\n",
    "    [3 ,8]]\n",
    "\n",
    "result = [[0,0,0],\n",
    "         [0,0,0]]\n",
    "\n",
    "for i in range(len(X)):\n",
    "   for j in range(len(X[0])):\n",
    "       result[j][i] = X[i][j]\n",
    "        \n",
    "print(result)"
   ]
  },
  {
   "cell_type": "code",
   "execution_count": 15,
   "id": "7f2d3212",
   "metadata": {},
   "outputs": [],
   "source": [
    "# 4. Write a Python Program to Sort Words in Alphabetic Order?"
   ]
  },
  {
   "cell_type": "code",
   "execution_count": 32,
   "id": "d82a16f6",
   "metadata": {},
   "outputs": [
    {
     "name": "stdout",
     "output_type": "stream",
     "text": [
      "Enter a string: rushikesh sanjay chitte\n",
      "chitte\n",
      "rushikesh\n",
      "sanjay\n"
     ]
    }
   ],
   "source": [
    "my_str = input(\"Enter a string: \")  \n",
    "\n",
    "words = my_str.split()  \n",
    "\n",
    "words.sort() \n",
    "\n",
    "for word in words:  \n",
    "   print(word)  "
   ]
  },
  {
   "cell_type": "code",
   "execution_count": 33,
   "id": "537905b0",
   "metadata": {},
   "outputs": [],
   "source": [
    "# 5. Write a Python Program to Remove Punctuation From a String?"
   ]
  },
  {
   "cell_type": "code",
   "execution_count": 35,
   "id": "7fe75079",
   "metadata": {},
   "outputs": [
    {
     "name": "stdout",
     "output_type": "stream",
     "text": [
      "damnbd 32 m   k asdna cnmzx\n"
     ]
    }
   ],
   "source": [
    "my_str = \"damnbd 32 m,  {} k: asdna@#!@ cnmzx\"\n",
    "punctuations = '''!()-[]{};:'\"\\,<>./?@#$%^&*_~'''\n",
    "\n",
    "no_punct = \"\"\n",
    "for char in my_str:\n",
    "   if char not in punctuations:\n",
    "       no_punct = no_punct + char\n",
    "        \n",
    "print(no_punct)"
   ]
  },
  {
   "cell_type": "code",
   "execution_count": null,
   "id": "1a4831a7",
   "metadata": {},
   "outputs": [],
   "source": []
  }
 ],
 "metadata": {
  "kernelspec": {
   "display_name": "Python 3 (ipykernel)",
   "language": "python",
   "name": "python3"
  },
  "language_info": {
   "codemirror_mode": {
    "name": "ipython",
    "version": 3
   },
   "file_extension": ".py",
   "mimetype": "text/x-python",
   "name": "python",
   "nbconvert_exporter": "python",
   "pygments_lexer": "ipython3",
   "version": "3.8.10"
  }
 },
 "nbformat": 4,
 "nbformat_minor": 5
}

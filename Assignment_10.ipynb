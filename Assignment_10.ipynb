{
 "cells": [
  {
   "cell_type": "code",
   "execution_count": 1,
   "id": "1dc811f4",
   "metadata": {},
   "outputs": [],
   "source": [
    "# 1. How do you distinguish between shutil.copy() and shutil.copytree()?"
   ]
  },
  {
   "cell_type": "code",
   "execution_count": 2,
   "id": "a5d6861e",
   "metadata": {},
   "outputs": [],
   "source": [
    "# Ans: While shutil. copy() will copy a single file, shutil. copytree() will copy an entire folder and every folder\n",
    "# and file contained in it."
   ]
  },
  {
   "cell_type": "code",
   "execution_count": 3,
   "id": "9c44799a",
   "metadata": {},
   "outputs": [],
   "source": [
    "# 2. What function is used to rename files?"
   ]
  },
  {
   "cell_type": "code",
   "execution_count": 4,
   "id": "b82b3858",
   "metadata": {},
   "outputs": [],
   "source": [
    "# Ans: rename() method in Python is used to rename a file or directory."
   ]
  },
  {
   "cell_type": "code",
   "execution_count": 5,
   "id": "6e03b943",
   "metadata": {},
   "outputs": [],
   "source": [
    "# 3. What is the difference between the delete functions in the send2trash and shutil modules?"
   ]
  },
  {
   "cell_type": "code",
   "execution_count": 6,
   "id": "d1bd5c18",
   "metadata": {},
   "outputs": [],
   "source": [
    "# Ans : The send2trash functions will move a file or folder to the recycle bin, while shutil functions will permanently delete\n",
    "# files and folders"
   ]
  },
  {
   "cell_type": "code",
   "execution_count": 8,
   "id": "32827516",
   "metadata": {},
   "outputs": [],
   "source": [
    "# 4.ZipFile objects have a close() method just like File objects’ close() method. What ZipFile method is\n",
    "# equivalent to File objects’ open() method?"
   ]
  },
  {
   "cell_type": "code",
   "execution_count": 10,
   "id": "2ca8236c",
   "metadata": {},
   "outputs": [],
   "source": [
    "# Ans: both will work simillar"
   ]
  },
  {
   "cell_type": "code",
   "execution_count": 11,
   "id": "c2bb756a",
   "metadata": {},
   "outputs": [],
   "source": [
    "# 5. Create a programme that searches a folder tree for files with a certain file extension (such as .pdf\n",
    "# or .jpg). Copy these files from whatever location they are in to a new folder."
   ]
  },
  {
   "cell_type": "code",
   "execution_count": null,
   "id": "1de6d65b",
   "metadata": {},
   "outputs": [],
   "source": []
  }
 ],
 "metadata": {
  "kernelspec": {
   "display_name": "Python 3 (ipykernel)",
   "language": "python",
   "name": "python3"
  },
  "language_info": {
   "codemirror_mode": {
    "name": "ipython",
    "version": 3
   },
   "file_extension": ".py",
   "mimetype": "text/x-python",
   "name": "python",
   "nbconvert_exporter": "python",
   "pygments_lexer": "ipython3",
   "version": "3.9.7"
  }
 },
 "nbformat": 4,
 "nbformat_minor": 5
}

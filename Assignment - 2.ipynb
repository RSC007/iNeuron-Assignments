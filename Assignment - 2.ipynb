{
 "cells": [
  {
   "cell_type": "code",
   "execution_count": 2,
   "id": "b98ac661",
   "metadata": {},
   "outputs": [],
   "source": [
    "# 1.What are the two values of the Boolean data type? How do you write them?"
   ]
  },
  {
   "cell_type": "code",
   "execution_count": 3,
   "id": "e7154428",
   "metadata": {},
   "outputs": [],
   "source": [
    "# Ans : true & false, True and False"
   ]
  },
  {
   "cell_type": "code",
   "execution_count": 4,
   "id": "ab31274e",
   "metadata": {},
   "outputs": [],
   "source": [
    "# 2. What are the three different types of Boolean operators?"
   ]
  },
  {
   "cell_type": "code",
   "execution_count": 5,
   "id": "e4049e6b",
   "metadata": {},
   "outputs": [],
   "source": [
    "# Ans: 'And', 'Or', 'Not'"
   ]
  },
  {
   "cell_type": "code",
   "execution_count": 6,
   "id": "3a5e8a28",
   "metadata": {},
   "outputs": [],
   "source": [
    "# 3. Make a list of each Boolean operator&#39;s truth tables (i.e. every possible combination of Boolean\n",
    "# values for the operator and what it evaluate )."
   ]
  },
  {
   "cell_type": "code",
   "execution_count": 11,
   "id": "0943fbf9",
   "metadata": {},
   "outputs": [],
   "source": [
    "# Ans : 'And' Table\n",
    "#         true and true => true\n",
    "#         true and false => false\n",
    "#         false and true => false\n",
    "#         false and false => false\n",
    "\n",
    "\n",
    "# 'or' Table\n",
    "#         true or true => true\n",
    "#         false or true => true\n",
    "#         true or false => true\n",
    "#         false or false => false\n",
    "\n",
    "# 'not' table\n",
    "#         false => true\n",
    "#         true => false"
   ]
  },
  {
   "cell_type": "code",
   "execution_count": 17,
   "id": "a30b4ebc",
   "metadata": {},
   "outputs": [],
   "source": [
    "# 4. What are the values of the following expressions?"
   ]
  },
  {
   "cell_type": "code",
   "execution_count": 24,
   "id": "9400d3b8",
   "metadata": {},
   "outputs": [],
   "source": [
    "# (5 > 4) and (3 == 5) ===> False\n",
    "# not (5 > 4)  ====> False\n",
    "# (5 > 4) or (3 == 5)  =====> True\n",
    "# not ((5 > 4) or (3 == 5))  ====> False\n",
    "# (True and True) and (True == False)   =====> False\n",
    "# (not False) or (not True) =====> True"
   ]
  },
  {
   "cell_type": "code",
   "execution_count": 26,
   "id": "d4075122",
   "metadata": {},
   "outputs": [],
   "source": [
    "# 5. What are the six comparison operators?"
   ]
  },
  {
   "cell_type": "code",
   "execution_count": 28,
   "id": "280a419d",
   "metadata": {},
   "outputs": [],
   "source": [
    "# Ans : >, <, >=, <=, ==, != "
   ]
  },
  {
   "cell_type": "code",
   "execution_count": 29,
   "id": "a86bd4fe",
   "metadata": {},
   "outputs": [],
   "source": [
    "# 6. How do you tell the difference between the equal to and assignment operators?Describe a\n",
    "# condition and when you would use one."
   ]
  },
  {
   "cell_type": "code",
   "execution_count": 31,
   "id": "b703ed80",
   "metadata": {},
   "outputs": [],
   "source": [
    "# The “=” is an assignment operator is used to assign the value on the right to the variable on the left. The '==' operator checks whether the two given operands are equal or not. If so, it returns true. Otherwise it returns false\n",
    "# example: \n",
    "\n",
    "# 2 == 2 => True\n",
    "#  a = 2"
   ]
  },
  {
   "cell_type": "code",
   "execution_count": 33,
   "id": "ebd6ed1c",
   "metadata": {},
   "outputs": [
    {
     "name": "stdout",
     "output_type": "stream",
     "text": [
      "ham\n",
      "spam\n",
      "spam\n"
     ]
    }
   ],
   "source": [
    "# 7. Identify the three blocks in this code:\n",
    "spam = 0\n",
    "if spam == 10:\n",
    "    print('eggs')\n",
    "if spam > 5:\n",
    "    print('bacon')\n",
    "else:\n",
    "    print('ham')\n",
    "print('spam')\n",
    "print('spam')"
   ]
  },
  {
   "cell_type": "code",
   "execution_count": 35,
   "id": "61351e98",
   "metadata": {},
   "outputs": [],
   "source": [
    "# Ans : ham\n",
    "# spam\n",
    "# spam"
   ]
  },
  {
   "cell_type": "code",
   "execution_count": 36,
   "id": "a5d243dc",
   "metadata": {},
   "outputs": [],
   "source": [
    "# 8. Write code that prints Hello if 1 is stored in spam, prints Howdy if 2 is stored in spam, and prints\n",
    "# Greetings! if anything else is stored in spam."
   ]
  },
  {
   "cell_type": "code",
   "execution_count": 39,
   "id": "b8d452c1",
   "metadata": {},
   "outputs": [
    {
     "name": "stdout",
     "output_type": "stream",
     "text": [
      "Hello\n"
     ]
    }
   ],
   "source": [
    "spam = 1\n",
    "if(spam == 1):\n",
    "    print('Hello')\n",
    "elif(spam == 2):\n",
    "    print('Howdy')\n",
    "else:\n",
    "    print('Greetings')"
   ]
  },
  {
   "cell_type": "code",
   "execution_count": 41,
   "id": "2f2dd03f",
   "metadata": {},
   "outputs": [],
   "source": [
    "# 9.If your programme is stuck in an endless loop, what keys you’ll press?"
   ]
  },
  {
   "cell_type": "code",
   "execution_count": 42,
   "id": "bbaf3d3d",
   "metadata": {},
   "outputs": [],
   "source": [
    "# And : Ctrl + c"
   ]
  },
  {
   "cell_type": "code",
   "execution_count": 43,
   "id": "68ca6dc3",
   "metadata": {},
   "outputs": [],
   "source": [
    "# 10. How can you tell the difference between break and continue?"
   ]
  },
  {
   "cell_type": "code",
   "execution_count": 44,
   "id": "dea239f0",
   "metadata": {},
   "outputs": [],
   "source": [
    "# Ans: 'break' it teminate the loop and 'continue' it jump to next index"
   ]
  },
  {
   "cell_type": "code",
   "execution_count": 45,
   "id": "8c7952f5",
   "metadata": {},
   "outputs": [],
   "source": [
    "# 11. In a for loop, what is the difference between range(10), range(0, 10), and range(0, 10, 1)?"
   ]
  },
  {
   "cell_type": "code",
   "execution_count": 46,
   "id": "be8c158e",
   "metadata": {},
   "outputs": [],
   "source": [
    "# Ans : There no difference, those all return same output "
   ]
  },
  {
   "cell_type": "code",
   "execution_count": 47,
   "id": "9137f749",
   "metadata": {},
   "outputs": [],
   "source": [
    "# 12. Write a short program that prints the numbers 1 to 10 using a for loop. Then write an equivalent\n",
    "# program that prints the numbers 1 to 10 using a while loop."
   ]
  },
  {
   "cell_type": "code",
   "execution_count": 52,
   "id": "a8df904f",
   "metadata": {},
   "outputs": [
    {
     "name": "stdout",
     "output_type": "stream",
     "text": [
      "1\n",
      "2\n",
      "3\n",
      "4\n",
      "5\n",
      "6\n",
      "7\n",
      "8\n",
      "9\n",
      "10\n",
      "1\n",
      "2\n",
      "3\n",
      "4\n",
      "5\n",
      "6\n",
      "7\n",
      "8\n",
      "9\n",
      "10\n"
     ]
    }
   ],
   "source": [
    "for i in range(1, 11):\n",
    "    print(i)\n",
    "    \n",
    "i=0\n",
    "while(i<10):\n",
    "    i += 1\n",
    "    print(i)"
   ]
  },
  {
   "cell_type": "code",
   "execution_count": 53,
   "id": "75ad7e4b",
   "metadata": {},
   "outputs": [],
   "source": [
    "# 13. If you had a function named bacon() inside a module named spam, how would you call it after\n",
    "# importing spam?"
   ]
  },
  {
   "cell_type": "code",
   "execution_count": 54,
   "id": "5228f8fb",
   "metadata": {},
   "outputs": [],
   "source": [
    "# Ans: from spam import bacon"
   ]
  }
 ],
 "metadata": {
  "kernelspec": {
   "display_name": "Python 3 (ipykernel)",
   "language": "python",
   "name": "python3"
  },
  "language_info": {
   "codemirror_mode": {
    "name": "ipython",
    "version": 3
   },
   "file_extension": ".py",
   "mimetype": "text/x-python",
   "name": "python",
   "nbconvert_exporter": "python",
   "pygments_lexer": "ipython3",
   "version": "3.9.7"
  }
 },
 "nbformat": 4,
 "nbformat_minor": 5
}

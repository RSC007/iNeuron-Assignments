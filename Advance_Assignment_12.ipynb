{
 "cells": [
  {
   "cell_type": "code",
   "execution_count": 1,
   "metadata": {},
   "outputs": [],
   "source": [
    "# Q1. Does assigning a value to a string&#39;s indexed character violate Python&#39;s string immutability?"
   ]
  },
  {
   "cell_type": "code",
   "execution_count": 2,
   "metadata": {},
   "outputs": [],
   "source": [
    "# Ans : The string itself is immutable but the label can change. Assigning a new value to an existing\n",
    "# variable is perfectly valid. Python does not have constants.\n",
    "\n",
    "#  You cant anssign any value "
   ]
  },
  {
   "cell_type": "code",
   "execution_count": 3,
   "metadata": {},
   "outputs": [],
   "source": [
    "# Q2. Does using the += operator to concatenate strings violate Python&#39;s string immutability? Why or\n",
    "# why not?"
   ]
  },
  {
   "cell_type": "code",
   "execution_count": 5,
   "metadata": {},
   "outputs": [],
   "source": [
    "# Ans : It violates the rules of how ID values and += are supposed to work - the ID values produced with the\n",
    "# optimization in place would be not only impossible, but prohibited, with the unoptimized semantics - \n",
    "# but the developers care more about people who would see bad concatenation performance and assume"
   ]
  },
  {
   "cell_type": "code",
   "execution_count": 6,
   "metadata": {},
   "outputs": [],
   "source": [
    "# Q3. In Python, how many different ways are there to index a character?"
   ]
  },
  {
   "cell_type": "code",
   "execution_count": 7,
   "metadata": {},
   "outputs": [],
   "source": [
    "# Ans : loc, iloc, and ix. These slicing and indexing conventions can be a source of confusion. For example,\n",
    "# if your Series has an explicit integer index, an indexing operation such as data[1] will use the explicit\n",
    "# indices, while a slicing operation like data[1:3] will use the implicit Python-style index."
   ]
  },
  {
   "cell_type": "code",
   "execution_count": 8,
   "metadata": {},
   "outputs": [],
   "source": [
    "# Q4. What is the relationship between indexing and slicing?"
   ]
  },
  {
   "cell_type": "code",
   "execution_count": 9,
   "metadata": {},
   "outputs": [],
   "source": [
    "# Ans : Indexing: Indexing is used to obtain individual elements. Slicing: Slicing is used to obtain a sequence of\n",
    "#  elements. Indexing and Slicing can be be done in Python Sequences types like list, string, tuple, range objects"
   ]
  },
  {
   "cell_type": "code",
   "execution_count": 11,
   "metadata": {},
   "outputs": [],
   "source": [
    "# Q5. What is an indexed character&#39;s exact data type? What is the data form of a slicing-generated\n",
    "# substring?"
   ]
  },
  {
   "cell_type": "code",
   "execution_count": 12,
   "metadata": {},
   "outputs": [],
   "source": [
    "# Ans: The Python string data type is a sequence made up of one or more individual characters that could consist of letters, numbers, whitespace characters, or symbols. As the string is a sequence, it can be accessed in the same ways that other sequence-based data types are, through indexing and slicing\n",
    "#  The index indicates which character you want. It can be any integer expression so long as it evaluates to a valid index value. Note that indexing returns a string — Python has no special type for a single character."
   ]
  },
  {
   "cell_type": "code",
   "execution_count": 13,
   "metadata": {},
   "outputs": [],
   "source": [
    "# Q6. What is the relationship between string and character &quot;types&quot; in Python?"
   ]
  },
  {
   "cell_type": "code",
   "execution_count": 14,
   "metadata": {},
   "outputs": [],
   "source": [
    "# Ans: The main difference between Character and String is that Character refers to a single letter,\n",
    "# number, space, punctuation mark or a symbol that can be represented using a computer while String\n",
    "# refers to a set of characters"
   ]
  },
  {
   "cell_type": "code",
   "execution_count": 15,
   "metadata": {},
   "outputs": [],
   "source": [
    "# Q7. Identify at least two operators and one method that allow you to combine one or more smaller\n",
    "# strings to create a larger string."
   ]
  },
  {
   "cell_type": "code",
   "execution_count": 16,
   "metadata": {},
   "outputs": [],
   "source": [
    "# Ans : You concatenate strings by using the + operator. For string literals and string constants,\n",
    "# concatenation occurs at compile time; no run-time concatenation occurs."
   ]
  },
  {
   "cell_type": "code",
   "execution_count": 17,
   "metadata": {},
   "outputs": [],
   "source": [
    "# Q8. What is the benefit of first checking the target string with in or not in before using the index\n",
    "# method to find a substring?"
   ]
  },
  {
   "cell_type": "code",
   "execution_count": 20,
   "metadata": {},
   "outputs": [],
   "source": [
    "# Ans : Python String index() Method allows a user to find the index of the first occurrence of\n",
    "# an existing substring inside a given string."
   ]
  },
  {
   "cell_type": "code",
   "execution_count": 21,
   "metadata": {},
   "outputs": [],
   "source": [
    "# Q9. Which operators and built-in string methods produce simple Boolean (true/false) results?"
   ]
  },
  {
   "cell_type": "code",
   "execution_count": null,
   "metadata": {},
   "outputs": [],
   "source": [
    "# Ans : The logical operators and, or and not are also referred to as boolean operators. While and as well\n",
    "# as operator needs two operands, which may evaluate to true or false, not operator needs one operand evaluating\n",
    "# to true or false. Boolean and operator returns true if both operands return true."
   ]
  }
 ],
 "metadata": {
  "kernelspec": {
   "display_name": "Python 3",
   "language": "python",
   "name": "python3"
  },
  "language_info": {
   "codemirror_mode": {
    "name": "ipython",
    "version": 3
   },
   "file_extension": ".py",
   "mimetype": "text/x-python",
   "name": "python",
   "nbconvert_exporter": "python",
   "pygments_lexer": "ipython3",
   "version": "3.7.3"
  }
 },
 "nbformat": 4,
 "nbformat_minor": 2
}

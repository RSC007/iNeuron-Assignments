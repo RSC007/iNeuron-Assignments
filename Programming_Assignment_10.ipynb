{
 "cells": [
  {
   "cell_type": "code",
   "execution_count": 1,
   "id": "4368d938",
   "metadata": {},
   "outputs": [],
   "source": [
    "# 1. Write a Python program to find sum of elements in list?"
   ]
  },
  {
   "cell_type": "code",
   "execution_count": 25,
   "id": "3d6fcfcc",
   "metadata": {},
   "outputs": [
    {
     "data": {
      "text/plain": [
       "4457"
      ]
     },
     "execution_count": 25,
     "metadata": {},
     "output_type": "execute_result"
    }
   ],
   "source": [
    "test_list=[3232,323,541,21,322,3,4,5,6]\n",
    "total=0\n",
    "for i in test_list:\n",
    "    total+=i\n",
    "    \n",
    "total"
   ]
  },
  {
   "cell_type": "code",
   "execution_count": 12,
   "id": "25431354",
   "metadata": {},
   "outputs": [],
   "source": [
    "# 2. Write a Python program to Multiply all numbers in the list?"
   ]
  },
  {
   "cell_type": "code",
   "execution_count": 13,
   "id": "c831ea62",
   "metadata": {},
   "outputs": [
    {
     "data": {
      "text/plain": [
       "1374829387384320"
      ]
     },
     "execution_count": 13,
     "metadata": {},
     "output_type": "execute_result"
    }
   ],
   "source": [
    "multiply=1\n",
    "for i in test_list:\n",
    "    multiply*=i\n",
    "    \n",
    "multiply"
   ]
  },
  {
   "cell_type": "code",
   "execution_count": 14,
   "id": "e0720599",
   "metadata": {},
   "outputs": [],
   "source": [
    "# 3. Write a Python program to find smallest number in a list?"
   ]
  },
  {
   "cell_type": "code",
   "execution_count": 15,
   "id": "7ebc9c00",
   "metadata": {},
   "outputs": [
    {
     "data": {
      "text/plain": [
       "3"
      ]
     },
     "execution_count": 15,
     "metadata": {},
     "output_type": "execute_result"
    }
   ],
   "source": [
    "min(test_list)    "
   ]
  },
  {
   "cell_type": "code",
   "execution_count": 16,
   "id": "5e1e62b1",
   "metadata": {},
   "outputs": [],
   "source": [
    "# 4. Write a Python program to find largest number in a list?"
   ]
  },
  {
   "cell_type": "code",
   "execution_count": 17,
   "id": "740e1ffa",
   "metadata": {},
   "outputs": [
    {
     "data": {
      "text/plain": [
       "3232"
      ]
     },
     "execution_count": 17,
     "metadata": {},
     "output_type": "execute_result"
    }
   ],
   "source": [
    "max(test_list)"
   ]
  },
  {
   "cell_type": "code",
   "execution_count": 18,
   "id": "cc923726",
   "metadata": {},
   "outputs": [],
   "source": [
    "# 5. Write a Python program to find second largest number in a list?"
   ]
  },
  {
   "cell_type": "code",
   "execution_count": 21,
   "id": "b4951d1c",
   "metadata": {},
   "outputs": [
    {
     "data": {
      "text/plain": [
       "541"
      ]
     },
     "execution_count": 21,
     "metadata": {},
     "output_type": "execute_result"
    }
   ],
   "source": [
    "test_list.sort()\n",
    "test_list.remove(max(test_list))\n",
    "test_list[-1]"
   ]
  },
  {
   "cell_type": "code",
   "execution_count": 22,
   "id": "10891897",
   "metadata": {},
   "outputs": [],
   "source": [
    "# 6. Write a Python program to find N largest elements from a list?"
   ]
  },
  {
   "cell_type": "code",
   "execution_count": 27,
   "id": "0939389b",
   "metadata": {},
   "outputs": [
    {
     "data": {
      "text/plain": [
       "323"
      ]
     },
     "execution_count": 27,
     "metadata": {},
     "output_type": "execute_result"
    }
   ],
   "source": [
    "arr = test_list.copy()\n",
    "def n_largest_num(arr, n):\n",
    "    arr.sort()\n",
    "    remove=1\n",
    "    while n!=remove:\n",
    "        arr.remove(max(arr))\n",
    "        remove+=1\n",
    "        \n",
    "    return max(arr)\n",
    "\n",
    "\n",
    "n_largest_num(arr, 3)        "
   ]
  },
  {
   "cell_type": "code",
   "execution_count": 28,
   "id": "8359c54e",
   "metadata": {},
   "outputs": [],
   "source": [
    "# 7. Write a Python program to print even numbers in a list?"
   ]
  },
  {
   "cell_type": "code",
   "execution_count": 30,
   "id": "fd3abc86",
   "metadata": {},
   "outputs": [
    {
     "name": "stdout",
     "output_type": "stream",
     "text": [
      "3232\n",
      "322\n",
      "4\n",
      "6\n"
     ]
    }
   ],
   "source": [
    "for i in test_list:\n",
    "    if i%2 == 0 or i==1:\n",
    "        print(i)"
   ]
  },
  {
   "cell_type": "code",
   "execution_count": 31,
   "id": "73ba22b2",
   "metadata": {},
   "outputs": [],
   "source": [
    "# 8. Write a Python program to print odd numbers in a List?"
   ]
  },
  {
   "cell_type": "code",
   "execution_count": 32,
   "id": "0b40cade",
   "metadata": {},
   "outputs": [
    {
     "name": "stdout",
     "output_type": "stream",
     "text": [
      "323\n",
      "541\n",
      "21\n",
      "3\n",
      "5\n"
     ]
    }
   ],
   "source": [
    "for i in test_list:\n",
    "    if i%2 != 0:\n",
    "        print(i)"
   ]
  },
  {
   "cell_type": "code",
   "execution_count": 33,
   "id": "3cc023ba",
   "metadata": {},
   "outputs": [],
   "source": [
    "# 9. Write a Python program to Remove empty List from List?"
   ]
  },
  {
   "cell_type": "code",
   "execution_count": 43,
   "id": "d7433104",
   "metadata": {},
   "outputs": [
    {
     "data": {
      "text/plain": [
       "[213, [323], 32]"
      ]
     },
     "execution_count": 43,
     "metadata": {},
     "output_type": "execute_result"
    }
   ],
   "source": [
    "test_lists=[[], 213, [323], 32, []]\n",
    "for i in test_lists:\n",
    "    if type(i).__name__  == 'list' and len(i) == 0:\n",
    "        test_lists.remove(i)\n",
    "\n",
    "test_lists"
   ]
  },
  {
   "cell_type": "code",
   "execution_count": 44,
   "id": "74d0e165",
   "metadata": {},
   "outputs": [],
   "source": [
    "# 10. Write a Python program to Cloning or Copying a list?"
   ]
  },
  {
   "cell_type": "code",
   "execution_count": 45,
   "id": "db1c020e",
   "metadata": {},
   "outputs": [],
   "source": [
    "clone_list = test_list[:]"
   ]
  },
  {
   "cell_type": "code",
   "execution_count": 46,
   "id": "2c4a5d75",
   "metadata": {},
   "outputs": [
    {
     "data": {
      "text/plain": [
       "[3232, 323, 541, 21, 322, 3, 4, 5, 6]"
      ]
     },
     "execution_count": 46,
     "metadata": {},
     "output_type": "execute_result"
    }
   ],
   "source": [
    "clone_list"
   ]
  },
  {
   "cell_type": "code",
   "execution_count": 47,
   "id": "56750092",
   "metadata": {},
   "outputs": [],
   "source": [
    "# 11. Write a Python program to Count occurrences of an element in a list?"
   ]
  },
  {
   "cell_type": "code",
   "execution_count": 48,
   "id": "4b44683f",
   "metadata": {},
   "outputs": [],
   "source": [
    "test = [3,4,5,6,3,2,455,6,7,3,2,1,1,23,34,3]\n",
    "def count_occurance(arr, n):\n",
    "    occure=0\n",
    "    for i in arr:\n",
    "        if i==n:\n",
    "            occure+=1\n",
    "            \n",
    "    return occure\n",
    "    \n",
    "    "
   ]
  },
  {
   "cell_type": "code",
   "execution_count": 49,
   "id": "9f8ab265",
   "metadata": {},
   "outputs": [
    {
     "data": {
      "text/plain": [
       "4"
      ]
     },
     "execution_count": 49,
     "metadata": {},
     "output_type": "execute_result"
    }
   ],
   "source": [
    "count_occurance(test, 3)"
   ]
  },
  {
   "cell_type": "code",
   "execution_count": null,
   "id": "1a7f9b5b",
   "metadata": {},
   "outputs": [],
   "source": []
  }
 ],
 "metadata": {
  "kernelspec": {
   "display_name": "Python 3 (ipykernel)",
   "language": "python",
   "name": "python3"
  },
  "language_info": {
   "codemirror_mode": {
    "name": "ipython",
    "version": 3
   },
   "file_extension": ".py",
   "mimetype": "text/x-python",
   "name": "python",
   "nbconvert_exporter": "python",
   "pygments_lexer": "ipython3",
   "version": "3.8.10"
  }
 },
 "nbformat": 4,
 "nbformat_minor": 5
}

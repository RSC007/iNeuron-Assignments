{
 "cells": [
  {
   "cell_type": "code",
   "execution_count": 1,
   "metadata": {},
   "outputs": [],
   "source": [
    "# Q1. Define the relationship between a class and its instances. Is it a one-to-one or a one-to-many\n",
    "# partnership, for example?"
   ]
  },
  {
   "cell_type": "code",
   "execution_count": 2,
   "metadata": {},
   "outputs": [],
   "source": [
    "# A class defines the structure and behaviors of all entities of a given type. An object is one particular\n",
    "# \"instance\" of that type of entity. For example, if Dog is a class, then a particular dog named Lassie\n",
    "# would be an object of type Dog."
   ]
  },
  {
   "cell_type": "code",
   "execution_count": 3,
   "metadata": {},
   "outputs": [],
   "source": [
    "# Q2. What kind of data is held only in an instance?"
   ]
  },
  {
   "cell_type": "code",
   "execution_count": 4,
   "metadata": {},
   "outputs": [],
   "source": [
    "# Instance data is defined in the data division in the object paragraph of a class definition and is processed\n",
    "# by procedural code in the instance methods of that class. Instance data is organized into logical records and\n",
    "# independent data description entries in the same manner as program data."
   ]
  },
  {
   "cell_type": "code",
   "execution_count": 5,
   "metadata": {},
   "outputs": [],
   "source": [
    "# Q3. What kind of knowledge is stored in a class?"
   ]
  },
  {
   "cell_type": "code",
   "execution_count": 6,
   "metadata": {},
   "outputs": [],
   "source": [
    "# Explicit knowledge. You likely already have a repository of explicit knowledge in your organization. ...\n",
    "# Implicit knowledge. Implicit knowledge builds upon your existing explicit knowledge. ...\n",
    "# Tacit knowledge."
   ]
  },
  {
   "cell_type": "code",
   "execution_count": 7,
   "metadata": {},
   "outputs": [],
   "source": [
    "# Q4. What exactly is a method, and how is it different from a regular function?"
   ]
  },
  {
   "cell_type": "code",
   "execution_count": 8,
   "metadata": {},
   "outputs": [],
   "source": [
    "# Unlike a function, methods are called on an object. Like in our example above we call our method . i.e.\n",
    "# “my_method” on the object “cat” whereas the function “sum” is called without any object. Also, because the\n",
    "# method is called on an object, it can access that data within it."
   ]
  },
  {
   "cell_type": "code",
   "execution_count": 9,
   "metadata": {},
   "outputs": [],
   "source": [
    "# Q5. Is inheritance supported in Python, and if so, what is the syntax?"
   ]
  },
  {
   "cell_type": "code",
   "execution_count": 10,
   "metadata": {},
   "outputs": [],
   "source": [
    "# Is inheritance possible in Python? Answer. An object-oriented programming language like Python, not\n",
    "# only supports inheritance but multiple inheritance as well. The mechanism of inheritance allows programmers\n",
    "# to create a new class from a pre-existing class, which supports code reusability"
   ]
  },
  {
   "cell_type": "code",
   "execution_count": 11,
   "metadata": {},
   "outputs": [],
   "source": [
    "# Q6. How much encapsulation (making instance or class variables private) does Python support?"
   ]
  },
  {
   "cell_type": "code",
   "execution_count": 12,
   "metadata": {},
   "outputs": [],
   "source": [
    "# In Python, Encapsulation can be achieved by declaring the data members of a class either as private or protected\n",
    "# . In Python, 'Private' and 'Protected' are called Access Modifiers, as they modify the access of variables or methods\n",
    "# defined in a class. Let us see how access modifiers help in achieving Encapsulation."
   ]
  },
  {
   "cell_type": "code",
   "execution_count": 13,
   "metadata": {},
   "outputs": [],
   "source": [
    "# Q7. How do you distinguish between a class variable and an instance variable?"
   ]
  },
  {
   "cell_type": "code",
   "execution_count": 14,
   "metadata": {},
   "outputs": [],
   "source": [
    "# Class variables also known as static variables are declared with the static keyword in a class, but outside\n",
    "# a method, constructor or a block. Instance variables are created when an object is created with the\n",
    "# use of the keyword 'new' and destroyed when the object is destroyed."
   ]
  },
  {
   "cell_type": "code",
   "execution_count": 15,
   "metadata": {},
   "outputs": [],
   "source": [
    "# Q8. When, if ever, can self be included in a class&#39;s method definitions?"
   ]
  },
  {
   "cell_type": "code",
   "execution_count": 16,
   "metadata": {},
   "outputs": [],
   "source": [
    "# You use self when: Defining an instance method. It is passed automatically as the first parameter when you call\n",
    "# a method on an instance, and it is the instance on which the method was called. Referencing a class\n",
    "# or instance attribute from inside an instance method."
   ]
  },
  {
   "cell_type": "code",
   "execution_count": 19,
   "metadata": {},
   "outputs": [],
   "source": [
    "# Q9. What is the difference between the _ _add_ _ and the _ _radd_ _ methods??"
   ]
  },
  {
   "cell_type": "code",
   "execution_count": null,
   "metadata": {},
   "outputs": [],
   "source": [
    "# The Python __radd__() method implements the reverse addition operation that is addition with reflected,\n",
    "# swapped operands. So, when you call x + y , Python attempts to call x. __add__(y) ."
   ]
  },
  {
   "cell_type": "code",
   "execution_count": 20,
   "metadata": {},
   "outputs": [],
   "source": [
    "# Q10. When is it necessary to use a reflection method? When do you not need it, even though you\n",
    "# support the operation in question?"
   ]
  },
  {
   "cell_type": "code",
   "execution_count": 21,
   "metadata": {},
   "outputs": [],
   "source": [
    "# Reflection takes this a step further by enabling objects to be modified at runtime. For me, these two\n",
    "# language features really make Python fun and set it apart from less-dynamic languages. Python supports both\n",
    "# introspection and reflection, and in this article, I will explain how they work."
   ]
  },
  {
   "cell_type": "code",
   "execution_count": 22,
   "metadata": {},
   "outputs": [],
   "source": [
    "# Q11. What is the _ _iadd_ _ method called?"
   ]
  },
  {
   "cell_type": "code",
   "execution_count": 23,
   "metadata": {},
   "outputs": [],
   "source": [
    "# __add__ magic method is used to add the attributes of the class instance. For example, let's say object1\n",
    "# is an instance of a class A and object2 is an instance of class B and both of these classes have an\n",
    "# attribute called 'a', that holds an integer."
   ]
  },
  {
   "cell_type": "code",
   "execution_count": 24,
   "metadata": {},
   "outputs": [],
   "source": [
    "# Q12. Is the _ _init_ _ method inherited by subclasses? What do you do if you need to customize its\n",
    "# behavior within a subclass?"
   ]
  },
  {
   "cell_type": "code",
   "execution_count": 25,
   "metadata": {},
   "outputs": [],
   "source": [
    "# No, an inherited class is not required to call the __init__() method of the parent class. If no __init__()\n",
    "# method is implemented in the inherited class, then the parent __init__() will be called automatically\n",
    "# when an object of the inherited class is created."
   ]
  },
  {
   "cell_type": "code",
   "execution_count": null,
   "metadata": {},
   "outputs": [],
   "source": []
  }
 ],
 "metadata": {
  "kernelspec": {
   "display_name": "Python 3",
   "language": "python",
   "name": "python3"
  },
  "language_info": {
   "codemirror_mode": {
    "name": "ipython",
    "version": 3
   },
   "file_extension": ".py",
   "mimetype": "text/x-python",
   "name": "python",
   "nbconvert_exporter": "python",
   "pygments_lexer": "ipython3",
   "version": "3.7.3"
  }
 },
 "nbformat": 4,
 "nbformat_minor": 2
}

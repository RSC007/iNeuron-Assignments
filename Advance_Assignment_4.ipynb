{
 "cells": [
  {
   "cell_type": "code",
   "execution_count": 1,
   "id": "2f34eebf",
   "metadata": {},
   "outputs": [],
   "source": [
    "# Q1. Which two operator overloading methods can you use in your classes to support iteration?"
   ]
  },
  {
   "cell_type": "code",
   "execution_count": 2,
   "id": "09325d1d",
   "metadata": {},
   "outputs": [],
   "source": [
    "# Ans : __iter__ is return iterator object and __next__ start the loop "
   ]
  },
  {
   "cell_type": "code",
   "execution_count": 3,
   "id": "76272156",
   "metadata": {},
   "outputs": [],
   "source": [
    "# Q2. In what contexts do the two operator overloading methods manage printing?"
   ]
  },
  {
   "cell_type": "code",
   "execution_count": 4,
   "id": "c7ed3356",
   "metadata": {},
   "outputs": [],
   "source": [
    "# Ans : Python operators work for built-in classes. But the same operator expresses differently with different types. For\n",
    "# example, The + operator will perform arithmetic addition on two numbers, merge two lists and concatenate two strings.\n",
    "# Python allows the same operator to have different meanings according to the referring context."
   ]
  },
  {
   "cell_type": "code",
   "execution_count": 5,
   "id": "8ccadd12",
   "metadata": {},
   "outputs": [],
   "source": [
    "# Q3. In a class, how do you intercept slice operations?"
   ]
  },
  {
   "cell_type": "code",
   "execution_count": 6,
   "id": "40abc526",
   "metadata": {},
   "outputs": [],
   "source": [
    "# Ans : __hetitem__ we can use to slice operations"
   ]
  },
  {
   "cell_type": "code",
   "execution_count": 7,
   "id": "8927367f",
   "metadata": {},
   "outputs": [],
   "source": [
    "# Q4. In a class, how do you capture in-place addition?"
   ]
  },
  {
   "cell_type": "code",
   "execution_count": 11,
   "id": "73248919",
   "metadata": {},
   "outputs": [],
   "source": [
    "import operator\n",
    "# operator.iadd, operator.isub, operator.imul, operator.iconcat, operator.imod"
   ]
  },
  {
   "cell_type": "code",
   "execution_count": 12,
   "id": "e8746a2f",
   "metadata": {},
   "outputs": [],
   "source": [
    "# Q5. When is it appropriate to use operator overloading?"
   ]
  },
  {
   "cell_type": "code",
   "execution_count": 13,
   "id": "3eb2bb72",
   "metadata": {},
   "outputs": [],
   "source": [
    "# Ans : The purpose of operator overloading is to provide a special meaning of an operator for a user-defined data type.\n",
    "# With the help of operator overloading, you can redefine the majority of the C++ operators. You can also use operator\n",
    "# overloading to perform different operations using one operator."
   ]
  },
  {
   "cell_type": "code",
   "execution_count": null,
   "id": "ff95b311",
   "metadata": {},
   "outputs": [],
   "source": []
  }
 ],
 "metadata": {
  "kernelspec": {
   "display_name": "Python 3 (ipykernel)",
   "language": "python",
   "name": "python3"
  },
  "language_info": {
   "codemirror_mode": {
    "name": "ipython",
    "version": 3
   },
   "file_extension": ".py",
   "mimetype": "text/x-python",
   "name": "python",
   "nbconvert_exporter": "python",
   "pygments_lexer": "ipython3",
   "version": "3.9.7"
  }
 },
 "nbformat": 4,
 "nbformat_minor": 5
}

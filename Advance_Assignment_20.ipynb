{
 "cells": [
  {
   "cell_type": "code",
   "execution_count": 1,
   "metadata": {},
   "outputs": [],
   "source": [
    "# 1. Compare and contrast the float and Decimal classes&#39; benefits and drawbacks."
   ]
  },
  {
   "cell_type": "code",
   "execution_count": 2,
   "metadata": {},
   "outputs": [],
   "source": [
    "# Decimal used within financial applications that require a high degree of accuracy and easy to avoid rounding\n",
    "# errors whereas Float used when you stores scientific numbers and for better performance. Performance of Decimals is slower than and float data types."
   ]
  },
  {
   "cell_type": "code",
   "execution_count": 3,
   "metadata": {},
   "outputs": [],
   "source": [
    "# 2. Decimal(&#39;1.200&#39;) and Decimal(&#39;1.2&#39;) are two objects to consider. In what sense are these the same\n",
    "# object? Are these just two ways of representing the exact same value, or do they correspond to\n",
    "# different internal states?"
   ]
  },
  {
   "cell_type": "code",
   "execution_count": 4,
   "metadata": {},
   "outputs": [],
   "source": [
    "# In Python, to print 2 decimal places we will use str. format() with “{:. 2f}” as string and float as a number.\n",
    "# Call print and it will print the float with 2 decimal places."
   ]
  },
  {
   "cell_type": "code",
   "execution_count": 5,
   "metadata": {},
   "outputs": [],
   "source": [
    "# 3. What happens if the equality of Decimal(&#39;1.200&#39;) and Decimal(&#39;1.2&#39;) is checked?"
   ]
  },
  {
   "cell_type": "code",
   "execution_count": 6,
   "metadata": {},
   "outputs": [],
   "source": [
    "# The greater a decimal is, the closer it is to one whole. The smaller a decimal is the farther it is from one whole. The first thing you need to look at is the digit number in each decimal. These each have two digits in them, so you can compare them right away."
   ]
  },
  {
   "cell_type": "code",
   "execution_count": 7,
   "metadata": {},
   "outputs": [],
   "source": [
    "# 4. Why is it preferable to start a Decimal object with a string rather than a floating-point value?"
   ]
  },
  {
   "cell_type": "code",
   "execution_count": 8,
   "metadata": {},
   "outputs": [],
   "source": [
    "# AFAIK the number value type allows for infinite precision as well as scientific notation. because using floats for currency will just cause errors down the road. floats are NOT usable for representing real world values like money - not reliably, anyways"
   ]
  },
  {
   "cell_type": "code",
   "execution_count": 9,
   "metadata": {},
   "outputs": [],
   "source": [
    "# 5. In an arithmetic phrase, how simple is it to combine Decimal objects with integers?"
   ]
  },
  {
   "cell_type": "code",
   "execution_count": 10,
   "metadata": {},
   "outputs": [],
   "source": [
    "# Decimal objects cannot generally be combined with floats or instances of fractions."
   ]
  },
  {
   "cell_type": "code",
   "execution_count": 11,
   "metadata": {},
   "outputs": [],
   "source": [
    "# 6. Can Decimal objects and floating-point values be combined easily?"
   ]
  },
  {
   "cell_type": "code",
   "execution_count": 12,
   "metadata": {},
   "outputs": [],
   "source": [
    "# Decimal objects cannot generally be combined with floats or instances of fractions."
   ]
  },
  {
   "cell_type": "code",
   "execution_count": 13,
   "metadata": {},
   "outputs": [],
   "source": [
    "# 7. Using the Fraction class but not the Decimal class, give an example of a quantity that can be\n",
    "# expressed with absolute precision."
   ]
  },
  {
   "cell_type": "code",
   "execution_count": 14,
   "metadata": {},
   "outputs": [],
   "source": [
    "# Some values cannot be exactly represented in a float data type. For instance, storing the 0.1 value in\n",
    "# float (which is a binary floating point value) variable we get only an approximation of the value.\n",
    "# Similarly, the 1/3 value cannot be represented exactly in decimal floating point type."
   ]
  },
  {
   "cell_type": "code",
   "execution_count": 15,
   "metadata": {},
   "outputs": [],
   "source": [
    "# 8. Describe a quantity that can be accurately expressed by the Decimal or Fraction classes but not by\n",
    "# a floating-point value."
   ]
  },
  {
   "cell_type": "code",
   "execution_count": 16,
   "metadata": {},
   "outputs": [],
   "source": [
    "# Float uses 32 bits to represent data. Double uses 64 bits to represent data. Decimal uses 128 bits to represent data."
   ]
  },
  {
   "cell_type": "code",
   "execution_count": 17,
   "metadata": {},
   "outputs": [],
   "source": [
    "# Q9.Consider the following two fraction objects: Fraction(1, 2) and Fraction(1, 2). (5, 10). Is the internal\n",
    "# state of these two objects the same? Why do you think that is?"
   ]
  },
  {
   "cell_type": "code",
   "execution_count": 18,
   "metadata": {},
   "outputs": [],
   "source": [
    "# Compare denominators. If they are different, rewrite one or both fractions with a common denominator. Step 2\n",
    "# : Check the numerators. If the denominators are the same, then the fraction with the greater numerator is\n",
    "# the greater fraction."
   ]
  },
  {
   "cell_type": "code",
   "execution_count": 19,
   "metadata": {},
   "outputs": [],
   "source": [
    "# Q10. How do the Fraction class and the integer type (int) relate to each other? Containment or\n",
    "# inheritance?"
   ]
  },
  {
   "cell_type": "code",
   "execution_count": 20,
   "metadata": {},
   "outputs": [],
   "source": [
    "# What is the difference between a fractional number and a rational number? A fraction is expressed in the form\n",
    "# of the ratio of whole numbers, a/b and b≠0. A rational number is also expressed in the form of a ratio, p/q,\n",
    "# where numerator and denominator are integers and q≠0."
   ]
  },
  {
   "cell_type": "code",
   "execution_count": null,
   "metadata": {},
   "outputs": [],
   "source": []
  }
 ],
 "metadata": {
  "kernelspec": {
   "display_name": "Python 3",
   "language": "python",
   "name": "python3"
  },
  "language_info": {
   "codemirror_mode": {
    "name": "ipython",
    "version": 3
   },
   "file_extension": ".py",
   "mimetype": "text/x-python",
   "name": "python",
   "nbconvert_exporter": "python",
   "pygments_lexer": "ipython3",
   "version": "3.7.3"
  }
 },
 "nbformat": 4,
 "nbformat_minor": 2
}

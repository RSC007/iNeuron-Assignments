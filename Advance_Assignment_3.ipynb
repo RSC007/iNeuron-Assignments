{
 "cells": [
  {
   "cell_type": "code",
   "execution_count": 1,
   "id": "429aab0d",
   "metadata": {},
   "outputs": [],
   "source": [
    "# 1. What is the concept of an abstract superclass?"
   ]
  },
  {
   "cell_type": "code",
   "execution_count": 2,
   "id": "aa321d26",
   "metadata": {},
   "outputs": [],
   "source": [
    "# Ans : An abstract superclass is one way to provide re-usable code. You can extend the abstract class and inherit\n",
    "# the code. This is sometimes more convenient than using static methods or object composition to share code."
   ]
  },
  {
   "cell_type": "code",
   "execution_count": 3,
   "id": "068bd22f",
   "metadata": {},
   "outputs": [],
   "source": [
    "# 2. What happens when a class statement&#39;s top level contains a basic assignment statement?"
   ]
  },
  {
   "cell_type": "code",
   "execution_count": 4,
   "id": "4957f6b1",
   "metadata": {},
   "outputs": [],
   "source": [
    "# Ans : In python, the statements which are not indented are called a top-level statement"
   ]
  },
  {
   "cell_type": "code",
   "execution_count": 5,
   "id": "388a2713",
   "metadata": {},
   "outputs": [],
   "source": [
    "# 3. Why does a class need to manually call a superclass&#39;s __init__ method?"
   ]
  },
  {
   "cell_type": "code",
   "execution_count": 6,
   "id": "d406ccc1",
   "metadata": {},
   "outputs": [],
   "source": [
    "# Ans : The main reason for always calling base class _init__ is that base class may typically create member\n",
    "# variable and initialize them to defaults"
   ]
  },
  {
   "cell_type": "code",
   "execution_count": 7,
   "id": "d25c2e3e",
   "metadata": {},
   "outputs": [],
   "source": [
    "# 4. How can you augment, instead of completely replacing, an inherited method?"
   ]
  },
  {
   "cell_type": "code",
   "execution_count": 8,
   "id": "0aeaf6b3",
   "metadata": {},
   "outputs": [],
   "source": [
    "# Ans : A more sophisticated way to augment an inherited method involves forwarding. Message forwarding allows you\n",
    "# to augment an inherited method in such a way that it can perform its inherited action and some new action"
   ]
  },
  {
   "cell_type": "code",
   "execution_count": 9,
   "id": "14207e56",
   "metadata": {},
   "outputs": [],
   "source": [
    "# 5. How is the local scope of a class different from that of a function?"
   ]
  },
  {
   "cell_type": "code",
   "execution_count": 10,
   "id": "285227c9",
   "metadata": {},
   "outputs": [],
   "source": [
    "# Ans : Local scope is the area between an { and it's closing }. Function scope is the area between the opening\n",
    "# { of a function and its closing }, which may contain more \"local\" scopes. A label is visible in the entirety of the\n",
    "# function within which it is defined."
   ]
  },
  {
   "cell_type": "code",
   "execution_count": null,
   "id": "9f37fd7c",
   "metadata": {},
   "outputs": [],
   "source": []
  }
 ],
 "metadata": {
  "kernelspec": {
   "display_name": "Python 3 (ipykernel)",
   "language": "python",
   "name": "python3"
  },
  "language_info": {
   "codemirror_mode": {
    "name": "ipython",
    "version": 3
   },
   "file_extension": ".py",
   "mimetype": "text/x-python",
   "name": "python",
   "nbconvert_exporter": "python",
   "pygments_lexer": "ipython3",
   "version": "3.9.7"
  }
 },
 "nbformat": 4,
 "nbformat_minor": 5
}

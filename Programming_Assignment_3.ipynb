{
 "cells": [
  {
   "cell_type": "code",
   "execution_count": 1,
   "id": "f37204c1",
   "metadata": {},
   "outputs": [],
   "source": [
    "# 1. Write a Python Program to Check if a Number is Positive, Negative or Zero?"
   ]
  },
  {
   "cell_type": "code",
   "execution_count": 5,
   "id": "f247d46f",
   "metadata": {},
   "outputs": [
    {
     "data": {
      "text/plain": [
       "'Number is Negative'"
      ]
     },
     "execution_count": 5,
     "metadata": {},
     "output_type": "execute_result"
    }
   ],
   "source": [
    "def check_number(number):\n",
    "    status=''\n",
    "    if number == 0:\n",
    "        status=\"Number is Zero\"\n",
    "    elif number < 0:\n",
    "        status=\"Number is Negative\"\n",
    "    else:\n",
    "        status=\"Number is Positive\"\n",
    "        \n",
    "    return status\n",
    "        \n",
    "check_number(-190)"
   ]
  },
  {
   "cell_type": "code",
   "execution_count": 6,
   "id": "0770193c",
   "metadata": {},
   "outputs": [],
   "source": [
    "# 2. Write a Python Program to Check if a Number is Odd or Even?"
   ]
  },
  {
   "cell_type": "code",
   "execution_count": 9,
   "id": "a4f88d88",
   "metadata": {},
   "outputs": [
    {
     "data": {
      "text/plain": [
       "'Number is odd'"
      ]
     },
     "execution_count": 9,
     "metadata": {},
     "output_type": "execute_result"
    }
   ],
   "source": [
    "def check_number_even_odd(number):\n",
    "    if number%2 == 0:\n",
    "        return \"Number is even\"\n",
    "    else:\n",
    "        return \"Number is odd\"\n",
    "\n",
    "check_number_even_odd(19)"
   ]
  },
  {
   "cell_type": "code",
   "execution_count": 10,
   "id": "6336e5cb",
   "metadata": {},
   "outputs": [],
   "source": [
    "# 3. Write a Python Program to Check Leap Year?"
   ]
  },
  {
   "cell_type": "code",
   "execution_count": 13,
   "id": "f3a4f1ae",
   "metadata": {},
   "outputs": [
    {
     "data": {
      "text/plain": [
       "'leap year'"
      ]
     },
     "execution_count": 13,
     "metadata": {},
     "output_type": "execute_result"
    }
   ],
   "source": [
    "def check_leap_year(year):\n",
    "    if year%4 == 0:\n",
    "        if year%100 == 0:\n",
    "            if year%400 == 0:\n",
    "                return 'leap year'\n",
    "            else:\n",
    "                return 'not leap year'\n",
    "        else:\n",
    "            return 'leap year'\n",
    "    else:\n",
    "        return 'not leap year'\n",
    "    \n",
    "check_leap_year(2024)"
   ]
  },
  {
   "cell_type": "code",
   "execution_count": 15,
   "id": "f8b3910c",
   "metadata": {},
   "outputs": [],
   "source": [
    "# 4. Write a Python Program to Check Prime Number?"
   ]
  },
  {
   "cell_type": "code",
   "execution_count": 28,
   "id": "19356376",
   "metadata": {},
   "outputs": [
    {
     "data": {
      "text/plain": [
       "'Not Prime'"
      ]
     },
     "execution_count": 28,
     "metadata": {},
     "output_type": "execute_result"
    }
   ],
   "source": [
    "def check_number_is_prime(number):\n",
    "    if(number == 1 or number == 0):\n",
    "        return \"Prime\"\n",
    "    for i in range(2,number):\n",
    "        if number%i == 0:\n",
    "            return \"Not Prime\"\n",
    "        \n",
    "    return \"Prime\"\n",
    "\n",
    "check_number_is_prime(6)"
   ]
  },
  {
   "cell_type": "code",
   "execution_count": 29,
   "id": "fbef46e0",
   "metadata": {},
   "outputs": [],
   "source": [
    "# 5. Write a Python Program to Print all Prime Numbers in an Interval of 1-10000?"
   ]
  },
  {
   "cell_type": "code",
   "execution_count": 34,
   "id": "28bace3b",
   "metadata": {},
   "outputs": [
    {
     "data": {
      "text/plain": [
       "[1,\n",
       " 2,\n",
       " 3,\n",
       " 5,\n",
       " 7,\n",
       " 11,\n",
       " 13,\n",
       " 17,\n",
       " 19,\n",
       " 23,\n",
       " 29,\n",
       " 31,\n",
       " 37,\n",
       " 41,\n",
       " 43,\n",
       " 47,\n",
       " 53,\n",
       " 59,\n",
       " 61,\n",
       " 67,\n",
       " 71,\n",
       " 73,\n",
       " 79,\n",
       " 83,\n",
       " 89,\n",
       " 97]"
      ]
     },
     "execution_count": 34,
     "metadata": {},
     "output_type": "execute_result"
    }
   ],
   "source": [
    "def find_prime_number(start, end):\n",
    "    prime_number = []\n",
    "    for i in range(start, end):\n",
    "        if i == 1:\n",
    "            prime_number.append(i)\n",
    "        else:\n",
    "            is_prime=True\n",
    "            for number in range(2, i):\n",
    "                if i%number == 0:\n",
    "                    is_prime=False\n",
    "                    \n",
    "            if is_prime:\n",
    "                prime_number.append(i)\n",
    "    return prime_number\n",
    "                    \n",
    "find_prime_number(1, 100)"
   ]
  },
  {
   "cell_type": "code",
   "execution_count": null,
   "id": "57554129",
   "metadata": {},
   "outputs": [],
   "source": []
  }
 ],
 "metadata": {
  "kernelspec": {
   "display_name": "Python 3 (ipykernel)",
   "language": "python",
   "name": "python3"
  },
  "language_info": {
   "codemirror_mode": {
    "name": "ipython",
    "version": 3
   },
   "file_extension": ".py",
   "mimetype": "text/x-python",
   "name": "python",
   "nbconvert_exporter": "python",
   "pygments_lexer": "ipython3",
   "version": "3.8.10"
  }
 },
 "nbformat": 4,
 "nbformat_minor": 5
}

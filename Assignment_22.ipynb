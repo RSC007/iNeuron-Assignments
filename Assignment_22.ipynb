{
 "cells": [
  {
   "cell_type": "code",
   "execution_count": 1,
   "id": "27c8fca1",
   "metadata": {},
   "outputs": [],
   "source": [
    "# 1. What is the result of the code, and explain?"
   ]
  },
  {
   "cell_type": "code",
   "execution_count": 2,
   "id": "d6714eed",
   "metadata": {},
   "outputs": [
    {
     "name": "stdout",
     "output_type": "stream",
     "text": [
      "iNeuron\n"
     ]
    }
   ],
   "source": [
    "X = 'iNeuron'\n",
    "def func():\n",
    "    print(X)\n",
    "    \n",
    "func()"
   ]
  },
  {
   "cell_type": "code",
   "execution_count": 3,
   "id": "6f2365ad",
   "metadata": {},
   "outputs": [],
   "source": [
    "# Ans : here X variable define in local scope, so we can access it inside any local function"
   ]
  },
  {
   "cell_type": "code",
   "execution_count": 4,
   "id": "990453c3",
   "metadata": {},
   "outputs": [],
   "source": [
    "# 2. What is the result of the code, and explain?"
   ]
  },
  {
   "cell_type": "code",
   "execution_count": 11,
   "id": "dcfee492",
   "metadata": {},
   "outputs": [
    {
     "name": "stdout",
     "output_type": "stream",
     "text": [
      "iNeuron\n"
     ]
    }
   ],
   "source": [
    "X = 'iNeuron'\n",
    "def func():\n",
    "    X='NI!'\n",
    "    \n",
    "func()\n",
    "print(X)"
   ]
  },
  {
   "cell_type": "code",
   "execution_count": 8,
   "id": "583da9d1",
   "metadata": {},
   "outputs": [],
   "source": [
    "# Ans : Here X='NI!' its local scope variable inside the fuction so you can't access it out side or cant change it.\n",
    "#         And X = 'iNeuron' is local scope and print(X) comes within the range thats why it prints 'iNeiron'"
   ]
  },
  {
   "cell_type": "code",
   "execution_count": 9,
   "id": "45f252f8",
   "metadata": {},
   "outputs": [],
   "source": [
    "# 3. What does this code print, and why?"
   ]
  },
  {
   "cell_type": "code",
   "execution_count": 12,
   "id": "1ff32660",
   "metadata": {},
   "outputs": [
    {
     "name": "stdout",
     "output_type": "stream",
     "text": [
      "iNeuron\n",
      "iNeuron\n"
     ]
    }
   ],
   "source": [
    "X = 'iNeuron'\n",
    "def func():\n",
    "    X='NI'\n",
    "    \n",
    "print(X)\n",
    "\n",
    "func()\n",
    "print(X)"
   ]
  },
  {
   "cell_type": "code",
   "execution_count": 14,
   "id": "33f184bb",
   "metadata": {},
   "outputs": [],
   "source": [
    "# Ans : It same as answer 2"
   ]
  },
  {
   "cell_type": "code",
   "execution_count": 15,
   "id": "80d06323",
   "metadata": {},
   "outputs": [],
   "source": [
    "# 4. What output does this code produce? Why?"
   ]
  },
  {
   "cell_type": "code",
   "execution_count": 16,
   "id": "4bec6ffe",
   "metadata": {},
   "outputs": [
    {
     "name": "stdout",
     "output_type": "stream",
     "text": [
      "NI\n"
     ]
    }
   ],
   "source": [
    "X = 'iNeuron'\n",
    "def func():\n",
    "    global X\n",
    "    X='NI'\n",
    "    \n",
    "\n",
    "func()\n",
    "print(X)"
   ]
  },
  {
   "cell_type": "code",
   "execution_count": 29,
   "id": "3662fd75",
   "metadata": {},
   "outputs": [],
   "source": [
    "# Ans : global key define any variable as global out of it's scope,\n",
    "# and also global kay use inside the method for variable to access out side the method"
   ]
  },
  {
   "cell_type": "code",
   "execution_count": 18,
   "id": "614b189d",
   "metadata": {},
   "outputs": [],
   "source": [
    "# 5. What about this code—what’s the output, and why?"
   ]
  },
  {
   "cell_type": "code",
   "execution_count": 26,
   "id": "6bdd88d1",
   "metadata": {},
   "outputs": [
    {
     "name": "stdout",
     "output_type": "stream",
     "text": [
      "NI\n"
     ]
    },
    {
     "data": {
      "text/plain": [
       "'iNeuron'"
      ]
     },
     "execution_count": 26,
     "metadata": {},
     "output_type": "execute_result"
    }
   ],
   "source": [
    "X = 'iNeuron'\n",
    "def func():\n",
    "    X='NI'\n",
    "\n",
    "    def nested():\n",
    "        print(X)\n",
    "\n",
    "    nested()\n",
    "func()\n",
    "X"
   ]
  },
  {
   "cell_type": "code",
   "execution_count": 27,
   "id": "446cac97",
   "metadata": {},
   "outputs": [],
   "source": [
    "# Ans:  HERE N='NI' its local scope for the function func and nested thats why its print X='NI'"
   ]
  },
  {
   "cell_type": "code",
   "execution_count": 28,
   "id": "e467401d",
   "metadata": {},
   "outputs": [],
   "source": [
    "# 6. How about this code: what is its output in Python 3, and explain?"
   ]
  },
  {
   "cell_type": "code",
   "execution_count": 25,
   "id": "4cb3cb1c",
   "metadata": {},
   "outputs": [
    {
     "name": "stdout",
     "output_type": "stream",
     "text": [
      "spam\n"
     ]
    }
   ],
   "source": [
    "def func():\n",
    "    X='NI'\n",
    "\n",
    "    def nested():\n",
    "        nonlocal X\n",
    "        X='spam'\n",
    "\n",
    "    nested()\n",
    "    print(X)\n",
    "    \n",
    "func()"
   ]
  },
  {
   "cell_type": "code",
   "execution_count": 30,
   "id": "edf0e7d6",
   "metadata": {},
   "outputs": [],
   "source": [
    "# Ans : nonlocal it's also simillar as global but inside the method you can use inside the method2 inside method"
   ]
  },
  {
   "cell_type": "code",
   "execution_count": null,
   "id": "ace8360d",
   "metadata": {},
   "outputs": [],
   "source": []
  }
 ],
 "metadata": {
  "kernelspec": {
   "display_name": "Python 3 (ipykernel)",
   "language": "python",
   "name": "python3"
  },
  "language_info": {
   "codemirror_mode": {
    "name": "ipython",
    "version": 3
   },
   "file_extension": ".py",
   "mimetype": "text/x-python",
   "name": "python",
   "nbconvert_exporter": "python",
   "pygments_lexer": "ipython3",
   "version": "3.9.7"
  }
 },
 "nbformat": 4,
 "nbformat_minor": 5
}

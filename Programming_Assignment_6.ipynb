{
 "cells": [
  {
   "cell_type": "code",
   "execution_count": 1,
   "id": "1db746e7",
   "metadata": {},
   "outputs": [],
   "source": [
    "# 1. Write a Python Program to Display Fibonacci Sequence Using Recursion?"
   ]
  },
  {
   "cell_type": "code",
   "execution_count": 14,
   "id": "c87265b2",
   "metadata": {},
   "outputs": [
    {
     "data": {
      "text/plain": [
       "34"
      ]
     },
     "execution_count": 14,
     "metadata": {},
     "output_type": "execute_result"
    }
   ],
   "source": [
    "def fibonacci(num):\n",
    "    if num < 0:\n",
    "        return \"Not valid Input\"\n",
    "    if num == 0:\n",
    "        return 0\n",
    "    elif num == 1 or num == 2:\n",
    "        return 1\n",
    "    else:\n",
    "        return fibonacci(num - 1) + fibonacci(num - 2)\n",
    "\n",
    "fibonacci(9)"
   ]
  },
  {
   "cell_type": "code",
   "execution_count": 15,
   "id": "dbae878b",
   "metadata": {},
   "outputs": [],
   "source": [
    "# 2. Write a Python Program to Find Factorial of Number Using Recursion?"
   ]
  },
  {
   "cell_type": "code",
   "execution_count": 19,
   "id": "8a965114",
   "metadata": {},
   "outputs": [
    {
     "data": {
      "text/plain": [
       "3628800"
      ]
     },
     "execution_count": 19,
     "metadata": {},
     "output_type": "execute_result"
    }
   ],
   "source": [
    "def fectorial(num):\n",
    "    if num == 1:\n",
    "        return 1\n",
    "    else:\n",
    "        return num*fectorial(num-1)\n",
    "    \n",
    "fectorial(10)"
   ]
  },
  {
   "cell_type": "code",
   "execution_count": 20,
   "id": "e8a5d968",
   "metadata": {},
   "outputs": [],
   "source": [
    "# 3. Write a Python Program to calculate your Body Mass Index?"
   ]
  },
  {
   "cell_type": "code",
   "execution_count": 21,
   "id": "24a57be7",
   "metadata": {},
   "outputs": [
    {
     "data": {
      "text/plain": [
       "24.977043158861342"
      ]
     },
     "execution_count": 21,
     "metadata": {},
     "output_type": "execute_result"
    }
   ],
   "source": [
    "def body_mass_index(weight, height):\n",
    "    \"\"\"\n",
    "    weight: in kg\n",
    "    height: in cm\n",
    "    \"\"\"\n",
    "    return weight/(height/100)**2\n",
    "\n",
    "body_mass_index(68, 165)"
   ]
  },
  {
   "cell_type": "code",
   "execution_count": 22,
   "id": "d2b04091",
   "metadata": {},
   "outputs": [],
   "source": [
    "# 4. Write a Python Program to calculate the natural logarithm of any number?"
   ]
  },
  {
   "cell_type": "code",
   "execution_count": 23,
   "id": "d5de7c76",
   "metadata": {},
   "outputs": [
    {
     "data": {
      "text/plain": [
       "3.6635616461296463"
      ]
     },
     "execution_count": 23,
     "metadata": {},
     "output_type": "execute_result"
    }
   ],
   "source": [
    "import math\n",
    "\n",
    "def natural_logarithm(num):\n",
    "    return math.log(num)\n",
    "\n",
    "natural_logarithm(39)"
   ]
  },
  {
   "cell_type": "code",
   "execution_count": 24,
   "id": "1f24970d",
   "metadata": {},
   "outputs": [],
   "source": [
    "# 5. Write a Python Program for cube sum of first n natural numbers?"
   ]
  },
  {
   "cell_type": "code",
   "execution_count": 26,
   "id": "2806bda8",
   "metadata": {},
   "outputs": [
    {
     "data": {
      "text/plain": [
       "225"
      ]
     },
     "execution_count": 26,
     "metadata": {},
     "output_type": "execute_result"
    }
   ],
   "source": [
    "def cube_root(num):\n",
    "    if num == 0:\n",
    "        return \"invalid number\"\n",
    "    \n",
    "    if num == 1:\n",
    "        return 1\n",
    "    else:\n",
    "        return num**3 + cube_root(num-1)\n",
    "    \n",
    "cube_root(5)"
   ]
  },
  {
   "cell_type": "code",
   "execution_count": null,
   "id": "7a342c6d",
   "metadata": {},
   "outputs": [],
   "source": []
  }
 ],
 "metadata": {
  "kernelspec": {
   "display_name": "Python 3 (ipykernel)",
   "language": "python",
   "name": "python3"
  },
  "language_info": {
   "codemirror_mode": {
    "name": "ipython",
    "version": 3
   },
   "file_extension": ".py",
   "mimetype": "text/x-python",
   "name": "python",
   "nbconvert_exporter": "python",
   "pygments_lexer": "ipython3",
   "version": "3.8.10"
  }
 },
 "nbformat": 4,
 "nbformat_minor": 5
}

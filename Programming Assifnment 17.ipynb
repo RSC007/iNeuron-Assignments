{
 "cells": [
  {
   "cell_type": "code",
   "execution_count": 1,
   "id": "d5458d20",
   "metadata": {},
   "outputs": [],
   "source": [
    "# Question1. Create a function that takes three arguments a, b, c and returns the sum of the\n",
    "# numbers that are evenly divided by c from the range a, b inclusive."
   ]
  },
  {
   "cell_type": "code",
   "execution_count": 10,
   "id": "fdf40bf7",
   "metadata": {},
   "outputs": [
    {
     "data": {
      "text/plain": [
       "14"
      ]
     },
     "execution_count": 10,
     "metadata": {},
     "output_type": "execute_result"
    }
   ],
   "source": [
    "def evenly_divisible(start, end, steps):\n",
    "    result =0\n",
    "    while True:\n",
    "        if((result + steps) >= end):\n",
    "            return result\n",
    "        result = (result + steps)\n",
    "\n",
    "evenly_divisible(1, 10, 2)"
   ]
  },
  {
   "cell_type": "code",
   "execution_count": 11,
   "id": "75fb4b57",
   "metadata": {},
   "outputs": [],
   "source": [
    "# Question2. Create a function that returns True if a given inequality expression is correct and\n",
    "# False otherwise."
   ]
  },
  {
   "cell_type": "code",
   "execution_count": 14,
   "id": "9107d799",
   "metadata": {},
   "outputs": [
    {
     "name": "stdout",
     "output_type": "stream",
     "text": [
      "True\n",
      "False\n"
     ]
    }
   ],
   "source": [
    "def check(s):\n",
    "    regex=eval(s)\n",
    "    if regex:\n",
    "        return True\n",
    "    else:\n",
    "        return False \n",
    "\n",
    "print(check(\"2 < 7 < 15\"))\n",
    "print(check(\"30 > 45 > 21 > 9\"))"
   ]
  },
  {
   "cell_type": "code",
   "execution_count": 15,
   "id": "98a52e12",
   "metadata": {},
   "outputs": [],
   "source": [
    "# Question3. Create a function that replaces all the vowels in a string with a specified character."
   ]
  },
  {
   "cell_type": "code",
   "execution_count": 16,
   "id": "4bd72374",
   "metadata": {},
   "outputs": [
    {
     "data": {
      "text/plain": [
       "120"
      ]
     },
     "execution_count": 16,
     "metadata": {},
     "output_type": "execute_result"
    }
   ],
   "source": [
    "def factorial(num):\n",
    "    if num == 1:\n",
    "        return 1\n",
    "    return num * factorial(num-1)\n",
    "\n",
    "factorial(5)"
   ]
  },
  {
   "cell_type": "code",
   "execution_count": 17,
   "id": "086cc7f2",
   "metadata": {},
   "outputs": [],
   "source": [
    "# Question 5\n",
    "# Hamming distance is the number of characters that differ between two strings.\n",
    "# To illustrate:\n",
    "# String1: &quot;abcbba&quot;\n",
    "# String2: &quot;abcbda&quot;\n",
    "# Hamming Distance: 1 - &quot;b&quot; vs. &quot;d&quot; is the only difference.\n",
    "# Create a function that computes the hamming distance between two strings."
   ]
  },
  {
   "cell_type": "code",
   "execution_count": 29,
   "id": "f7abb30e",
   "metadata": {},
   "outputs": [
    {
     "data": {
      "text/plain": [
       "5"
      ]
     },
     "execution_count": 29,
     "metadata": {},
     "output_type": "execute_result"
    }
   ],
   "source": [
    "def hamming_distance(str1, str2):\n",
    "    i = 0\n",
    "    human_count = 0\n",
    "    for char in range(len(str1)):\n",
    "        if (str1[char] != str2[i]):\n",
    "            human_count+=1\n",
    "        i+=1\n",
    "        \n",
    "    return human_count\n",
    "\n",
    "hamming_distance(\"abcde\", \"bcdef\")"
   ]
  },
  {
   "cell_type": "code",
   "execution_count": null,
   "id": "94b2b18c",
   "metadata": {},
   "outputs": [],
   "source": []
  }
 ],
 "metadata": {
  "kernelspec": {
   "display_name": "Python 3 (ipykernel)",
   "language": "python",
   "name": "python3"
  },
  "language_info": {
   "codemirror_mode": {
    "name": "ipython",
    "version": 3
   },
   "file_extension": ".py",
   "mimetype": "text/x-python",
   "name": "python",
   "nbconvert_exporter": "python",
   "pygments_lexer": "ipython3",
   "version": "3.8.10"
  }
 },
 "nbformat": 4,
 "nbformat_minor": 5
}

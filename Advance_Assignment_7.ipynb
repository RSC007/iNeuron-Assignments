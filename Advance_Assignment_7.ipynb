{
 "cells": [
  {
   "cell_type": "code",
   "execution_count": 1,
   "id": "43c08100",
   "metadata": {},
   "outputs": [],
   "source": [
    "# Q1. What is the purpose of the try statement?"
   ]
  },
  {
   "cell_type": "code",
   "execution_count": 2,
   "id": "2af20692",
   "metadata": {},
   "outputs": [],
   "source": [
    "# Ans : it try the code for any complication or problems, if it find any issue with code then it passes to except block"
   ]
  },
  {
   "cell_type": "code",
   "execution_count": 3,
   "id": "6624b45c",
   "metadata": {},
   "outputs": [],
   "source": [
    "# Ans: In Python, exceptions can be handled using a try statement. The critical operation which can raise an exception\n",
    "# is placed inside the try clause. The code that handles the exceptions is written in the except clause"
   ]
  },
  {
   "cell_type": "code",
   "execution_count": 4,
   "id": "fad0b7c4",
   "metadata": {},
   "outputs": [],
   "source": [
    "# Q2. What are the two most popular try statement variations?"
   ]
  },
  {
   "cell_type": "code",
   "execution_count": 5,
   "id": "fbc6a390",
   "metadata": {},
   "outputs": [],
   "source": [
    "# Ans :  Syntax errors and Exceptions."
   ]
  },
  {
   "cell_type": "code",
   "execution_count": 6,
   "id": "47f3c418",
   "metadata": {},
   "outputs": [],
   "source": [
    "# Q3. What is the purpose of the raise statement?"
   ]
  },
  {
   "cell_type": "code",
   "execution_count": 7,
   "id": "f2346d20",
   "metadata": {},
   "outputs": [],
   "source": [
    "# Ans : using the raise, we can intentionally perform the exception error"
   ]
  },
  {
   "cell_type": "code",
   "execution_count": 8,
   "id": "77791ffb",
   "metadata": {},
   "outputs": [],
   "source": [
    "# Q4. What does the assert statement do, and what other statement is it like?"
   ]
  },
  {
   "cell_type": "code",
   "execution_count": 9,
   "id": "14475335",
   "metadata": {},
   "outputs": [],
   "source": [
    "# Ans: assert statement takes an expression and optional message. assert statement is used to check types, values of argument\n",
    "# and the output of the function. assert statement is used as debugging tool as it halts the program at the point\n",
    "# where an error occurs"
   ]
  },
  {
   "cell_type": "code",
   "execution_count": 10,
   "id": "2727c778",
   "metadata": {},
   "outputs": [],
   "source": [
    "# Q5. What is the purpose of the with/as argument, and what other statement is it like?"
   ]
  },
  {
   "cell_type": "code",
   "execution_count": 11,
   "id": "55204a1f",
   "metadata": {},
   "outputs": [],
   "source": [
    "# Ans : with statement in Python is used in exception handling to make the code cleaner and much more readable.\n",
    "# It simplifies the management of common resources like file streams."
   ]
  },
  {
   "cell_type": "code",
   "execution_count": null,
   "id": "34a8da34",
   "metadata": {},
   "outputs": [],
   "source": []
  }
 ],
 "metadata": {
  "kernelspec": {
   "display_name": "Python 3 (ipykernel)",
   "language": "python",
   "name": "python3"
  },
  "language_info": {
   "codemirror_mode": {
    "name": "ipython",
    "version": 3
   },
   "file_extension": ".py",
   "mimetype": "text/x-python",
   "name": "python",
   "nbconvert_exporter": "python",
   "pygments_lexer": "ipython3",
   "version": "3.9.7"
  }
 },
 "nbformat": 4,
 "nbformat_minor": 5
}

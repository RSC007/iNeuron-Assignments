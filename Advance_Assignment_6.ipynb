{
 "cells": [
  {
   "cell_type": "code",
   "execution_count": 1,
   "id": "bf886a5a",
   "metadata": {},
   "outputs": [],
   "source": [
    "# Q1. Describe three applications for exception processing."
   ]
  },
  {
   "cell_type": "code",
   "execution_count": 2,
   "id": "435177d9",
   "metadata": {},
   "outputs": [],
   "source": [
    "# -> Python facilitates us to not specify the exception with the except statement.\n",
    "# -> We can declare multiple exceptions in the except statement since the try block may contain the statements which throw the different type of exceptions.\n",
    "# -> We can also specify an else block along with the try-except statement, which will be executed if no exception is raised in the try block.\n",
    "# -> The statements that don't throw the exception should be placed inside the else block."
   ]
  },
  {
   "cell_type": "code",
   "execution_count": 3,
   "id": "2af5bedd",
   "metadata": {},
   "outputs": [],
   "source": [
    "# Q2. What happens if you don&#39;t do something extra to treat an exception?"
   ]
  },
  {
   "cell_type": "code",
   "execution_count": 4,
   "id": "bdd1a677",
   "metadata": {},
   "outputs": [],
   "source": [
    "# Ans: An exception may cause the program to stop if it is not properly \"caught\""
   ]
  },
  {
   "cell_type": "code",
   "execution_count": 5,
   "id": "925f30bc",
   "metadata": {},
   "outputs": [],
   "source": [
    "# Q3. What are your options for recovering from an exception in your script?"
   ]
  },
  {
   "cell_type": "code",
   "execution_count": 7,
   "id": "985b4ba5",
   "metadata": {},
   "outputs": [],
   "source": [
    "# Ans: If you have some suspicious code that may raise an exception, you can defend your program by placing the suspicious code\n",
    "# in a try: block. After the try: block, include an except: statement, followed by a block of code which handles the problem\n",
    "# as elegantly as possible."
   ]
  },
  {
   "cell_type": "code",
   "execution_count": 8,
   "id": "fb05ed2d",
   "metadata": {},
   "outputs": [],
   "source": [
    "# Q4. Describe two methods for triggering exceptions in your script."
   ]
  },
  {
   "cell_type": "code",
   "execution_count": 9,
   "id": "7e7e8a66",
   "metadata": {},
   "outputs": [],
   "source": [
    "# EOFError, FloatingPointError, ImportError\t"
   ]
  },
  {
   "cell_type": "code",
   "execution_count": 10,
   "id": "9f8976eb",
   "metadata": {},
   "outputs": [],
   "source": [
    "# Q5. Identify two methods for specifying actions to be executed at termination time, regardless of\n",
    "# whether or not an exception exists."
   ]
  },
  {
   "cell_type": "code",
   "execution_count": null,
   "id": "93904c0a",
   "metadata": {},
   "outputs": [],
   "source": [
    "# Ans : The statements in the finally block will always be executed, whether an exception is thrown or not.\n",
    "# This clause is used to close the resources used in a code."
   ]
  }
 ],
 "metadata": {
  "kernelspec": {
   "display_name": "Python 3 (ipykernel)",
   "language": "python",
   "name": "python3"
  },
  "language_info": {
   "codemirror_mode": {
    "name": "ipython",
    "version": 3
   },
   "file_extension": ".py",
   "mimetype": "text/x-python",
   "name": "python",
   "nbconvert_exporter": "python",
   "pygments_lexer": "ipython3",
   "version": "3.9.7"
  }
 },
 "nbformat": 4,
 "nbformat_minor": 5
}

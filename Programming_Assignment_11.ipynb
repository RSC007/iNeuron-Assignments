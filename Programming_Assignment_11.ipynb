{
 "cells": [
  {
   "cell_type": "code",
   "execution_count": 1,
   "id": "3d69e486",
   "metadata": {},
   "outputs": [],
   "source": [
    "# 1. Write a Python program to find words which are greater than given length k?"
   ]
  },
  {
   "cell_type": "code",
   "execution_count": 2,
   "id": "9f6f5df0",
   "metadata": {},
   "outputs": [
    {
     "data": {
      "text/plain": [
       "['gfdsgfdsfdsf', 'fsfdasfds']"
      ]
     },
     "execution_count": 2,
     "metadata": {},
     "output_type": "execute_result"
    }
   ],
   "source": [
    "test=[\"dad\",\"dads\",\"fdd\", \"gfdsgfdsfdsf\", \"fsfdasfds\", \"rer\"]\n",
    "\n",
    "def find_greater_element(arr, k):\n",
    "    greater_list=[]\n",
    "    for i in arr:\n",
    "        if len(i) > k:\n",
    "            greater_list.append(i)\n",
    "            \n",
    "    return greater_list\n",
    "\n",
    "find_greater_element(test, 5)"
   ]
  },
  {
   "cell_type": "code",
   "execution_count": 3,
   "id": "7619942b",
   "metadata": {},
   "outputs": [],
   "source": [
    "# 2. Write a Python program for removing i-th character from a string?"
   ]
  },
  {
   "cell_type": "code",
   "execution_count": 9,
   "id": "c6d7602a",
   "metadata": {},
   "outputs": [
    {
     "data": {
      "text/plain": [
       "'ruhikesh chitte'"
      ]
     },
     "execution_count": 9,
     "metadata": {},
     "output_type": "execute_result"
    }
   ],
   "source": [
    "test_str = \"rushikesh chitte\"\n",
    "def remove(string, position):\n",
    "    return string[:position-1] + string[position:]\n",
    "    \n",
    "remove(test_str, 3)"
   ]
  },
  {
   "cell_type": "code",
   "execution_count": 10,
   "id": "074e864e",
   "metadata": {},
   "outputs": [],
   "source": [
    "# 3. Write a Python program to split and join a string?"
   ]
  },
  {
   "cell_type": "code",
   "execution_count": 16,
   "id": "bfb08edf",
   "metadata": {},
   "outputs": [
    {
     "data": {
      "text/plain": [
       "'rushikesh-chitte'"
      ]
     },
     "execution_count": 16,
     "metadata": {},
     "output_type": "execute_result"
    }
   ],
   "source": [
    "arr = test_str.split()\n",
    "\"-\".join(arr)"
   ]
  },
  {
   "cell_type": "code",
   "execution_count": 17,
   "id": "bb3152db",
   "metadata": {},
   "outputs": [],
   "source": [
    "# 4. Write a Python to check if a given string is binary string or not?"
   ]
  },
  {
   "cell_type": "code",
   "execution_count": 23,
   "id": "f0452930",
   "metadata": {},
   "outputs": [
    {
     "name": "stdout",
     "output_type": "stream",
     "text": [
      "No\n"
     ]
    }
   ],
   "source": [
    "p = set(\"rushil101010esk\")\n",
    "\n",
    "s = {\"0\", \"1\"}\n",
    "if s == p or p == {'0'} or p == {'1'}:\n",
    "    print(\"Yes\")\n",
    "else:\n",
    "    print(\"No\")"
   ]
  },
  {
   "cell_type": "code",
   "execution_count": 24,
   "id": "048bcea3",
   "metadata": {},
   "outputs": [],
   "source": [
    "# 5. Write a Python program to find uncommon words from two Strings?"
   ]
  },
  {
   "cell_type": "code",
   "execution_count": 25,
   "id": "fef6d5b7",
   "metadata": {},
   "outputs": [
    {
     "data": {
      "text/plain": [
       "['r', 'u', 's', 'h', 's', 'h']"
      ]
     },
     "execution_count": 25,
     "metadata": {},
     "output_type": "execute_result"
    }
   ],
   "source": [
    "\n",
    "def uncommon_word(str1='', str2=''):\n",
    "    lower_str1=str1.lower()\n",
    "    lower_str2=str2.lower()\n",
    "    \n",
    "    uncommon=[]\n",
    "    for i in lower_str1:\n",
    "        if i not in lower_str2:\n",
    "            uncommon.append(i)\n",
    "            \n",
    "    return uncommon\n",
    "\n",
    "uncommon_word(\"rushikesh\", \"aniket\")"
   ]
  },
  {
   "cell_type": "code",
   "execution_count": 26,
   "id": "43ad9f35",
   "metadata": {},
   "outputs": [],
   "source": [
    "# 6. Write a Python to find all duplicate characters in string?"
   ]
  },
  {
   "cell_type": "code",
   "execution_count": 28,
   "id": "9bf7baae",
   "metadata": {},
   "outputs": [
    {
     "data": {
      "text/plain": [
       "'sh'"
      ]
     },
     "execution_count": 28,
     "metadata": {},
     "output_type": "execute_result"
    }
   ],
   "source": [
    "def find_duplicate(string):\n",
    "    not_duplicate=''\n",
    "    duplicate=\"\"\n",
    "    for i in string:\n",
    "        if i in not_duplicate:\n",
    "            duplicate+=i\n",
    "        else:\n",
    "            not_duplicate+=i\n",
    "            \n",
    "    return duplicate\n",
    "\n",
    "find_duplicate(\"rushikesh\")"
   ]
  },
  {
   "cell_type": "code",
   "execution_count": 30,
   "id": "a0dc91b7",
   "metadata": {},
   "outputs": [],
   "source": [
    "# 7. Write a Python Program to check if a string contains any special character?"
   ]
  },
  {
   "cell_type": "code",
   "execution_count": 31,
   "id": "571230dd",
   "metadata": {},
   "outputs": [
    {
     "data": {
      "text/plain": [
       "'Not Acceptable'"
      ]
     },
     "execution_count": 31,
     "metadata": {},
     "output_type": "execute_result"
    }
   ],
   "source": [
    "import re\n",
    "\n",
    "def is_string_acceptable(string):\n",
    "    regex = re.compile('[@_!#$%^&*()<>?/\\|}{~:]')\n",
    "    if(regex.search(string) == None):\n",
    "        return (\"String is accepted\")\n",
    "    else:\n",
    "        return \"Not Acceptable\"\n",
    "    \n",
    "is_string_acceptable(\"rushikle@sh\")"
   ]
  },
  {
   "cell_type": "code",
   "execution_count": null,
   "id": "73374801",
   "metadata": {},
   "outputs": [],
   "source": []
  }
 ],
 "metadata": {
  "kernelspec": {
   "display_name": "Python 3 (ipykernel)",
   "language": "python",
   "name": "python3"
  },
  "language_info": {
   "codemirror_mode": {
    "name": "ipython",
    "version": 3
   },
   "file_extension": ".py",
   "mimetype": "text/x-python",
   "name": "python",
   "nbconvert_exporter": "python",
   "pygments_lexer": "ipython3",
   "version": "3.8.10"
  }
 },
 "nbformat": 4,
 "nbformat_minor": 5
}

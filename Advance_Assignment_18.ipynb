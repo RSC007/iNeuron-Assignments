{
 "cells": [
  {
   "cell_type": "code",
   "execution_count": 1,
   "metadata": {},
   "outputs": [],
   "source": [
    "# Q1. Describe the differences between text and binary files in a single paragraph."
   ]
  },
  {
   "cell_type": "code",
   "execution_count": 2,
   "metadata": {},
   "outputs": [],
   "source": [
    "# Text files are organized around lines, each of which ends with a newline character ('\\n').\n",
    "# The source code files are themselves text files. A binary file is the one in which data is stored in the file in the same way as it is stored in the main memory for processing"
   ]
  },
  {
   "cell_type": "code",
   "execution_count": 3,
   "metadata": {},
   "outputs": [],
   "source": [
    "# Q2. What are some scenarios where using text files will be the better option? When would you like to\n",
    "# use binary files instead of text files?"
   ]
  },
  {
   "cell_type": "code",
   "execution_count": 4,
   "metadata": {},
   "outputs": [],
   "source": [
    "# The major difference between these two is that a text file contains textual information in the form\n",
    "# of alphabets, digits and special characters or symbols. On the other hand, a binary file contains\n",
    "# bytes or a compiled version of a text file"
   ]
  },
  {
   "cell_type": "code",
   "execution_count": 5,
   "metadata": {},
   "outputs": [],
   "source": [
    "# Q3. What are some of the issues with using binary operations to read and write a Python integer\n",
    "# directly to disc?"
   ]
  },
  {
   "cell_type": "code",
   "execution_count": 6,
   "metadata": {},
   "outputs": [],
   "source": [
    "# Data is left in a raw binary form readable by the computer. The only difference in switching from text files to binary files is the syntax used for input and output. A binary file cannot be viewed or edited using a regular text editor program."
   ]
  },
  {
   "cell_type": "code",
   "execution_count": 7,
   "metadata": {},
   "outputs": [],
   "source": [
    "# Q4. Describe a benefit of using the with keyword instead of explicitly opening a file."
   ]
  },
  {
   "cell_type": "code",
   "execution_count": 8,
   "metadata": {},
   "outputs": [],
   "source": [
    "# The advantage of using a with statement is that it is guaranteed to close the file no matter how\n",
    "# the nested block exits. If an exception occurs before the end of the block, it will close the file before the exception is caught by an outer exception handler."
   ]
  },
  {
   "cell_type": "code",
   "execution_count": 9,
   "metadata": {},
   "outputs": [],
   "source": [
    "# Q5. Does Python have the trailing newline while reading a line of text? Does Python append a\n",
    "# newline when you write a line of text?"
   ]
  },
  {
   "cell_type": "code",
   "execution_count": 10,
   "metadata": {},
   "outputs": [],
   "source": [
    "# Here, are important characteristics of Python read line: Python readline() method reads only one complete line\n",
    "# from the file given. It appends a newline (“\\n”) at the end of the line. If you open the file in normal read\n",
    "# mode, readline() will return you the string."
   ]
  },
  {
   "cell_type": "code",
   "execution_count": 11,
   "metadata": {},
   "outputs": [],
   "source": [
    "# Q6. What file operations enable for random-access operation?"
   ]
  },
  {
   "cell_type": "code",
   "execution_count": 12,
   "metadata": {},
   "outputs": [],
   "source": [
    "# This class is used for reading and writing to random access file. A random access file behaves like a large\n",
    "# array of bytes. There is a cursor implied to the array called file pointer, by moving the cursor we do the\n",
    "# read write operations."
   ]
  },
  {
   "cell_type": "code",
   "execution_count": 13,
   "metadata": {},
   "outputs": [],
   "source": [
    "# Q7. When do you think you&#39;ll use the struct package the most?"
   ]
  },
  {
   "cell_type": "code",
   "execution_count": 14,
   "metadata": {},
   "outputs": [],
   "source": [
    "# struct. pack() is the function that converts a given list of values into their corresponding string\n",
    "# representation. It requires the user to specify the format and order of the values that need to be converted."
   ]
  },
  {
   "cell_type": "code",
   "execution_count": 15,
   "metadata": {},
   "outputs": [],
   "source": [
    "# Q8. When is pickling the best option?"
   ]
  },
  {
   "cell_type": "code",
   "execution_count": 17,
   "metadata": {},
   "outputs": [],
   "source": [
    "# The following best practices allow safe implementation of pickle.\n",
    "# An untrusted client or an untrusted server can cause remote code execution. ...\n",
    "# Ensure the parties exchanging pickle have an encrypted network connection."
   ]
  },
  {
   "cell_type": "code",
   "execution_count": 18,
   "metadata": {},
   "outputs": [],
   "source": [
    "# Q9. When will it be best to use the shelve package?"
   ]
  },
  {
   "cell_type": "code",
   "execution_count": 19,
   "metadata": {},
   "outputs": [],
   "source": [
    "# The shelve module in Python's standard library is a simple yet effective tool for persistent data storage\n",
    "# when using a relational database solution is not required. The shelf object defined in this module is\n",
    "# dictionary-like object which is persistently stored in a disk file"
   ]
  },
  {
   "cell_type": "code",
   "execution_count": 20,
   "metadata": {},
   "outputs": [],
   "source": [
    "# Q10. What is a special restriction when using the shelve package, as opposed to using other data\n",
    "# dictionaries?"
   ]
  },
  {
   "cell_type": "code",
   "execution_count": 21,
   "metadata": {},
   "outputs": [],
   "source": [
    "# The shelf dictionary has certain restrictions. Only string data type can be used as key in this special\n",
    "# dictionary object, whereas any picklable Python object can be used as value."
   ]
  },
  {
   "cell_type": "code",
   "execution_count": null,
   "metadata": {},
   "outputs": [],
   "source": []
  }
 ],
 "metadata": {
  "kernelspec": {
   "display_name": "Python 3",
   "language": "python",
   "name": "python3"
  },
  "language_info": {
   "codemirror_mode": {
    "name": "ipython",
    "version": 3
   },
   "file_extension": ".py",
   "mimetype": "text/x-python",
   "name": "python",
   "nbconvert_exporter": "python",
   "pygments_lexer": "ipython3",
   "version": "3.7.3"
  }
 },
 "nbformat": 4,
 "nbformat_minor": 2
}

{
 "cells": [
  {
   "cell_type": "code",
   "execution_count": 1,
   "id": "5445613b",
   "metadata": {},
   "outputs": [],
   "source": [
    "# Q1. If you have any, what are your choices for increasing the comparison between different figures on\n",
    "# the same graph?"
   ]
  },
  {
   "cell_type": "code",
   "execution_count": 2,
   "id": "1a26dde7",
   "metadata": {},
   "outputs": [],
   "source": [
    "# a Bar Graph. Bar graphs are used to compare things between different groups or to track changes over time."
   ]
  },
  {
   "cell_type": "code",
   "execution_count": 3,
   "id": "80d25812",
   "metadata": {},
   "outputs": [],
   "source": [
    "# Q2. Can you explain the benefit of compound interest over a higher rate of interest that does not\n",
    "# compound after reading this chapter?"
   ]
  },
  {
   "cell_type": "code",
   "execution_count": 4,
   "id": "489e585a",
   "metadata": {},
   "outputs": [],
   "source": [
    "# Compound interest makes your money grow faster because interest is calculated on the accumulated interest over time as well as on your original principal. Compounding can create a snowball effect, as the original investments plus the income earned from those investments grow together."
   ]
  },
  {
   "cell_type": "code",
   "execution_count": 5,
   "id": "a833a3d4",
   "metadata": {},
   "outputs": [],
   "source": [
    "# Q3. What is a histogram, exactly? Name a numpy method for creating such a graph."
   ]
  },
  {
   "cell_type": "code",
   "execution_count": 6,
   "id": "0aee6099",
   "metadata": {},
   "outputs": [],
   "source": [
    "# Numpy has a built-in numpy. histogram() function which represents the frequency of data distribution in the\n",
    "# graphical form. The rectangles having equal horizontal size corresponds to class interval called bin \n",
    "# and variable height corresponding to the frequency."
   ]
  },
  {
   "cell_type": "code",
   "execution_count": 7,
   "id": "be11773c",
   "metadata": {},
   "outputs": [],
   "source": [
    "# Q4. If necessary, how do you change the aspect ratios between the X and Y axes?"
   ]
  },
  {
   "cell_type": "code",
   "execution_count": 9,
   "id": "794617c8",
   "metadata": {},
   "outputs": [],
   "source": [
    "# The data aspect ratio is the relative length of the data units along the x-axis, y-axis, and z-axis.\n",
    "# You can change the aspect ratio using the daspect function. Set the ratio as a three-element vector of positive\n",
    "# values that represent the relative lengths of data units along each axis."
   ]
  },
  {
   "cell_type": "code",
   "execution_count": 10,
   "id": "64f99351",
   "metadata": {},
   "outputs": [],
   "source": [
    "# Q5. Compare and contrast the three types of array multiplication between two numpy arrays: dot\n",
    "# product, outer product, and regular multiplication of two numpy arrays."
   ]
  },
  {
   "cell_type": "code",
   "execution_count": 11,
   "id": "9c30c4ef",
   "metadata": {},
   "outputs": [],
   "source": [
    "# np. dot is the dot product of two matrices. Whereas np. multiply does an element-wise multiplication of two matrices."
   ]
  },
  {
   "cell_type": "code",
   "execution_count": 12,
   "id": "cf3fa624",
   "metadata": {},
   "outputs": [],
   "source": [
    "# Q6. Before you buy a home, which numpy function will you use to measure your monthly mortgage\n",
    "# payment?"
   ]
  },
  {
   "cell_type": "code",
   "execution_count": 14,
   "id": "c4a3f637",
   "metadata": {},
   "outputs": [],
   "source": [
    "# In order to calculate the monthly mortgage payment, you will use the numpy function . \n",
    "# pmt(rate, nper, pv) where: rate = The periodic (monthly) interest rate."
   ]
  },
  {
   "cell_type": "code",
   "execution_count": 15,
   "id": "60806a41",
   "metadata": {},
   "outputs": [],
   "source": [
    "# Q7. Can string data be stored in numpy arrays? If so, list at least one restriction that applies to this\n",
    "# data."
   ]
  },
  {
   "cell_type": "code",
   "execution_count": 16,
   "id": "05cc8339",
   "metadata": {},
   "outputs": [],
   "source": [
    "# The elements of a NumPy array, or simply an array, are usually numbers, but can also be boolians, strings, or other objects."
   ]
  },
  {
   "cell_type": "code",
   "execution_count": null,
   "id": "46a7f640",
   "metadata": {},
   "outputs": [],
   "source": []
  }
 ],
 "metadata": {
  "kernelspec": {
   "display_name": "Python 3 (ipykernel)",
   "language": "python",
   "name": "python3"
  },
  "language_info": {
   "codemirror_mode": {
    "name": "ipython",
    "version": 3
   },
   "file_extension": ".py",
   "mimetype": "text/x-python",
   "name": "python",
   "nbconvert_exporter": "python",
   "pygments_lexer": "ipython3",
   "version": "3.8.10"
  }
 },
 "nbformat": 4,
 "nbformat_minor": 5
}

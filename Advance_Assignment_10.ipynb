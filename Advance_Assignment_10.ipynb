{
 "cells": [
  {
   "cell_type": "code",
   "execution_count": 2,
   "metadata": {},
   "outputs": [],
   "source": [
    "# Q1. What is the difference between __getattr__ and __getattribute__?"
   ]
  },
  {
   "cell_type": "code",
   "execution_count": 4,
   "metadata": {},
   "outputs": [],
   "source": [
    "# Ans : __getattribute__ is invoked before looking at the actual attributes on the object, and so can be\n",
    "# tricky to implement correctly. You can end up in infinite recursions very easily.\n",
    "\n",
    "# __getattribute__ : its called when object is acceseed\n",
    "# __getattr__ : when you dont find the attribute from above the it called"
   ]
  },
  {
   "cell_type": "code",
   "execution_count": 5,
   "metadata": {},
   "outputs": [],
   "source": [
    "# Q2. What is the difference between properties and descriptors?"
   ]
  },
  {
   "cell_type": "code",
   "execution_count": 6,
   "metadata": {},
   "outputs": [],
   "source": [
    "# Properties. We can bind getter, setter (and deleter) functions with an attribute name, using the built-in\n",
    "# property function. When we do this, each reference to an attribute looks like simple, direct access, but\n",
    "# invokes the appropriate function of the object. For example, anObject.price= someValue; anObject.value.\n",
    "\n",
    "# Descriptors. We can bind getter, setter (and deleter) functions into a separate class. We then assign an\n",
    "# object of this class to the attribute name. When we do this, each reference to an attribute looks like\n",
    "# simple, direct access, but invokes an appropriate function of the Descriptor object. For example,\n",
    "# anObject.price= someValue; anObject.value."
   ]
  },
  {
   "cell_type": "code",
   "execution_count": 7,
   "metadata": {},
   "outputs": [],
   "source": [
    "# Q3. What are the key differences in functionality between __getattr__ and __getattribute__, as well as\n",
    "# properties and descriptors?"
   ]
  },
  {
   "cell_type": "code",
   "execution_count": 8,
   "metadata": {},
   "outputs": [],
   "source": [
    "# Ans : 1 & 2"
   ]
  },
  {
   "cell_type": "code",
   "execution_count": null,
   "metadata": {},
   "outputs": [],
   "source": []
  }
 ],
 "metadata": {
  "kernelspec": {
   "display_name": "Python 3",
   "language": "python",
   "name": "python3"
  },
  "language_info": {
   "codemirror_mode": {
    "name": "ipython",
    "version": 3
   },
   "file_extension": ".py",
   "mimetype": "text/x-python",
   "name": "python",
   "nbconvert_exporter": "python",
   "pygments_lexer": "ipython3",
   "version": "3.7.3"
  }
 },
 "nbformat": 4,
 "nbformat_minor": 2
}

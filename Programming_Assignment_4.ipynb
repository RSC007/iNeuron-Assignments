{
 "cells": [
  {
   "cell_type": "code",
   "execution_count": 1,
   "id": "7788ac13",
   "metadata": {},
   "outputs": [],
   "source": [
    "# 1. Write a Python Program to Find the Factorial of a Number?"
   ]
  },
  {
   "cell_type": "code",
   "execution_count": 3,
   "id": "947cc8d5",
   "metadata": {},
   "outputs": [],
   "source": [
    "def fectorial(num):\n",
    "    if num > 1:\n",
    "        return num*fectorial(num-1)\n",
    "    \n",
    "    if num == 1:\n",
    "        return num"
   ]
  },
  {
   "cell_type": "code",
   "execution_count": 8,
   "id": "a0228f79",
   "metadata": {},
   "outputs": [
    {
     "data": {
      "text/plain": [
       "720"
      ]
     },
     "execution_count": 8,
     "metadata": {},
     "output_type": "execute_result"
    }
   ],
   "source": [
    "fectorial(6)"
   ]
  },
  {
   "cell_type": "code",
   "execution_count": 9,
   "id": "a4a44af2",
   "metadata": {},
   "outputs": [],
   "source": [
    "# 2. Write a Python Program to Display the multiplication Table?"
   ]
  },
  {
   "cell_type": "code",
   "execution_count": 11,
   "id": "3d0dec89",
   "metadata": {},
   "outputs": [
    {
     "name": "stdout",
     "output_type": "stream",
     "text": [
      "10\n",
      "20\n",
      "30\n",
      "40\n",
      "50\n",
      "60\n",
      "70\n",
      "80\n",
      "90\n",
      "100\n"
     ]
    }
   ],
   "source": [
    "def table(num):\n",
    "    for i in range(1, 11):\n",
    "        print(i*num)\n",
    "        \n",
    "table(10)"
   ]
  },
  {
   "cell_type": "code",
   "execution_count": 12,
   "id": "a8a85272",
   "metadata": {},
   "outputs": [],
   "source": [
    "# 3. Write a Python Program to Print the Fibonacci sequence?"
   ]
  },
  {
   "cell_type": "code",
   "execution_count": 21,
   "id": "70a6b21a",
   "metadata": {},
   "outputs": [
    {
     "data": {
      "text/plain": [
       "55"
      ]
     },
     "execution_count": 21,
     "metadata": {},
     "output_type": "execute_result"
    }
   ],
   "source": [
    "def fibonacci(num):\n",
    "    if num < 0:\n",
    "        return \"Incorrect out-put\"\n",
    "    \n",
    "    if num == 0:\n",
    "        return 0\n",
    "    \n",
    "    if num == 1 or num == 2:\n",
    "        return 1\n",
    "    \n",
    "    return fibonacci(num-1) + fibonacci(num - 2)\n",
    "    \n",
    "    \n",
    "fibonacci(10)"
   ]
  },
  {
   "cell_type": "code",
   "execution_count": 23,
   "id": "407478d7",
   "metadata": {},
   "outputs": [],
   "source": [
    "# 4. Write a Python Program to Check Armstrong Number?"
   ]
  },
  {
   "cell_type": "code",
   "execution_count": 39,
   "id": "2de2f962",
   "metadata": {},
   "outputs": [
    {
     "data": {
      "text/plain": [
       "'This is armstrong number.'"
      ]
     },
     "execution_count": 39,
     "metadata": {},
     "output_type": "execute_result"
    }
   ],
   "source": [
    "def is_armstrong(num):\n",
    "    \n",
    "    def multiply(digit,length):\n",
    "        result=1\n",
    "        for i in range(length):\n",
    "            result=result*int(digit)\n",
    "        return result\n",
    "        \n",
    "    str_num = str(num)\n",
    "    final=0\n",
    "    for i in str_num:\n",
    "        final=final+multiply(i, len(str_num))\n",
    "        \n",
    "    if final==num:\n",
    "        return \"This is armstrong number.\"\n",
    "    else:\n",
    "        return \"Not armstrong number.\"\n",
    "        \n",
    "is_armstrong(153)"
   ]
  },
  {
   "cell_type": "code",
   "execution_count": 40,
   "id": "23ec073e",
   "metadata": {},
   "outputs": [],
   "source": [
    "# 5. Write a Python Program to Find Armstrong Number in an Interval?"
   ]
  },
  {
   "cell_type": "code",
   "execution_count": 41,
   "id": "e71af440",
   "metadata": {},
   "outputs": [
    {
     "data": {
      "text/plain": [
       "[1, 2, 3, 4, 5, 6, 7, 8, 9, 153, 370, 371, 407, 1634, 8208, 9474]"
      ]
     },
     "execution_count": 41,
     "metadata": {},
     "output_type": "execute_result"
    }
   ],
   "source": [
    "def is_armstrong(num):\n",
    "    \n",
    "    def multiply(digit,length):\n",
    "        result=1\n",
    "        for i in range(length):\n",
    "            result=result*int(digit)\n",
    "        return result\n",
    "        \n",
    "    str_num = str(num)\n",
    "    final=0\n",
    "    for i in str_num:\n",
    "        final=final+multiply(i, len(str_num))\n",
    "        \n",
    "    if final==num:\n",
    "        return True\n",
    "    else:\n",
    "        return False\n",
    "\n",
    "def find_aramstrong_number_in_interval(start, end):\n",
    "    armstrong_list=[]\n",
    "    for i in range(start, end):\n",
    "        result = is_armstrong(i)\n",
    "        if(result):\n",
    "            armstrong_list.append(i)\n",
    "            \n",
    "    return armstrong_list\n",
    "            \n",
    "find_aramstrong_number_in_interval(1, 10000)"
   ]
  },
  {
   "cell_type": "code",
   "execution_count": 42,
   "id": "10b63b07",
   "metadata": {},
   "outputs": [],
   "source": [
    "# 6. Write a Python Program to Find the Sum of Natural Numbers?"
   ]
  },
  {
   "cell_type": "code",
   "execution_count": 51,
   "id": "24ec10eb",
   "metadata": {},
   "outputs": [
    {
     "data": {
      "text/plain": [
       "15"
      ]
     },
     "execution_count": 51,
     "metadata": {},
     "output_type": "execute_result"
    }
   ],
   "source": [
    "def sum_of_natural_number(num):\n",
    "    add=0\n",
    "    for i in range(1,num+1):\n",
    "        add+=i\n",
    "        \n",
    "    return add\n",
    "\n",
    "sum_of_natural_number(5)"
   ]
  },
  {
   "cell_type": "code",
   "execution_count": null,
   "id": "1aa3682a",
   "metadata": {},
   "outputs": [],
   "source": []
  }
 ],
 "metadata": {
  "kernelspec": {
   "display_name": "Python 3 (ipykernel)",
   "language": "python",
   "name": "python3"
  },
  "language_info": {
   "codemirror_mode": {
    "name": "ipython",
    "version": 3
   },
   "file_extension": ".py",
   "mimetype": "text/x-python",
   "name": "python",
   "nbconvert_exporter": "python",
   "pygments_lexer": "ipython3",
   "version": "3.8.10"
  }
 },
 "nbformat": 4,
 "nbformat_minor": 5
}

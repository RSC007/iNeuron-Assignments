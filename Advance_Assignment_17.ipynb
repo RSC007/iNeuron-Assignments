{
 "cells": [
  {
   "cell_type": "code",
   "execution_count": 1,
   "metadata": {},
   "outputs": [],
   "source": [
    "# Q1. Explain the difference between greedy and non-greedy syntax with visual terms in as few words\n",
    "# as possible. What is the bare minimum effort required to transform a greedy pattern into a non-greedy\n",
    "# one? What characters or characters can you introduce or change?"
   ]
  },
  {
   "cell_type": "code",
   "execution_count": 2,
   "metadata": {},
   "outputs": [],
   "source": [
    "# A greedy quantifier such as ?, *, +, and {m,n} matches as many characters as possible (longest match).\n",
    "# For example, the regex 'a+' will match as many 'a's as possible in your string 'aaaa'—even though the\n",
    "# substrings 'a', 'aa', 'aaa' all match the regex 'a+'.\n",
    "\n",
    "# Definition Non-Greedy Quantifier:\n",
    "\n",
    "# A non-greedy quantifier such as ??, *?, +?, and {m,n}? matches as few characters as possible (shortest possible\n",
    "# match). For example, the regex 'a+?' will match as few 'a's as possible in your string 'aaaa'. Thus, it\n",
    "# matches the first character 'a' and is done with it."
   ]
  },
  {
   "cell_type": "code",
   "execution_count": 3,
   "metadata": {},
   "outputs": [],
   "source": [
    "# Q2. When exactly does greedy versus non-greedy make a difference?  What if you&#39;re looking for a\n",
    "# non-greedy match but the only one available is greedy?"
   ]
  },
  {
   "cell_type": "code",
   "execution_count": 4,
   "metadata": {},
   "outputs": [],
   "source": [
    "# It means the greedy quantifiers will match their preceding elements as much as possible to return to\n",
    "# the biggest match possible. On the other hand, the non-greedy quantifiers will match as little as possible \n",
    "# to return the smallest match possible."
   ]
  },
  {
   "cell_type": "code",
   "execution_count": 5,
   "metadata": {},
   "outputs": [],
   "source": [
    "# Q3. In a simple match of a string, which looks only for one match and does not do any replacement, is\n",
    "# the use of a nontagged group likely to make any practical difference?"
   ]
  },
  {
   "cell_type": "code",
   "execution_count": 6,
   "metadata": {},
   "outputs": [],
   "source": [
    "#  Time complexity of this problem depends on the implementation of strstr function. If the implementation of strstr is done using KMP matcher then complexity of the above program is O(n1 + n2) where n1 and n2 are lengths of strings. KMP matcher takes O(n) time to find a substring in a string of length n where length of substring is assumed to be smaller than the string. "
   ]
  },
  {
   "cell_type": "code",
   "execution_count": 7,
   "metadata": {},
   "outputs": [],
   "source": [
    "# Q4. Describe a scenario in which using a nontagged category would have a significant impact on the\n",
    "# program&#39;s outcomes."
   ]
  },
  {
   "cell_type": "code",
   "execution_count": 8,
   "metadata": {},
   "outputs": [],
   "source": [
    "# demonstratable/measurable (they use action verbs – e.g., explain, apply, interpret, create, design – to make concrete and explicit the actions and behaviors that graduates should be able to demonstrate)"
   ]
  },
  {
   "cell_type": "code",
   "execution_count": 9,
   "metadata": {},
   "outputs": [],
   "source": [
    "# Q5. Unlike a normal regex pattern, a look-ahead condition does not consume the characters it\n",
    "# examines. Describe a situation in which this could make a difference in the results of your\n",
    "# programme."
   ]
  },
  {
   "cell_type": "code",
   "execution_count": 10,
   "metadata": {},
   "outputs": [],
   "source": [
    "# Lookahead is used as an assertion in Python regular expressions to determine success or failure whether the pattern is ahead i.e to the right of the parser's current position. They don't match anything. Hence, they are called as zero-width assertions."
   ]
  },
  {
   "cell_type": "code",
   "execution_count": 11,
   "metadata": {},
   "outputs": [],
   "source": [
    "# Q6. In standard expressions, what is the difference between positive look-ahead and negative look-\n",
    "# ahead?"
   ]
  },
  {
   "cell_type": "code",
   "execution_count": 12,
   "metadata": {},
   "outputs": [],
   "source": [
    "# Sometimes we need to find only those matches for a pattern that are followed or preceded by another pattern.\n",
    "\n",
    "# There’s a special syntax for that, called “lookahead” and “lookbehind”, together referred to as “lookaround”."
   ]
  },
  {
   "cell_type": "code",
   "execution_count": 13,
   "metadata": {},
   "outputs": [],
   "source": [
    "# Q7. What is the benefit of referring to groups by name rather than by number in a standard\n",
    "# expression?"
   ]
  },
  {
   "cell_type": "code",
   "execution_count": 14,
   "metadata": {},
   "outputs": [],
   "source": [
    "# The advantage to named groups is that it adds readability and understandability to the code, so that you can easily see what part of a regular expression match is being referenced."
   ]
  },
  {
   "cell_type": "code",
   "execution_count": 15,
   "metadata": {},
   "outputs": [],
   "source": [
    "# Q8. Can you identify repeated items within a target string using named groups, as in &quot;The cow\n",
    "# jumped over the moon&quot;?"
   ]
  },
  {
   "cell_type": "code",
   "execution_count": 16,
   "metadata": {},
   "outputs": [],
   "source": [
    "# Capturing groups are a way to treat multiple characters as a single unit. They are created by placing the\n",
    "# characters to be grouped inside a set of parentheses. For example, the regular expression (dog) creates a single group containing the letters \"d\" \"o\" and \"g\" "
   ]
  },
  {
   "cell_type": "code",
   "execution_count": 17,
   "metadata": {},
   "outputs": [],
   "source": [
    "# Q9. When parsing a string, what is at least one thing that the Scanner interface does for you that the\n",
    "# re.findall feature does not?"
   ]
  },
  {
   "cell_type": "code",
   "execution_count": 18,
   "metadata": {},
   "outputs": [],
   "source": [
    "# The findall() function scans the string from left to right and finds all the matches of the pattern in the string . The result of the findall() function depends on the pattern: If the pattern has no capturing groups, the findall() function returns a list of strings that match the whole pattern."
   ]
  },
  {
   "cell_type": "code",
   "execution_count": 19,
   "metadata": {},
   "outputs": [],
   "source": [
    "# Q10. Does a scanner object have to be named scanner?"
   ]
  },
  {
   "cell_type": "code",
   "execution_count": 20,
   "metadata": {},
   "outputs": [],
   "source": [
    "# The Scanner class is used to get user input, and it is found in the java.util package."
   ]
  },
  {
   "cell_type": "code",
   "execution_count": null,
   "metadata": {},
   "outputs": [],
   "source": []
  }
 ],
 "metadata": {
  "kernelspec": {
   "display_name": "Python 3",
   "language": "python",
   "name": "python3"
  },
  "language_info": {
   "codemirror_mode": {
    "name": "ipython",
    "version": 3
   },
   "file_extension": ".py",
   "mimetype": "text/x-python",
   "name": "python",
   "nbconvert_exporter": "python",
   "pygments_lexer": "ipython3",
   "version": "3.7.3"
  }
 },
 "nbformat": 4,
 "nbformat_minor": 2
}

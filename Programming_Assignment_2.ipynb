{
 "cells": [
  {
   "cell_type": "code",
   "execution_count": 1,
   "id": "9d0901c0",
   "metadata": {},
   "outputs": [],
   "source": [
    "# 1. Write a Python program to convert kilometers to miles?"
   ]
  },
  {
   "cell_type": "code",
   "execution_count": 2,
   "id": "07d58bf3",
   "metadata": {},
   "outputs": [],
   "source": [
    "def kilometer_to_miles(kilometer):\n",
    "    return kilometer*0.621371"
   ]
  },
  {
   "cell_type": "code",
   "execution_count": 3,
   "id": "b2eb46ae",
   "metadata": {},
   "outputs": [
    {
     "data": {
      "text/plain": [
       "6.21371"
      ]
     },
     "execution_count": 3,
     "metadata": {},
     "output_type": "execute_result"
    }
   ],
   "source": [
    "kilometer_to_miles(10)"
   ]
  },
  {
   "cell_type": "code",
   "execution_count": 4,
   "id": "c3774d34",
   "metadata": {},
   "outputs": [],
   "source": [
    "# 2. Write a Python program to convert Celsius to Fahrenheit?"
   ]
  },
  {
   "cell_type": "code",
   "execution_count": 14,
   "id": "0b3fee5e",
   "metadata": {},
   "outputs": [],
   "source": [
    "def celsious_to_fahrenheit(celsius):\n",
    "    return ((celsius*1.8)+32)"
   ]
  },
  {
   "cell_type": "code",
   "execution_count": 15,
   "id": "41c65337",
   "metadata": {},
   "outputs": [
    {
     "data": {
      "text/plain": [
       "68.0"
      ]
     },
     "execution_count": 15,
     "metadata": {},
     "output_type": "execute_result"
    }
   ],
   "source": [
    "celsious_to_fahrenheit(20)"
   ]
  },
  {
   "cell_type": "code",
   "execution_count": 16,
   "id": "3dfe1d4b",
   "metadata": {},
   "outputs": [],
   "source": [
    "# 3. Write a Python program to display calendar?"
   ]
  },
  {
   "cell_type": "code",
   "execution_count": 17,
   "id": "7ae052f0",
   "metadata": {},
   "outputs": [],
   "source": [
    "import calendar\n",
    "\n",
    "def display_month(year, month):\n",
    "    return calendar.month(year, month)"
   ]
  },
  {
   "cell_type": "code",
   "execution_count": 19,
   "id": "62b9d771",
   "metadata": {},
   "outputs": [
    {
     "name": "stdout",
     "output_type": "stream",
     "text": [
      "     March 1998\n",
      "Mo Tu We Th Fr Sa Su\n",
      "                   1\n",
      " 2  3  4  5  6  7  8\n",
      " 9 10 11 12 13 14 15\n",
      "16 17 18 19 20 21 22\n",
      "23 24 25 26 27 28 29\n",
      "30 31\n",
      "\n"
     ]
    }
   ],
   "source": [
    "print(display_month(1998, 3))"
   ]
  },
  {
   "cell_type": "code",
   "execution_count": 20,
   "id": "f156be03",
   "metadata": {},
   "outputs": [],
   "source": [
    "# 4. Write a Python program to solve quadratic equation?"
   ]
  },
  {
   "cell_type": "code",
   "execution_count": 21,
   "id": "27afec95",
   "metadata": {},
   "outputs": [],
   "source": [
    "import cmath\n",
    "def quadratic(a,b,c):\n",
    "    d = (b**2) - (4*a*c)\n",
    "    sol1 = (-b-cmath.sqrt(d))/(2*a)\n",
    "    sol2 = (-b+cmath.sqrt(d))/(2*a)\n",
    "    return 'The solution are {0} and {1}'.format(sol1,sol2)"
   ]
  },
  {
   "cell_type": "code",
   "execution_count": 22,
   "id": "0f47e73a",
   "metadata": {},
   "outputs": [
    {
     "data": {
      "text/plain": [
       "'The solution are (-1-1.2909944487358056j) and (-1+1.2909944487358056j)'"
      ]
     },
     "execution_count": 22,
     "metadata": {},
     "output_type": "execute_result"
    }
   ],
   "source": [
    "quadratic(3,6,8)"
   ]
  },
  {
   "cell_type": "code",
   "execution_count": 23,
   "id": "5996e450",
   "metadata": {},
   "outputs": [],
   "source": [
    "# 5. Write a Python program to swap two variables without temp variable?"
   ]
  },
  {
   "cell_type": "code",
   "execution_count": 24,
   "id": "0176eca7",
   "metadata": {},
   "outputs": [],
   "source": [
    "a=10\n",
    "b=5\n",
    "a, b = b, a "
   ]
  },
  {
   "cell_type": "code",
   "execution_count": 25,
   "id": "7d1ce0c4",
   "metadata": {},
   "outputs": [
    {
     "data": {
      "text/plain": [
       "5"
      ]
     },
     "execution_count": 25,
     "metadata": {},
     "output_type": "execute_result"
    }
   ],
   "source": [
    "a"
   ]
  },
  {
   "cell_type": "code",
   "execution_count": null,
   "id": "bf297aaa",
   "metadata": {},
   "outputs": [],
   "source": []
  }
 ],
 "metadata": {
  "kernelspec": {
   "display_name": "Python 3 (ipykernel)",
   "language": "python",
   "name": "python3"
  },
  "language_info": {
   "codemirror_mode": {
    "name": "ipython",
    "version": 3
   },
   "file_extension": ".py",
   "mimetype": "text/x-python",
   "name": "python",
   "nbconvert_exporter": "python",
   "pygments_lexer": "ipython3",
   "version": "3.8.10"
  }
 },
 "nbformat": 4,
 "nbformat_minor": 5
}

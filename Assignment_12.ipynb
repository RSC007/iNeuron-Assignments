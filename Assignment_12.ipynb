{
 "cells": [
  {
   "cell_type": "code",
   "execution_count": 1,
   "id": "a3cd8029",
   "metadata": {},
   "outputs": [],
   "source": [
    "# 1. In what modes should the PdfFileReader() and PdfFileWriter() File objects will be opened?"
   ]
  },
  {
   "cell_type": "code",
   "execution_count": 1,
   "id": "b63d7813",
   "metadata": {},
   "outputs": [],
   "source": [
    "# Ans: PdfFileReader() needs to be opened in read-binary mode by passing 'rb' as the second argument to open().\n",
    "# Likewise, the File object passed to PyPDF2. PdfFileWriter() needs to be opened in write-binary mode with 'wb'."
   ]
  },
  {
   "cell_type": "code",
   "execution_count": 2,
   "id": "3ebdefcb",
   "metadata": {},
   "outputs": [],
   "source": [
    "# 2. From a PdfFileReader object, how do you get a Page object for page 5?"
   ]
  },
  {
   "cell_type": "code",
   "execution_count": 3,
   "id": "fcd1c246",
   "metadata": {},
   "outputs": [],
   "source": [
    "# Ans: object.getPage(5)"
   ]
  },
  {
   "cell_type": "code",
   "execution_count": 4,
   "id": "2942b972",
   "metadata": {},
   "outputs": [],
   "source": [
    "# 3. What PdfFileReader variable stores the number of pages in the PDF document?"
   ]
  },
  {
   "cell_type": "code",
   "execution_count": 5,
   "id": "a0eb1521",
   "metadata": {},
   "outputs": [],
   "source": [
    "# Ans : The total number of pages in the document is stored in the numPages attribute of a PdfFileReader object"
   ]
  },
  {
   "cell_type": "code",
   "execution_count": 6,
   "id": "558ccf9b",
   "metadata": {},
   "outputs": [],
   "source": [
    "# 4. If a PdfFileReader object’s PDF is encrypted with the password swordfish, what must you do\n",
    "# before you can obtain Page objects from it?"
   ]
  },
  {
   "cell_type": "code",
   "execution_count": 7,
   "id": "d72aadea",
   "metadata": {},
   "outputs": [],
   "source": [
    "# Ans: We have to read it first, then we can have the object"
   ]
  },
  {
   "cell_type": "code",
   "execution_count": 8,
   "id": "76eef050",
   "metadata": {},
   "outputs": [],
   "source": [
    "# 5. What methods do you use to rotate a page?"
   ]
  },
  {
   "cell_type": "code",
   "execution_count": 9,
   "id": "6af8f071",
   "metadata": {},
   "outputs": [],
   "source": [
    "# Ans : rotateClockwise()"
   ]
  },
  {
   "cell_type": "code",
   "execution_count": 10,
   "id": "5c1155df",
   "metadata": {},
   "outputs": [],
   "source": [
    "# 6. What is the difference between a Run object and a Paragraph object?"
   ]
  },
  {
   "cell_type": "code",
   "execution_count": 11,
   "id": "8bef95f1",
   "metadata": {},
   "outputs": [],
   "source": [
    "# 7. How do you obtain a list of Paragraph objects for a Document object that’s stored in a variable\n",
    "# named doc?"
   ]
  },
  {
   "cell_type": "code",
   "execution_count": 12,
   "id": "8600b391",
   "metadata": {},
   "outputs": [],
   "source": [
    "# Ans : data.split('\\u2029')\n",
    "    \n",
    "#     otherwise\n",
    "    \n",
    "#     splat = data.split(\"\\n\\n\")"
   ]
  },
  {
   "cell_type": "code",
   "execution_count": 13,
   "id": "03fb9dce",
   "metadata": {},
   "outputs": [],
   "source": [
    "# 8. What type of object has bold, underline, italic, strike, and outline variables?"
   ]
  },
  {
   "cell_type": "code",
   "execution_count": 14,
   "id": "bdc62f9d",
   "metadata": {},
   "outputs": [],
   "source": [
    "# 9. What is the difference between False, True, and None for the bold variable?"
   ]
  },
  {
   "cell_type": "code",
   "execution_count": 15,
   "id": "cd6259ab",
   "metadata": {},
   "outputs": [],
   "source": [
    "# True / False are used where the field takes a boolean value. None is used where the field takes an Optional[List] "
   ]
  },
  {
   "cell_type": "code",
   "execution_count": 16,
   "id": "e02adf6d",
   "metadata": {},
   "outputs": [],
   "source": [
    "# 10. How do you create a Document object for a new Word document?"
   ]
  },
  {
   "cell_type": "code",
   "execution_count": 17,
   "id": "fc63118f",
   "metadata": {},
   "outputs": [],
   "source": [
    "# doc = aw.Document()"
   ]
  },
  {
   "cell_type": "code",
   "execution_count": 18,
   "id": "068cd245",
   "metadata": {},
   "outputs": [],
   "source": [
    "# 11. How do you add a paragraph with the text 'Hello, there!' to a Document object stored in a\n",
    "# variable named doc?"
   ]
  },
  {
   "cell_type": "code",
   "execution_count": 19,
   "id": "7cfe8211",
   "metadata": {},
   "outputs": [],
   "source": [
    "# doc = aw.Document()"
   ]
  },
  {
   "cell_type": "code",
   "execution_count": 20,
   "id": "7a26e39b",
   "metadata": {},
   "outputs": [],
   "source": [
    "# 12. What integers represent the levels of headings available in Word documents?"
   ]
  },
  {
   "cell_type": "code",
   "execution_count": 21,
   "id": "46f60701",
   "metadata": {},
   "outputs": [],
   "source": [
    "# Use add_heading() with appropriate parameters to add heading"
   ]
  },
  {
   "cell_type": "code",
   "execution_count": null,
   "id": "bc58e51c",
   "metadata": {},
   "outputs": [],
   "source": []
  }
 ],
 "metadata": {
  "kernelspec": {
   "display_name": "Python 3 (ipykernel)",
   "language": "python",
   "name": "python3"
  },
  "language_info": {
   "codemirror_mode": {
    "name": "ipython",
    "version": 3
   },
   "file_extension": ".py",
   "mimetype": "text/x-python",
   "name": "python",
   "nbconvert_exporter": "python",
   "pygments_lexer": "ipython3",
   "version": "3.9.7"
  }
 },
 "nbformat": 4,
 "nbformat_minor": 5
}

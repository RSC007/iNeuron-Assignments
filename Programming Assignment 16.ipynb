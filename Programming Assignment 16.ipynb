{
 "cells": [
  {
   "cell_type": "code",
   "execution_count": 1,
   "id": "a2e71dff",
   "metadata": {},
   "outputs": [],
   "source": [
    "# Question1. Write a function that stutters a word as if someone is struggling to read it. The\n",
    "# first two letters are repeated twice with an ellipsis ... and space after each, and then the\n",
    "# word is pronounced with a question mark ?."
   ]
  },
  {
   "cell_type": "code",
   "execution_count": 3,
   "id": "7ac15ef8",
   "metadata": {},
   "outputs": [
    {
     "data": {
      "text/plain": [
       "'ru... ru... shikesh?'"
      ]
     },
     "execution_count": 3,
     "metadata": {},
     "output_type": "execute_result"
    }
   ],
   "source": [
    "def stutter(string):\n",
    "    words = string[:2]\n",
    "    output = (words+\"... \")*2 + string[2:]+\"?\"\n",
    "    return output \n",
    "    \n",
    "stutter(\"rushikesh\")"
   ]
  },
  {
   "cell_type": "code",
   "execution_count": 4,
   "id": "e3c633c1",
   "metadata": {},
   "outputs": [],
   "source": [
    "# Question 2.Create a function that takes an angle in radians and returns the corresponding\n",
    "# angle in degrees rounded to one decimal place."
   ]
  },
  {
   "cell_type": "code",
   "execution_count": 7,
   "id": "6703e09b",
   "metadata": {},
   "outputs": [
    {
     "data": {
      "text/plain": [
       "1145.9155902616465"
      ]
     },
     "execution_count": 7,
     "metadata": {},
     "output_type": "execute_result"
    }
   ],
   "source": [
    "import math\n",
    "def radians_to_degrees(redian):\n",
    "    return math.degrees(int(redian))\n",
    "\n",
    "radians_to_degrees(20)"
   ]
  },
  {
   "cell_type": "code",
   "execution_count": 8,
   "id": "d0350550",
   "metadata": {},
   "outputs": [],
   "source": [
    "# Question 3. In this challenge, establish if a given integer num is a Curzon number. If 1 plus\n",
    "# 2 elevated to num is exactly divisible by 1 plus 2 multiplied by num, then num is a Curzon\n",
    "# number.\n",
    "# Given a non-negative integer num, implement a function that returns True if num is a Curzon\n",
    "# number, or False otherwise."
   ]
  },
  {
   "cell_type": "code",
   "execution_count": 11,
   "id": "07eef11b",
   "metadata": {},
   "outputs": [
    {
     "data": {
      "text/plain": [
       "False"
      ]
     },
     "execution_count": 11,
     "metadata": {},
     "output_type": "execute_result"
    }
   ],
   "source": [
    "def is_curzon(number):\n",
    "    demoninator = 2**int(number) + 1\n",
    "    devident = 2*int(number) + 1\n",
    "    return demoninator%devident == 0\n",
    "\n",
    "is_curzon(10)"
   ]
  },
  {
   "cell_type": "code",
   "execution_count": 12,
   "id": "1f80c578",
   "metadata": {},
   "outputs": [],
   "source": [
    "# Question 4.Given the side length x find the area of a hexagon."
   ]
  },
  {
   "cell_type": "code",
   "execution_count": 14,
   "id": "0606537a",
   "metadata": {},
   "outputs": [
    {
     "data": {
      "text/plain": [
       "2.598076211353316"
      ]
     },
     "execution_count": 14,
     "metadata": {},
     "output_type": "execute_result"
    }
   ],
   "source": [
    "def area_of_hexagon(number):\n",
    "    result = (3*math.sqrt(3)*int(number)**2)/2\n",
    "    return result\n",
    "\n",
    "area_of_hexagon(1)"
   ]
  },
  {
   "cell_type": "code",
   "execution_count": 15,
   "id": "6240cd76",
   "metadata": {},
   "outputs": [],
   "source": [
    "# Question 5. Create a function that returns a base-2 (binary) representation of a base-10\n",
    "# (decimal) string number. To convert is simple: ((2) means base-2 and (10) means base-10)\n",
    "# 010101001(2) = 1 + 8 + 32 + 128.\n",
    "# Going from right to left, the value of the most right bit is 1, now from that every bit to the left\n",
    "# will be x2 the value, value of an 8 bit binary numbers are (256, 128, 64, 32, 16, 8, 4, 2, 1)."
   ]
  },
  {
   "cell_type": "code",
   "execution_count": 22,
   "id": "bd4a5c68",
   "metadata": {},
   "outputs": [
    {
     "data": {
      "text/plain": [
       "'101'"
      ]
     },
     "execution_count": 22,
     "metadata": {},
     "output_type": "execute_result"
    }
   ],
   "source": [
    "def binary(decimal):\n",
    "    return \"{0:b}\".format(int(decimal))\n",
    "\n",
    "binary(5)"
   ]
  },
  {
   "cell_type": "code",
   "execution_count": null,
   "id": "63bab2d3",
   "metadata": {},
   "outputs": [],
   "source": []
  }
 ],
 "metadata": {
  "kernelspec": {
   "display_name": "Python 3 (ipykernel)",
   "language": "python",
   "name": "python3"
  },
  "language_info": {
   "codemirror_mode": {
    "name": "ipython",
    "version": 3
   },
   "file_extension": ".py",
   "mimetype": "text/x-python",
   "name": "python",
   "nbconvert_exporter": "python",
   "pygments_lexer": "ipython3",
   "version": "3.8.10"
  }
 },
 "nbformat": 4,
 "nbformat_minor": 5
}

{
 "cells": [
  {
   "cell_type": "code",
   "execution_count": 1,
   "metadata": {},
   "outputs": [],
   "source": [
    "# Q1. What is a probability distribution, exactly? If the values are meant to be random, how can you\n",
    "# predict them at all?"
   ]
  },
  {
   "cell_type": "code",
   "execution_count": 3,
   "metadata": {},
   "outputs": [],
   "source": [
    "# Image result for Q1. What is a probability distribution, exactly? If the values are meant to be random, \n",
    "# how can you predict them at all? A probability distribution is a statistical function that describes all \n",
    "# the possible values and likelihoods that a random variable can take within a given range"
   ]
  },
  {
   "cell_type": "code",
   "execution_count": 4,
   "metadata": {},
   "outputs": [],
   "source": [
    "# Q2. Is there a distinction between true random numbers and pseudo-random numbers, if there is\n",
    "# one? Why are the latter considered “good enough”?"
   ]
  },
  {
   "cell_type": "code",
   "execution_count": 5,
   "metadata": {},
   "outputs": [],
   "source": [
    "# The difference between true random number generators(TRNGs) and pseudo-random number generators(PRNGs)\n",
    "# is that TRNGs use an unpredictable physical means to generate numbers (like atmospheric noise), and PRNGs\n",
    "# use mathematical algorithms (completely computer-generated)."
   ]
  },
  {
   "cell_type": "code",
   "execution_count": 6,
   "metadata": {},
   "outputs": [],
   "source": [
    "# Q3. What are the two main factors that influence the behaviour of a &quot;normal&quot; probability distribution?"
   ]
  },
  {
   "cell_type": "code",
   "execution_count": 7,
   "metadata": {},
   "outputs": [],
   "source": [
    "# The two main parameters of a (normal) distribution are the mean and standard deviation. \n",
    "# The parameters determine the shape and probabilities"
   ]
  },
  {
   "cell_type": "code",
   "execution_count": 8,
   "metadata": {},
   "outputs": [],
   "source": [
    "# Q4. Provide a real-life example of a normal distribution."
   ]
  },
  {
   "cell_type": "code",
   "execution_count": 9,
   "metadata": {},
   "outputs": [],
   "source": [
    "# A fair rolling of dice is also a good example of normal distribution. In an experiment, it has been found\n",
    "# that when a dice is rolled 100 times, chances to get '1' are 15-18% and if we roll the dice 1000 times, the\n",
    "# chances to get '1' is, again, the same, which averages to 16.7% (1/6)."
   ]
  },
  {
   "cell_type": "code",
   "execution_count": 10,
   "metadata": {},
   "outputs": [],
   "source": [
    "# Q5. In the short term, how can you expect a probability distribution to behave? What do you think will\n",
    "# happen as the number of trials grows?"
   ]
  },
  {
   "cell_type": "code",
   "execution_count": 11,
   "metadata": {},
   "outputs": [],
   "source": [
    "# A probability distribution is a statistical function that describes all the possible values and likelihoods\n",
    "# that a random variable can take within a given range."
   ]
  },
  {
   "cell_type": "code",
   "execution_count": 12,
   "metadata": {},
   "outputs": [],
   "source": [
    "# Q6. What kind of object can be shuffled by using random.shuffle?"
   ]
  },
  {
   "cell_type": "code",
   "execution_count": 13,
   "metadata": {},
   "outputs": [],
   "source": [
    "# When we say shuffle a list, it means a change in the order of list items. For example,\n",
    "# shuffle a list of cards. You'll learn the following "
   ]
  },
  {
   "cell_type": "code",
   "execution_count": 14,
   "metadata": {},
   "outputs": [],
   "source": [
    "# Q7. Describe the math package&#39;s general categories of functions."
   ]
  },
  {
   "cell_type": "code",
   "execution_count": 16,
   "metadata": {},
   "outputs": [],
   "source": [
    "# Functions are classified by the type of mathematical equation which represents their relationship. Some\n",
    "# functions are algebraic. Other functions like f(x) = sin x, deal with angles and are known as trigonometric.\n",
    "# Still other functions have logarithmic and exponential relationships and are classified as such."
   ]
  },
  {
   "cell_type": "code",
   "execution_count": 17,
   "metadata": {},
   "outputs": [],
   "source": [
    "# Q8. What is the relationship between exponentiation and logarithms?"
   ]
  },
  {
   "cell_type": "code",
   "execution_count": 18,
   "metadata": {},
   "outputs": [],
   "source": [
    "# Logarithmic functions are the inverses of exponential functions. The inverse of the exponential function\n",
    "# y = ax is x = ay. The logarithmic function y = logax is defined to be equivalent to the exponential equation x = ay."
   ]
  },
  {
   "cell_type": "code",
   "execution_count": 19,
   "metadata": {},
   "outputs": [],
   "source": [
    "# Q9. What are the three logarithmic functions that Python supports?"
   ]
  },
  {
   "cell_type": "code",
   "execution_count": null,
   "metadata": {},
   "outputs": [],
   "source": [
    "# Logarithmic functions are the inverses of exponential functions. The inverse of the exponential function y = ax is x = ay. The logarithmic function y = logax is defined to be equivalent to the exponential equation x = ay."
   ]
  }
 ],
 "metadata": {
  "kernelspec": {
   "display_name": "Python 3",
   "language": "python",
   "name": "python3"
  },
  "language_info": {
   "codemirror_mode": {
    "name": "ipython",
    "version": 3
   },
   "file_extension": ".py",
   "mimetype": "text/x-python",
   "name": "python",
   "nbconvert_exporter": "python",
   "pygments_lexer": "ipython3",
   "version": "3.7.3"
  }
 },
 "nbformat": 4,
 "nbformat_minor": 2
}

{
 "cells": [
  {
   "cell_type": "code",
   "execution_count": 1,
   "id": "a589c3a2",
   "metadata": {},
   "outputs": [],
   "source": [
    "# 1. What are escape characters, and how do you use them?"
   ]
  },
  {
   "cell_type": "code",
   "execution_count": 2,
   "id": "7e04a2fc",
   "metadata": {},
   "outputs": [],
   "source": [
    "# Ans : These are the illeagel chrectors which use for special purpose like new line, tab etc.\n",
    "# We can access these using \\ (backsplash)"
   ]
  },
  {
   "cell_type": "code",
   "execution_count": 3,
   "id": "c4c98c66",
   "metadata": {},
   "outputs": [],
   "source": [
    "# 2. What do the escape characters n and t stand for?"
   ]
  },
  {
   "cell_type": "code",
   "execution_count": 4,
   "id": "e3bd788c",
   "metadata": {},
   "outputs": [],
   "source": [
    "# Ans: n for new-line and t for tab"
   ]
  },
  {
   "cell_type": "code",
   "execution_count": 5,
   "id": "50c363e4",
   "metadata": {},
   "outputs": [],
   "source": [
    "# 3. What is the way to include backslash characters in a string?"
   ]
  },
  {
   "cell_type": "code",
   "execution_count": 6,
   "id": "72ce7850",
   "metadata": {},
   "outputs": [],
   "source": [
    "# Ans: Within the string literal single backslash include the carectors"
   ]
  },
  {
   "cell_type": "code",
   "execution_count": 7,
   "id": "10ab8a21",
   "metadata": {},
   "outputs": [],
   "source": [
    "# 4. The string \"Howl's Moving Castle\" is a correct value. Why isn't the single quote character in the\n",
    "# word Howl's not escaped a problem?"
   ]
  },
  {
   "cell_type": "code",
   "execution_count": 8,
   "id": "a068e1ad",
   "metadata": {},
   "outputs": [],
   "source": [
    "# Ans: The single quote in Howl's is fine because you've used double quotes to mark the beginning and end of the string"
   ]
  },
  {
   "cell_type": "code",
   "execution_count": 9,
   "id": "f84095d7",
   "metadata": {},
   "outputs": [],
   "source": [
    "# 5. How do you write a string of newlines if you don't want to use the n character?"
   ]
  },
  {
   "cell_type": "code",
   "execution_count": 10,
   "id": "844ee2b1",
   "metadata": {},
   "outputs": [],
   "source": [
    "# Ans : I will use end='\\n' for new line"
   ]
  },
  {
   "cell_type": "code",
   "execution_count": 13,
   "id": "ca84c70e",
   "metadata": {},
   "outputs": [
    {
     "data": {
      "text/plain": [
       "'lo, world!'"
      ]
     },
     "execution_count": 13,
     "metadata": {},
     "output_type": "execute_result"
    }
   ],
   "source": [
    "# 6. What are the values of the given expressions?\n",
    "'Hello, world!'[1]\n",
    "'Hello, world!'[0:5]\n",
    "'Hello, world!'[:5]\n",
    "'Hello, world!'[3:]"
   ]
  },
  {
   "cell_type": "code",
   "execution_count": 15,
   "id": "00c9bd88",
   "metadata": {},
   "outputs": [],
   "source": [
    "# Ans : 'e', 'Hello', 'Hello', 'lo, world'"
   ]
  },
  {
   "cell_type": "code",
   "execution_count": 5,
   "id": "ff80594f",
   "metadata": {},
   "outputs": [
    {
     "data": {
      "text/plain": [
       "'hello'"
      ]
     },
     "execution_count": 5,
     "metadata": {},
     "output_type": "execute_result"
    }
   ],
   "source": [
    "# 7. What are the values of the following expressions?\n",
    "'Hello'.upper()\n",
    "'Hello'.upper().isupper()\n",
    "'Hello'.upper().lower()"
   ]
  },
  {
   "cell_type": "code",
   "execution_count": 6,
   "id": "4a50486e",
   "metadata": {},
   "outputs": [],
   "source": [
    "# Ans : 'HELLO', True, 'hello'"
   ]
  },
  {
   "cell_type": "code",
   "execution_count": 9,
   "id": "83c60efc",
   "metadata": {},
   "outputs": [
    {
     "data": {
      "text/plain": [
       "'There-can-only-one.'"
      ]
     },
     "execution_count": 9,
     "metadata": {},
     "output_type": "execute_result"
    }
   ],
   "source": [
    "# 8. What are the values of the following expressions?\n",
    "'Remember, remember, the fifth of July.'.split()\n",
    "'-'.join('There can only one.'.split())"
   ]
  },
  {
   "cell_type": "code",
   "execution_count": 11,
   "id": "f9cde380",
   "metadata": {},
   "outputs": [],
   "source": [
    "# Ans: ['Remember,', 'remember,', 'the', 'fifth', 'of', 'July.'], 'There-can-only-one.'"
   ]
  },
  {
   "cell_type": "code",
   "execution_count": 12,
   "id": "70cf85c8",
   "metadata": {},
   "outputs": [],
   "source": [
    "# 9. What are the methods for right-justifying, left-justifying, and centering a string?"
   ]
  },
  {
   "cell_type": "code",
   "execution_count": 13,
   "id": "d81bd080",
   "metadata": {},
   "outputs": [],
   "source": [
    "# Ans: ljust(), rjust(), center()"
   ]
  },
  {
   "cell_type": "code",
   "execution_count": 14,
   "id": "f03b0927",
   "metadata": {},
   "outputs": [],
   "source": [
    "# 10. What is the best way to remove whitespace characters from the start or end?"
   ]
  },
  {
   "cell_type": "code",
   "execution_count": 16,
   "id": "9cc04fc6",
   "metadata": {},
   "outputs": [],
   "source": [
    "# Ans : strip()"
   ]
  },
  {
   "cell_type": "code",
   "execution_count": null,
   "id": "da8a4c0e",
   "metadata": {},
   "outputs": [],
   "source": []
  }
 ],
 "metadata": {
  "kernelspec": {
   "display_name": "Python 3 (ipykernel)",
   "language": "python",
   "name": "python3"
  },
  "language_info": {
   "codemirror_mode": {
    "name": "ipython",
    "version": 3
   },
   "file_extension": ".py",
   "mimetype": "text/x-python",
   "name": "python",
   "nbconvert_exporter": "python",
   "pygments_lexer": "ipython3",
   "version": "3.9.7"
  }
 },
 "nbformat": 4,
 "nbformat_minor": 5
}

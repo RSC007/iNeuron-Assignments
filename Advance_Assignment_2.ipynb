{
 "cells": [
  {
   "cell_type": "code",
   "execution_count": 2,
   "id": "dff5d42b",
   "metadata": {},
   "outputs": [],
   "source": [
    "# Q1. What is the relationship between classes and modules?"
   ]
  },
  {
   "cell_type": "code",
   "execution_count": 3,
   "id": "4aebf990",
   "metadata": {},
   "outputs": [],
   "source": [
    "# Ans : modules can containe one or more classes, and can be use in different .py"
   ]
  },
  {
   "cell_type": "code",
   "execution_count": 4,
   "id": "e7626044",
   "metadata": {},
   "outputs": [],
   "source": [
    "# Q2. How do you make instances and classes?"
   ]
  },
  {
   "cell_type": "code",
   "execution_count": 5,
   "id": "14eb2b90",
   "metadata": {},
   "outputs": [],
   "source": [
    "# Ans: An individual object of a certain class. An object obj that belongs to a class Circle, for example,\n",
    "# is an instance of the class Circle."
   ]
  },
  {
   "cell_type": "code",
   "execution_count": 6,
   "id": "04eb305b",
   "metadata": {},
   "outputs": [],
   "source": [
    "# Q3. Where and how should be class attributes created?"
   ]
  },
  {
   "cell_type": "code",
   "execution_count": 7,
   "id": "60e31234",
   "metadata": {},
   "outputs": [],
   "source": [
    "# Ans : class attributes are create inside the class which shared by each instance of that class object"
   ]
  },
  {
   "cell_type": "code",
   "execution_count": 8,
   "id": "fb21149b",
   "metadata": {},
   "outputs": [],
   "source": [
    "# Q4. Where and how are instance attributes created?"
   ]
  },
  {
   "cell_type": "code",
   "execution_count": 10,
   "id": "3d290f49",
   "metadata": {},
   "outputs": [],
   "source": [
    "# Ans : class attributes are create inside the class, It can be accessed by the className._attr_Name "
   ]
  },
  {
   "cell_type": "code",
   "execution_count": 11,
   "id": "23645b8d",
   "metadata": {},
   "outputs": [],
   "source": [
    "# Q5. What does the term 'self' in a Python class mean?"
   ]
  },
  {
   "cell_type": "code",
   "execution_count": 12,
   "id": "fd85006a",
   "metadata": {},
   "outputs": [],
   "source": [
    "# Ans: self is represent the class instance, by using which we can access the class attributes and functions"
   ]
  },
  {
   "cell_type": "code",
   "execution_count": 14,
   "id": "985a5dc5",
   "metadata": {},
   "outputs": [],
   "source": [
    "# Q6. How does a Python class handle operator overloading?"
   ]
  },
  {
   "cell_type": "code",
   "execution_count": 15,
   "id": "ee1534a4",
   "metadata": {},
   "outputs": [],
   "source": [
    "# Ans: Operator Overloading means giving extended meaning beyond their predefined operational meaning. \n",
    "# For example operator + is used to add two integers as well as join two strings and merge two lists.\n",
    "# It is achievable because '+' operator is overloaded by int class and str class"
   ]
  },
  {
   "cell_type": "code",
   "execution_count": 16,
   "id": "3511cc1d",
   "metadata": {},
   "outputs": [],
   "source": [
    "# Q7. When do you consider allowing operator overloading of your classes?"
   ]
  },
  {
   "cell_type": "code",
   "execution_count": 17,
   "id": "fef12ade",
   "metadata": {},
   "outputs": [],
   "source": [
    "# Ans: The purpose of operator overloading is to provide a special meaning of an operator for a user-defined data type"
   ]
  },
  {
   "cell_type": "code",
   "execution_count": 18,
   "id": "9de40cd7",
   "metadata": {},
   "outputs": [],
   "source": [
    "# Q8. What is the most popular form of operator overloading?"
   ]
  },
  {
   "cell_type": "code",
   "execution_count": 19,
   "id": "9c5d64f3",
   "metadata": {},
   "outputs": [],
   "source": [
    "# Ans: A very popular and convenient example is the Addition (+) operator. Just think how the '+' operator operates on\n",
    "# two numbers and the same operator operates on two strings. It performs “Addition” on numbers whereas it performs\n",
    "# “Concatenation” on strings"
   ]
  },
  {
   "cell_type": "code",
   "execution_count": 20,
   "id": "b8133fd9",
   "metadata": {},
   "outputs": [],
   "source": [
    "# Q9. What are the two most important concepts to grasp in order to comprehend Python OOP code?"
   ]
  },
  {
   "cell_type": "code",
   "execution_count": 22,
   "id": "6efaa81c",
   "metadata": {},
   "outputs": [],
   "source": [
    "# Ans: In this article, we will elaborate on two key concepts of OOP which are inheritance and polymorphism. Both\n",
    "# inheritance and polymorphism are key ingredients for designing robust, flexible, and easy-to-maintain software.\n",
    "# These concepts are best explained via examples."
   ]
  },
  {
   "cell_type": "code",
   "execution_count": null,
   "id": "a2ef0218",
   "metadata": {},
   "outputs": [],
   "source": []
  }
 ],
 "metadata": {
  "kernelspec": {
   "display_name": "Python 3 (ipykernel)",
   "language": "python",
   "name": "python3"
  },
  "language_info": {
   "codemirror_mode": {
    "name": "ipython",
    "version": 3
   },
   "file_extension": ".py",
   "mimetype": "text/x-python",
   "name": "python",
   "nbconvert_exporter": "python",
   "pygments_lexer": "ipython3",
   "version": "3.9.7"
  }
 },
 "nbformat": 4,
 "nbformat_minor": 5
}

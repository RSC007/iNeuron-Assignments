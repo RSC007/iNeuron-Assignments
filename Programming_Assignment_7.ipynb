{
 "cells": [
  {
   "cell_type": "code",
   "execution_count": 1,
   "id": "60249e80",
   "metadata": {},
   "outputs": [],
   "source": [
    "# 1. Write a Python Program to find sum of array?"
   ]
  },
  {
   "cell_type": "code",
   "execution_count": 3,
   "id": "4ee3e33e",
   "metadata": {},
   "outputs": [
    {
     "data": {
      "text/plain": [
       "22"
      ]
     },
     "execution_count": 3,
     "metadata": {},
     "output_type": "execute_result"
    }
   ],
   "source": [
    "def sum_of_array(arr):\n",
    "    if len(arr) == 0:\n",
    "        return \"Empty List\"\n",
    "    \n",
    "    sum = 0\n",
    "    for i in arr:\n",
    "        sum+=i\n",
    "    return sum\n",
    "\n",
    "sum_of_array([4,5,6,7])"
   ]
  },
  {
   "cell_type": "code",
   "execution_count": 5,
   "id": "32008607",
   "metadata": {},
   "outputs": [],
   "source": [
    "# 2. Write a Python Program to find largest element in an array?"
   ]
  },
  {
   "cell_type": "code",
   "execution_count": 9,
   "id": "ee77c7a2",
   "metadata": {},
   "outputs": [
    {
     "data": {
      "text/plain": [
       "109"
      ]
     },
     "execution_count": 9,
     "metadata": {},
     "output_type": "execute_result"
    }
   ],
   "source": [
    "def find_largest_num(arr):\n",
    "    large_num=0\n",
    "    for i in arr:\n",
    "        if i > large_num:\n",
    "            large_num=i\n",
    "            \n",
    "    return large_num\n",
    "#     return max(arr)\n",
    "\n",
    "find_largest_num([54,54,43,32, 109])"
   ]
  },
  {
   "cell_type": "code",
   "execution_count": 10,
   "id": "fd0697b8",
   "metadata": {},
   "outputs": [],
   "source": [
    "# 3. Write a Python Program for array rotation?"
   ]
  },
  {
   "cell_type": "code",
   "execution_count": 16,
   "id": "d68aba53",
   "metadata": {},
   "outputs": [
    {
     "data": {
      "text/plain": [
       "[4, 5, 6, 1, 2, 3]"
      ]
     },
     "execution_count": 16,
     "metadata": {},
     "output_type": "execute_result"
    }
   ],
   "source": [
    "def rotate_arr(arr, n):\n",
    "    temp=[]\n",
    "    result=[]\n",
    "    i=0\n",
    "    while i < n:\n",
    "        temp.append(arr[i])\n",
    "        i+=1\n",
    "        \n",
    "    result=arr[n:]\n",
    "    for i in temp:\n",
    "        result.append(i)\n",
    "    return result\n",
    "    \n",
    "rotate_arr([1,2,3,4,5,6], 3)"
   ]
  },
  {
   "cell_type": "code",
   "execution_count": 17,
   "id": "1d9cf8d3",
   "metadata": {},
   "outputs": [],
   "source": [
    "# 4. Write a Python Program to Split the array and add the first part to the end?"
   ]
  },
  {
   "cell_type": "code",
   "execution_count": 18,
   "id": "56513d50",
   "metadata": {},
   "outputs": [
    {
     "data": {
      "text/plain": [
       "[6, 7, 8, 9, 1, 2, 3, 4, 5]"
      ]
     },
     "execution_count": 18,
     "metadata": {},
     "output_type": "execute_result"
    }
   ],
   "source": [
    "def add_in_end(arr, split_index):\n",
    "    first_part = arr[:split_index]\n",
    "    last_part = arr[split_index:]\n",
    "    return last_part+first_part\n",
    "\n",
    "add_in_end([1,2,3,4,5,6,7,8,9], 5)"
   ]
  },
  {
   "cell_type": "code",
   "execution_count": 19,
   "id": "84ace13f",
   "metadata": {},
   "outputs": [],
   "source": [
    "# 5. Write a Python Program to check if given array is Monotonic?"
   ]
  },
  {
   "cell_type": "code",
   "execution_count": 25,
   "id": "6f296869",
   "metadata": {},
   "outputs": [
    {
     "data": {
      "text/plain": [
       "'Not Monotonic'"
      ]
     },
     "execution_count": 25,
     "metadata": {},
     "output_type": "execute_result"
    }
   ],
   "source": [
    "def isMonotonic(arr):\n",
    "    x, y = [], []\n",
    "    x.extend(arr)\n",
    "    y.extend(arr)\n",
    "    x.sort()\n",
    "    y.sort(reverse=True)\n",
    "    if arr == x or arr == y:\n",
    "        return \"Monotonic\"\n",
    "    else:\n",
    "        return \"Not Monotonic\"\n",
    "    \n",
    "isMonotonic([21,55,32,43])"
   ]
  },
  {
   "cell_type": "code",
   "execution_count": null,
   "id": "59374110",
   "metadata": {},
   "outputs": [],
   "source": []
  }
 ],
 "metadata": {
  "kernelspec": {
   "display_name": "Python 3 (ipykernel)",
   "language": "python",
   "name": "python3"
  },
  "language_info": {
   "codemirror_mode": {
    "name": "ipython",
    "version": 3
   },
   "file_extension": ".py",
   "mimetype": "text/x-python",
   "name": "python",
   "nbconvert_exporter": "python",
   "pygments_lexer": "ipython3",
   "version": "3.8.10"
  }
 },
 "nbformat": 4,
 "nbformat_minor": 5
}

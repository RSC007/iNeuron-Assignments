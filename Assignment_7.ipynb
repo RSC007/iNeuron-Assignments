{
 "cells": [
  {
   "cell_type": "code",
   "execution_count": 1,
   "id": "87c2cfe4",
   "metadata": {},
   "outputs": [],
   "source": [
    "# 1. What is the name of the feature responsible for generating Regex objects?"
   ]
  },
  {
   "cell_type": "code",
   "execution_count": 2,
   "id": "68f7c4b7",
   "metadata": {},
   "outputs": [],
   "source": [
    "# And : import re, re.complie() generate the regex object"
   ]
  },
  {
   "cell_type": "code",
   "execution_count": 3,
   "id": "575c67ea",
   "metadata": {},
   "outputs": [],
   "source": [
    "# 2. Why do raw strings often appear in Regex objects?"
   ]
  },
  {
   "cell_type": "code",
   "execution_count": 4,
   "id": "f2672460",
   "metadata": {},
   "outputs": [],
   "source": [
    "# Ans: Raw strings are used so that backslashes do not have to be escaped"
   ]
  },
  {
   "cell_type": "code",
   "execution_count": 5,
   "id": "fddfa042",
   "metadata": {},
   "outputs": [],
   "source": [
    "# 3. What is the return value of the search() method?"
   ]
  },
  {
   "cell_type": "code",
   "execution_count": 6,
   "id": "9b510c3a",
   "metadata": {},
   "outputs": [],
   "source": [
    "# Ans : It return match object"
   ]
  },
  {
   "cell_type": "code",
   "execution_count": 7,
   "id": "8a818f16",
   "metadata": {},
   "outputs": [],
   "source": [
    "# 4. From a Match item, how do you get the actual strings that match the pattern?"
   ]
  },
  {
   "cell_type": "code",
   "execution_count": 8,
   "id": "dc8ff70a",
   "metadata": {},
   "outputs": [],
   "source": [
    "# Ans: The group() method returns strings of the matched text."
   ]
  },
  {
   "cell_type": "code",
   "execution_count": 9,
   "id": "f0c438f2",
   "metadata": {},
   "outputs": [],
   "source": [
    "# 5. In the regex which created from the r'(\\d\\d\\d)-(\\d\\d\\d-\\d\\d\\d\\d)', what does group zero cover?\n",
    "# Group 2? Group 1?"
   ]
  },
  {
   "cell_type": "code",
   "execution_count": 10,
   "id": "5de14ac8",
   "metadata": {},
   "outputs": [],
   "source": [
    "# Ans : Group 0 match entire regex, Group 1 match first parentheses and Group 2 match the second parentheses"
   ]
  },
  {
   "cell_type": "code",
   "execution_count": 11,
   "id": "7db3c8ed",
   "metadata": {},
   "outputs": [],
   "source": [
    "# 6. In standard expression syntax, parentheses and intervals have distinct meanings. How can you tell\n",
    "# a regex that you want it to fit real parentheses and periods?"
   ]
  },
  {
   "cell_type": "code",
   "execution_count": 12,
   "id": "6ad4b40f",
   "metadata": {},
   "outputs": [],
   "source": [
    "# Ans: Periods and parentheses can be escaped with a backslash: \\., \\(, and \\)."
   ]
  },
  {
   "cell_type": "code",
   "execution_count": 13,
   "id": "77e44057",
   "metadata": {},
   "outputs": [],
   "source": [
    "# 7. The findall() method returns a string list or a list of string tuples. What causes it to return one of\n",
    "# the two options?"
   ]
  },
  {
   "cell_type": "code",
   "execution_count": 14,
   "id": "4af5742c",
   "metadata": {},
   "outputs": [],
   "source": [
    "# Ans : If regex not have any group then it return string, if it has group then it will return tuples os string"
   ]
  },
  {
   "cell_type": "code",
   "execution_count": 15,
   "id": "4c5a6b8e",
   "metadata": {},
   "outputs": [],
   "source": [
    "# 8. In standard expressions, what does the | character mean?"
   ]
  },
  {
   "cell_type": "code",
   "execution_count": 16,
   "id": "c6785113",
   "metadata": {},
   "outputs": [],
   "source": [
    "# Ans : or (optional)"
   ]
  },
  {
   "cell_type": "code",
   "execution_count": 17,
   "id": "b4db41ef",
   "metadata": {},
   "outputs": [],
   "source": [
    "# 9. In regular expressions, what does the character stand for?"
   ]
  },
  {
   "cell_type": "code",
   "execution_count": 18,
   "id": "5fb2fc12",
   "metadata": {},
   "outputs": [],
   "source": [
    "# Ans: \\w"
   ]
  },
  {
   "cell_type": "code",
   "execution_count": 19,
   "id": "17fd0155",
   "metadata": {},
   "outputs": [],
   "source": [
    "# 10.In regular expressions, what is the difference between the + and * characters?"
   ]
  },
  {
   "cell_type": "code",
   "execution_count": 20,
   "id": "a730f5c1",
   "metadata": {},
   "outputs": [],
   "source": [
    "# Ans: * it match 0 or more repetaion in regex, + match 1 or more "
   ]
  },
  {
   "cell_type": "code",
   "execution_count": 21,
   "id": "21a2063d",
   "metadata": {},
   "outputs": [],
   "source": [
    "# 11. What is the difference between {4} and {4,5} in regular expression?"
   ]
  },
  {
   "cell_type": "code",
   "execution_count": 22,
   "id": "1549f8e7",
   "metadata": {},
   "outputs": [],
   "source": [
    "# Ans : {4} in regex it match only 4 repeated string, {4,5} this say's that it will match 4 or 5 repeat in string"
   ]
  },
  {
   "cell_type": "code",
   "execution_count": 23,
   "id": "27cd1752",
   "metadata": {},
   "outputs": [],
   "source": [
    "# 12. What do you mean by the \\d, \\w, and \\s shorthand character classes signify in regular\n",
    "# expressions?"
   ]
  },
  {
   "cell_type": "code",
   "execution_count": 24,
   "id": "b0a93eda",
   "metadata": {},
   "outputs": [],
   "source": [
    "# Ans : \\d match the decimal in string, \\w match any string or number, \\s match whitespace or any newline or other"
   ]
  },
  {
   "cell_type": "code",
   "execution_count": 25,
   "id": "d235398f",
   "metadata": {},
   "outputs": [],
   "source": [
    "# 13. What do means by \\D, \\W, and \\S shorthand character classes signify in regular expressions?"
   ]
  },
  {
   "cell_type": "code",
   "execution_count": 26,
   "id": "9f32db80",
   "metadata": {},
   "outputs": [],
   "source": [
    "# Ans : \\W not match string and number, \\S not match whitespace and anyother backspace events, \\D not match decimal"
   ]
  },
  {
   "cell_type": "code",
   "execution_count": 27,
   "id": "3e0447c3",
   "metadata": {},
   "outputs": [],
   "source": [
    "# 14. What is the difference between .*? and .*?"
   ]
  },
  {
   "cell_type": "code",
   "execution_count": 28,
   "id": "8af1a5ce",
   "metadata": {},
   "outputs": [],
   "source": [
    "# Ans : there is no difference, both will match string as possible as"
   ]
  },
  {
   "cell_type": "code",
   "execution_count": 29,
   "id": "dd97f135",
   "metadata": {},
   "outputs": [],
   "source": [
    "# 15. What is the syntax for matching both numbers and lowercase letters with a character class?"
   ]
  },
  {
   "cell_type": "code",
   "execution_count": 30,
   "id": "b85c2577",
   "metadata": {},
   "outputs": [],
   "source": [
    "# Ans : [a-z0-9]"
   ]
  },
  {
   "cell_type": "code",
   "execution_count": 31,
   "id": "c9685963",
   "metadata": {},
   "outputs": [],
   "source": [
    "# 16. What is the procedure for making a normal expression in regax case insensitive?"
   ]
  },
  {
   "cell_type": "code",
   "execution_count": 32,
   "id": "f3cb9b6a",
   "metadata": {},
   "outputs": [],
   "source": [
    "# Ans: re.compile('test', flags=re.IGNORECASE)"
   ]
  },
  {
   "cell_type": "code",
   "execution_count": 33,
   "id": "93448844",
   "metadata": {},
   "outputs": [],
   "source": [
    "# 17. What does the . character normally match? What does it match if re.DOTALL is passed as 2nd\n",
    "# argument in re.compile()?"
   ]
  },
  {
   "cell_type": "code",
   "execution_count": 34,
   "id": "8d283ed7",
   "metadata": {},
   "outputs": [],
   "source": [
    "# Ans : . it match all charectors axcepting new line, with re.DOTALL it accept new line too"
   ]
  },
  {
   "cell_type": "code",
   "execution_count": 37,
   "id": "5f057f44",
   "metadata": {},
   "outputs": [
    {
     "data": {
      "text/plain": [
       "'X drummers, X pipers, five rings, X hen'"
      ]
     },
     "execution_count": 37,
     "metadata": {},
     "output_type": "execute_result"
    }
   ],
   "source": [
    "# 18. If numReg = re.compile(r'\\d+'), what will numRegex.sub('X', '11 drummers, 10 pipers, five rings, 4\n",
    "# hen') return?\n",
    "import re\n",
    "numReg = re.compile(r'\\d+')\n",
    "numReg.sub('X', '11 drummers, 10 pipers, five rings, 4 hen')"
   ]
  },
  {
   "cell_type": "code",
   "execution_count": 38,
   "id": "cb1149b4",
   "metadata": {},
   "outputs": [],
   "source": [
    "# Ans : 'X drummers, X pipers, five rings, X hen'"
   ]
  },
  {
   "cell_type": "code",
   "execution_count": 39,
   "id": "1aecd7f4",
   "metadata": {},
   "outputs": [],
   "source": [
    "# 19. What does passing re.VERBOSE as the 2nd argument to re.compile() allow to do?"
   ]
  },
  {
   "cell_type": "code",
   "execution_count": 40,
   "id": "2c433fb8",
   "metadata": {},
   "outputs": [],
   "source": [
    "# Ans: This flag allows you to write regular expressions that look nicer and are more readable by allowing you\n",
    "#     to visually separate logical sections of the pattern and add comments"
   ]
  },
  {
   "cell_type": "code",
   "execution_count": 41,
   "id": "e947a32a",
   "metadata": {},
   "outputs": [],
   "source": [
    "# 20. How would you write a regex that match a number with comma for every three digits? It must\n",
    "# match the given following:"
   ]
  },
  {
   "cell_type": "code",
   "execution_count": 42,
   "id": "cb6ee356",
   "metadata": {},
   "outputs": [],
   "source": [
    "# Ans : re.compile(r'\\d{1,3}(,\\d{3})*$')"
   ]
  },
  {
   "cell_type": "code",
   "execution_count": 43,
   "id": "25b26871",
   "metadata": {},
   "outputs": [],
   "source": [
    "# 21. How would you write a regex that matches the full name of someone whose last name is\n",
    "# Watanabe? You can assume that the first name that comes before it will always be one word that\n",
    "# begins with a capital letter. The regex must match the following:"
   ]
  },
  {
   "cell_type": "code",
   "execution_count": 44,
   "id": "9c33ebe1",
   "metadata": {},
   "outputs": [],
   "source": [
    "# Ans: re.compile(r'^[A-Z][A-Za-z]+\\sWatanabe')"
   ]
  },
  {
   "cell_type": "code",
   "execution_count": null,
   "id": "8fa1dde9",
   "metadata": {},
   "outputs": [],
   "source": []
  }
 ],
 "metadata": {
  "kernelspec": {
   "display_name": "Python 3 (ipykernel)",
   "language": "python",
   "name": "python3"
  },
  "language_info": {
   "codemirror_mode": {
    "name": "ipython",
    "version": 3
   },
   "file_extension": ".py",
   "mimetype": "text/x-python",
   "name": "python",
   "nbconvert_exporter": "python",
   "pygments_lexer": "ipython3",
   "version": "3.9.7"
  }
 },
 "nbformat": 4,
 "nbformat_minor": 5
}

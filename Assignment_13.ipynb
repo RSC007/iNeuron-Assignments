{
 "cells": [
  {
   "cell_type": "code",
   "execution_count": 1,
   "id": "7ff9e38b",
   "metadata": {},
   "outputs": [],
   "source": [
    "# 1. What advantages do Excel spreadsheets have over CSV spreadsheets?"
   ]
  },
  {
   "cell_type": "code",
   "execution_count": 2,
   "id": "d5662400",
   "metadata": {},
   "outputs": [],
   "source": [
    "# Ans : Excel is more superior when compared with the CSV file format; thus, CSV consumes less amount of file\n",
    "# size when the user is importing data; it is a much faster format compared to excel. CSV does not manipulate\n",
    "# data and stores it as-is. Excel also allows the user the add-in feature."
   ]
  },
  {
   "cell_type": "code",
   "execution_count": 4,
   "id": "b243bfbf",
   "metadata": {},
   "outputs": [],
   "source": [
    "# 2.What do you pass to csv.reader() and csv.writer() to create reader and writer objects??"
   ]
  },
  {
   "cell_type": "code",
   "execution_count": 6,
   "id": "26aebdae",
   "metadata": {},
   "outputs": [],
   "source": [
    "# Ans : csv.reader() in this command you'll give file row data and delemiter as seperator, these both as parameter\n",
    "# csv.writer() it return  write object, it take file as parameter, using write object you can add new rows"
   ]
  },
  {
   "cell_type": "code",
   "execution_count": 7,
   "id": "9ff33e82",
   "metadata": {},
   "outputs": [],
   "source": [
    "# 3. What modes do File objects for reader and writer objects need to be opened in?"
   ]
  },
  {
   "cell_type": "code",
   "execution_count": 8,
   "id": "18a8e018",
   "metadata": {},
   "outputs": [],
   "source": [
    "# Ans : r for reading mode and w for write mode"
   ]
  },
  {
   "cell_type": "code",
   "execution_count": 9,
   "id": "28e1f0ce",
   "metadata": {},
   "outputs": [],
   "source": [
    "# 4. What method takes a list argument and writes it to a CSV file?"
   ]
  },
  {
   "cell_type": "code",
   "execution_count": 10,
   "id": "cf3ce784",
   "metadata": {},
   "outputs": [],
   "source": [
    "# Ans : writerows()"
   ]
  },
  {
   "cell_type": "code",
   "execution_count": 11,
   "id": "a289baf0",
   "metadata": {},
   "outputs": [],
   "source": [
    "# 5. What do the keyword arguments delimiter and line terminator do?"
   ]
  },
  {
   "cell_type": "code",
   "execution_count": 12,
   "id": "910200af",
   "metadata": {},
   "outputs": [],
   "source": [
    "# Ans : The delimiter is the character that appears between cells on a row. By default, the delimiter for a CSV\n",
    "# file is a comma. The line terminator is the character that comes at the end of a row."
   ]
  },
  {
   "cell_type": "code",
   "execution_count": 13,
   "id": "d6def4c0",
   "metadata": {},
   "outputs": [],
   "source": [
    "# 6. What function takes a string of JSON data and returns a Python data structure?"
   ]
  },
  {
   "cell_type": "code",
   "execution_count": 15,
   "id": "22e655de",
   "metadata": {},
   "outputs": [],
   "source": [
    "# Ans : loads()"
   ]
  },
  {
   "cell_type": "code",
   "execution_count": 16,
   "id": "6f2f542e",
   "metadata": {},
   "outputs": [],
   "source": [
    "# 7. What function takes a Python data structure and returns a string of JSON data?"
   ]
  },
  {
   "cell_type": "code",
   "execution_count": 17,
   "id": "2cf442ec",
   "metadata": {},
   "outputs": [],
   "source": [
    "# Ans : loads()"
   ]
  },
  {
   "cell_type": "code",
   "execution_count": null,
   "id": "97e80f57",
   "metadata": {},
   "outputs": [],
   "source": []
  }
 ],
 "metadata": {
  "kernelspec": {
   "display_name": "Python 3 (ipykernel)",
   "language": "python",
   "name": "python3"
  },
  "language_info": {
   "codemirror_mode": {
    "name": "ipython",
    "version": 3
   },
   "file_extension": ".py",
   "mimetype": "text/x-python",
   "name": "python",
   "nbconvert_exporter": "python",
   "pygments_lexer": "ipython3",
   "version": "3.9.7"
  }
 },
 "nbformat": 4,
 "nbformat_minor": 5
}

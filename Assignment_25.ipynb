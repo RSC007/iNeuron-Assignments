{
 "cells": [
  {
   "cell_type": "code",
   "execution_count": 1,
   "id": "3cf76d0f",
   "metadata": {},
   "outputs": [],
   "source": [
    "# 1) . What is the difference between enclosing a list comprehension in square brackets and parentheses?"
   ]
  },
  {
   "cell_type": "code",
   "execution_count": 2,
   "id": "8f0a84ef",
   "metadata": {},
   "outputs": [],
   "source": [
    "# Square brackets are lists while parentheses are tuples"
   ]
  },
  {
   "cell_type": "code",
   "execution_count": 3,
   "id": "c345e6d0",
   "metadata": {},
   "outputs": [],
   "source": [
    "# 2) What is the relationship between generators and iterators?"
   ]
  },
  {
   "cell_type": "code",
   "execution_count": 4,
   "id": "a7866266",
   "metadata": {},
   "outputs": [],
   "source": [
    "# Ans : both work like loop, iter() takes the object and convert for iterator, where in generator we use for loop and yield() \n",
    "# every iterator is not generator but every generator is iterator"
   ]
  },
  {
   "cell_type": "code",
   "execution_count": 5,
   "id": "db074abc",
   "metadata": {},
   "outputs": [],
   "source": [
    "# 3) What are the signs that a function is a generator function?"
   ]
  },
  {
   "cell_type": "code",
   "execution_count": 6,
   "id": "3f13d461",
   "metadata": {},
   "outputs": [],
   "source": [
    "# funtion that contain atleast one yield"
   ]
  },
  {
   "cell_type": "code",
   "execution_count": 7,
   "id": "13b1806f",
   "metadata": {},
   "outputs": [],
   "source": [
    "# 4) What is the purpose of a yield statement?"
   ]
  },
  {
   "cell_type": "code",
   "execution_count": 8,
   "id": "026061b9",
   "metadata": {},
   "outputs": [],
   "source": [
    "# Ans : The yield statement suspends function's execution and sends a value back to the caller,\n",
    "#     but retains enough state to enable function to resume where it is left off. When resumed,\n",
    "#     the function continues execution immediately after the last yield run"
   ]
  },
  {
   "cell_type": "code",
   "execution_count": 9,
   "id": "087d315f",
   "metadata": {},
   "outputs": [],
   "source": [
    "# 5) What is the relationship between map calls and list comprehensions? Make a comparison and contrast between the two."
   ]
  },
  {
   "cell_type": "code",
   "execution_count": 10,
   "id": "bfbd461f",
   "metadata": {},
   "outputs": [],
   "source": [
    "# Ans : List comprehension is more concise and easier to read as compared to map.\n",
    "# List comprehension are used when a list of results is required as map only returns a\n",
    "# map object and does not return any list. Map is faster in case of calling an already defined function"
   ]
  },
  {
   "cell_type": "code",
   "execution_count": null,
   "id": "8c1ba7be",
   "metadata": {},
   "outputs": [],
   "source": []
  }
 ],
 "metadata": {
  "kernelspec": {
   "display_name": "Python 3 (ipykernel)",
   "language": "python",
   "name": "python3"
  },
  "language_info": {
   "codemirror_mode": {
    "name": "ipython",
    "version": 3
   },
   "file_extension": ".py",
   "mimetype": "text/x-python",
   "name": "python",
   "nbconvert_exporter": "python",
   "pygments_lexer": "ipython3",
   "version": "3.9.7"
  }
 },
 "nbformat": 4,
 "nbformat_minor": 5
}

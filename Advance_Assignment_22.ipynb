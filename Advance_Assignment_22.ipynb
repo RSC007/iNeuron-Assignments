{
 "cells": [
  {
   "cell_type": "code",
   "execution_count": 1,
   "id": "425fa4f0",
   "metadata": {},
   "outputs": [],
   "source": [
    "# Q1. What are the benefits of the built-in array package, if any?"
   ]
  },
  {
   "cell_type": "code",
   "execution_count": 2,
   "id": "1488e2a7",
   "metadata": {},
   "outputs": [],
   "source": [
    "# Get the Type Code. \n",
    "# Get Size of Array Item. \n",
    "# Count the Number of Occurrences. \n",
    "# Append and Extend. \n",
    "# Manipulating the Index. \n",
    "# Array to List."
   ]
  },
  {
   "cell_type": "code",
   "execution_count": 3,
   "id": "dfd67b78",
   "metadata": {},
   "outputs": [],
   "source": [
    "# Q2. What are some of the array package&#39;s limitations?"
   ]
  },
  {
   "cell_type": "code",
   "execution_count": 6,
   "id": "7566ec68",
   "metadata": {},
   "outputs": [],
   "source": [
    "# An array which is formed will be homogeneous. That is, in an integer array only integer values can be stored,\n",
    "# while in a float array only floating value and character array can have only characters. Thus, no array\n",
    "# can have values of two data types."
   ]
  },
  {
   "cell_type": "code",
   "execution_count": 7,
   "id": "0e7d4acc",
   "metadata": {},
   "outputs": [],
   "source": [
    "# Q3. Describe the main differences between the array and numpy packages."
   ]
  },
  {
   "cell_type": "code",
   "execution_count": 8,
   "id": "533bb7d3",
   "metadata": {},
   "outputs": [],
   "source": [
    "# A numpy array is a grid of values, all of the same type, and is indexed by a tuple of nonnegative integers.\n",
    "# The number of dimensions is the rank of the array; the shape of an array is a tuple of integers giving the\n",
    "# size of the array along each dimension. The Python core library provided Lists."
   ]
  },
  {
   "cell_type": "code",
   "execution_count": 9,
   "id": "f26d2963",
   "metadata": {},
   "outputs": [],
   "source": [
    "# Q4. Explain the distinctions between the empty, ones, and zeros functions."
   ]
  },
  {
   "cell_type": "code",
   "execution_count": 10,
   "id": "1eb11458",
   "metadata": {},
   "outputs": [],
   "source": [
    "# empty, unlike zeros, does not set the array values to zero, and may therefore be marginally faster. On the\n",
    "# other hand, it requires the user to manually set all the values in the array, and should be used with caution."
   ]
  },
  {
   "cell_type": "code",
   "execution_count": 11,
   "id": "15508374",
   "metadata": {},
   "outputs": [],
   "source": [
    "# Q5. In the fromfunction function, which is used to construct new arrays, what is the role of the callable\n",
    "# argument?"
   ]
  },
  {
   "cell_type": "code",
   "execution_count": 12,
   "id": "0a2f41c6",
   "metadata": {},
   "outputs": [],
   "source": [
    "# A callback function is a function passed into another function as an argument, which is then invoked inside the\n",
    "# outer function to complete some kind of routine or action. The above example is a synchronous callback, as it is executed immediately"
   ]
  },
  {
   "cell_type": "code",
   "execution_count": 13,
   "id": "23c87d5c",
   "metadata": {},
   "outputs": [],
   "source": [
    "# Q6. What happens when a numpy array is combined with a single-value operand (a scalar, such as\n",
    "# an int or a floating-point value) through addition, as in the expression A + n?"
   ]
  },
  {
   "cell_type": "code",
   "execution_count": 14,
   "id": "6a9d94b5",
   "metadata": {},
   "outputs": [],
   "source": [
    "# It n will combine with each element in array "
   ]
  },
  {
   "cell_type": "code",
   "execution_count": 15,
   "id": "b1a144d9",
   "metadata": {},
   "outputs": [],
   "source": [
    "# Q7. Can array-to-scalar operations use combined operation-assign operators (such as += or *=)?\n",
    "# What is the outcome?"
   ]
  },
  {
   "cell_type": "code",
   "execution_count": 16,
   "id": "20248e86",
   "metadata": {},
   "outputs": [],
   "source": [
    "# It will return new array"
   ]
  },
  {
   "cell_type": "code",
   "execution_count": 17,
   "id": "d1043d03",
   "metadata": {},
   "outputs": [],
   "source": [
    "# Q8. Does a numpy array contain fixed-length strings? What happens if you allocate a longer string to\n",
    "# one of these arrays?"
   ]
  },
  {
   "cell_type": "code",
   "execution_count": 18,
   "id": "8fc0cf7c",
   "metadata": {},
   "outputs": [],
   "source": [
    "# NumPy arrays have a fixed size at creation, unlike Python lists (which can grow dynamically).\n",
    "# Changing the size of an ndarray will create a new array and delete the original. The elements in a NumPy\n",
    "# array are all required to be of the same data type, and thus will be the same size in memory."
   ]
  },
  {
   "cell_type": "code",
   "execution_count": 19,
   "id": "04db6c32",
   "metadata": {},
   "outputs": [],
   "source": [
    "# Q9. What happens when you combine two numpy arrays using an operation like addition (+) or\n",
    "# multiplication (*)? What are the conditions for combining two numpy arrays?"
   ]
  },
  {
   "cell_type": "code",
   "execution_count": 20,
   "id": "7cc54a34",
   "metadata": {},
   "outputs": [],
   "source": [
    "# You can use the numpy. concatenate() function to concat, merge, or join a sequence of two or multiple arrays\n",
    "# into a single NumPy array. Concatenation refers to putting the contents of two or more arrays in a single array."
   ]
  },
  {
   "cell_type": "code",
   "execution_count": 21,
   "id": "7668a092",
   "metadata": {},
   "outputs": [],
   "source": [
    "# Q10. What is the best way to use a Boolean array to mask another array?"
   ]
  },
  {
   "cell_type": "code",
   "execution_count": 22,
   "id": "1b142bfd",
   "metadata": {},
   "outputs": [],
   "source": [
    "# To create a boolean mask from an array, use the ma. make_mask() method in Python Numpy. The function can accept\n",
    "# any sequence that is convertible to integers, or nomask. Does not require that contents must be 0s and 1s,\n",
    "# values of 0 are interpreted as False, everything else as True"
   ]
  },
  {
   "cell_type": "code",
   "execution_count": 23,
   "id": "47f80400",
   "metadata": {},
   "outputs": [],
   "source": [
    "# Q11. What are three different ways to get the standard deviation of a wide collection of data using\n",
    "# both standard Python and its packages? Sort the three of them by how quickly they execute."
   ]
  },
  {
   "cell_type": "code",
   "execution_count": 26,
   "id": "bb5fed43",
   "metadata": {},
   "outputs": [],
   "source": [
    "arr1 = [10, 16, 8, 22]\n",
    " \n",
    "arr2 = [12, 18, 12, 14]\n",
    "\n",
    "from statistics import mean\n",
    "\n",
    "mean(arr1), mean(arr2)\n",
    "\n",
    "def mean(arr):\n",
    "    sum = 0;\n",
    "    for i in range(len(arr)):\n",
    "        sum += arr[i]\n",
    "    return sum / len(arr)"
   ]
  },
  {
   "cell_type": "code",
   "execution_count": 27,
   "id": "f942ef67",
   "metadata": {},
   "outputs": [],
   "source": [
    "# 12. What is the dimensionality of a Boolean mask-generated array?"
   ]
  },
  {
   "cell_type": "code",
   "execution_count": null,
   "id": "79bb2647",
   "metadata": {},
   "outputs": [],
   "source": []
  }
 ],
 "metadata": {
  "kernelspec": {
   "display_name": "Python 3 (ipykernel)",
   "language": "python",
   "name": "python3"
  },
  "language_info": {
   "codemirror_mode": {
    "name": "ipython",
    "version": 3
   },
   "file_extension": ".py",
   "mimetype": "text/x-python",
   "name": "python",
   "nbconvert_exporter": "python",
   "pygments_lexer": "ipython3",
   "version": "3.8.10"
  }
 },
 "nbformat": 4,
 "nbformat_minor": 5
}
